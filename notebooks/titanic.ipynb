{
 "cells": [
  {
   "cell_type": "markdown",
   "id": "372a71c6",
   "metadata": {},
   "source": [
    "# Beginner-Friendly Machine Learning Tutorial: Titanic Dataset\n",
    "\n",
    "Welcome! This notebook will guide you step-by-step through a hands-on machine learning workflow using the Titanic dataset. You will learn how to:\n",
    "\n",
    "- Load and explore data\n",
    "- Preprocess and clean data\n",
    "- Build and evaluate a machine learning model\n",
    "- Visualize results\n",
    "\n",
    "Let's get started!"
   ]
  },
  {
   "cell_type": "code",
   "execution_count": 1,
   "id": "b16bd88f",
   "metadata": {},
   "outputs": [],
   "source": [
    "# Add project root to sys.path so we can import custom modules from anywhere\n",
    "import sys\n",
    "import os\n",
    "\n",
    "project_root = os.path.abspath(os.path.join(os.getcwd(), '..'))\n",
    "if project_root not in sys.path:\n",
    "    sys.path.insert(0, project_root)"
   ]
  },
  {
   "cell_type": "markdown",
   "id": "c911b92c",
   "metadata": {},
   "source": [
    "## 1. Setup: Import Libraries and Configure Environment\n",
    "\n",
    "Let's import the necessary Python libraries and set up our environment."
   ]
  },
  {
   "cell_type": "code",
   "execution_count": 2,
   "id": "e30ee8ba",
   "metadata": {},
   "outputs": [],
   "source": [
    "import seaborn as sns\n",
    "import matplotlib.pyplot as plt\n",
    "import numpy as np\n",
    "import pandas as pd\n",
    "from sklearn.model_selection import train_test_split\n",
    "from sklearn.metrics import classification_report, confusion_matrix\n",
    "from src.utility import *\n",
    "from sklearn.pipeline import Pipeline\n",
    "from sklearn.ensemble import RandomForestClassifier"
   ]
  },
  {
   "cell_type": "markdown",
   "id": "690524a0",
   "metadata": {},
   "source": [
    "### About the Custom Machine Learning Classes\n",
    "\n",
    "This notebook uses several custom classes from `utility.py` to simplify and enhance the machine learning workflow:\n",
    "\n",
    "- **FeatureEngineeringSelector**: Flexible feature selection and engineering.\n",
    "- **DataFramePreprocessor**: Handles missing values, scaling, encoding, and duplicate removal.\n",
    "- **GraphAnalyzerEngine**: Analyzes feature importances and relationships.\n",
    "- **VisualizerFactory**: Provides advanced visualizations.\n",
    "\n",
    "These tools make the machine learning process more accessible and interpretable."
   ]
  },
  {
   "cell_type": "markdown",
   "id": "96803657",
   "metadata": {},
   "source": [
    "## 2. Load and Explore the Titanic Dataset\n",
    "\n",
    "The Titanic dataset contains information about passengers and whether they survived. Let's load the data and take a first look."
   ]
  },
  {
   "cell_type": "code",
   "execution_count": 3,
   "id": "947d2c60",
   "metadata": {},
   "outputs": [
    {
     "data": {
      "text/html": [
       "<div>\n",
       "<style scoped>\n",
       "    .dataframe tbody tr th:only-of-type {\n",
       "        vertical-align: middle;\n",
       "    }\n",
       "\n",
       "    .dataframe tbody tr th {\n",
       "        vertical-align: top;\n",
       "    }\n",
       "\n",
       "    .dataframe thead th {\n",
       "        text-align: right;\n",
       "    }\n",
       "</style>\n",
       "<table border=\"1\" class=\"dataframe\">\n",
       "  <thead>\n",
       "    <tr style=\"text-align: right;\">\n",
       "      <th></th>\n",
       "      <th>survived</th>\n",
       "      <th>pclass</th>\n",
       "      <th>sex</th>\n",
       "      <th>age</th>\n",
       "      <th>sibsp</th>\n",
       "      <th>parch</th>\n",
       "      <th>fare</th>\n",
       "      <th>embarked</th>\n",
       "      <th>class</th>\n",
       "      <th>who</th>\n",
       "      <th>adult_male</th>\n",
       "      <th>deck</th>\n",
       "      <th>embark_town</th>\n",
       "      <th>alive</th>\n",
       "      <th>alone</th>\n",
       "    </tr>\n",
       "  </thead>\n",
       "  <tbody>\n",
       "    <tr>\n",
       "      <th>0</th>\n",
       "      <td>0</td>\n",
       "      <td>3</td>\n",
       "      <td>male</td>\n",
       "      <td>22.0</td>\n",
       "      <td>1</td>\n",
       "      <td>0</td>\n",
       "      <td>7.2500</td>\n",
       "      <td>S</td>\n",
       "      <td>Third</td>\n",
       "      <td>man</td>\n",
       "      <td>True</td>\n",
       "      <td>NaN</td>\n",
       "      <td>Southampton</td>\n",
       "      <td>no</td>\n",
       "      <td>False</td>\n",
       "    </tr>\n",
       "    <tr>\n",
       "      <th>1</th>\n",
       "      <td>1</td>\n",
       "      <td>1</td>\n",
       "      <td>female</td>\n",
       "      <td>38.0</td>\n",
       "      <td>1</td>\n",
       "      <td>0</td>\n",
       "      <td>71.2833</td>\n",
       "      <td>C</td>\n",
       "      <td>First</td>\n",
       "      <td>woman</td>\n",
       "      <td>False</td>\n",
       "      <td>C</td>\n",
       "      <td>Cherbourg</td>\n",
       "      <td>yes</td>\n",
       "      <td>False</td>\n",
       "    </tr>\n",
       "    <tr>\n",
       "      <th>2</th>\n",
       "      <td>1</td>\n",
       "      <td>3</td>\n",
       "      <td>female</td>\n",
       "      <td>26.0</td>\n",
       "      <td>0</td>\n",
       "      <td>0</td>\n",
       "      <td>7.9250</td>\n",
       "      <td>S</td>\n",
       "      <td>Third</td>\n",
       "      <td>woman</td>\n",
       "      <td>False</td>\n",
       "      <td>NaN</td>\n",
       "      <td>Southampton</td>\n",
       "      <td>yes</td>\n",
       "      <td>True</td>\n",
       "    </tr>\n",
       "    <tr>\n",
       "      <th>3</th>\n",
       "      <td>1</td>\n",
       "      <td>1</td>\n",
       "      <td>female</td>\n",
       "      <td>35.0</td>\n",
       "      <td>1</td>\n",
       "      <td>0</td>\n",
       "      <td>53.1000</td>\n",
       "      <td>S</td>\n",
       "      <td>First</td>\n",
       "      <td>woman</td>\n",
       "      <td>False</td>\n",
       "      <td>C</td>\n",
       "      <td>Southampton</td>\n",
       "      <td>yes</td>\n",
       "      <td>False</td>\n",
       "    </tr>\n",
       "    <tr>\n",
       "      <th>4</th>\n",
       "      <td>0</td>\n",
       "      <td>3</td>\n",
       "      <td>male</td>\n",
       "      <td>35.0</td>\n",
       "      <td>0</td>\n",
       "      <td>0</td>\n",
       "      <td>8.0500</td>\n",
       "      <td>S</td>\n",
       "      <td>Third</td>\n",
       "      <td>man</td>\n",
       "      <td>True</td>\n",
       "      <td>NaN</td>\n",
       "      <td>Southampton</td>\n",
       "      <td>no</td>\n",
       "      <td>True</td>\n",
       "    </tr>\n",
       "  </tbody>\n",
       "</table>\n",
       "</div>"
      ],
      "text/plain": [
       "   survived  pclass     sex   age  sibsp  parch     fare embarked  class  \\\n",
       "0         0       3    male  22.0      1      0   7.2500        S  Third   \n",
       "1         1       1  female  38.0      1      0  71.2833        C  First   \n",
       "2         1       3  female  26.0      0      0   7.9250        S  Third   \n",
       "3         1       1  female  35.0      1      0  53.1000        S  First   \n",
       "4         0       3    male  35.0      0      0   8.0500        S  Third   \n",
       "\n",
       "     who  adult_male deck  embark_town alive  alone  \n",
       "0    man        True  NaN  Southampton    no  False  \n",
       "1  woman       False    C    Cherbourg   yes  False  \n",
       "2  woman       False  NaN  Southampton   yes   True  \n",
       "3  woman       False    C  Southampton   yes  False  \n",
       "4    man        True  NaN  Southampton    no   True  "
      ]
     },
     "execution_count": 3,
     "metadata": {},
     "output_type": "execute_result"
    }
   ],
   "source": [
    "titanic = sns.load_dataset('titanic')\n",
    "titanic.head()"
   ]
  },
  {
   "cell_type": "markdown",
   "id": "647d7364",
   "metadata": {},
   "source": [
    "## 3. Data Preprocessing: Feature Selection and Cleaning\n",
    "\n",
    "To prepare our data for machine learning, we need to:\n",
    "- Separate features (inputs) from the target (output)\n",
    "- Clean and preprocess the data (handle missing values, encode categories, etc.)\n",
    "\n",
    "**Note:** The ['sex', 'embarked', 'who', 'embark_town', 'alive', 'class', 'deck'] columns are categorical and will be encoded.\n"
   ]
  },
  {
   "cell_type": "code",
   "execution_count": 4,
   "id": "3a654b2d",
   "metadata": {},
   "outputs": [
    {
     "name": "stdout",
     "output_type": "stream",
     "text": [
      "Label Mapping: {'sex': {0: 'female', 1: 'male'}, 'embarked': {0: 'C', 1: 'Q', 2: 'S', 3: 'nan'}, 'who': {0: 'child', 1: 'man', 2: 'woman'}, 'embark_town': {0: 'Cherbourg', 1: 'Queenstown', 2: 'Southampton', 3: 'nan'}, 'alive': {0: 'no', 1: 'yes'}, 'class': {0: 'First', 1: 'Second', 2: 'Third'}, 'deck': {0: 'A', 1: 'B', 2: 'C', 3: 'D', 4: 'E', 5: 'F', 6: 'G', 7: 'nan'}}\n"
     ]
    },
    {
     "data": {
      "text/html": [
       "<div>\n",
       "<style scoped>\n",
       "    .dataframe tbody tr th:only-of-type {\n",
       "        vertical-align: middle;\n",
       "    }\n",
       "\n",
       "    .dataframe tbody tr th {\n",
       "        vertical-align: top;\n",
       "    }\n",
       "\n",
       "    .dataframe thead th {\n",
       "        text-align: right;\n",
       "    }\n",
       "</style>\n",
       "<table border=\"1\" class=\"dataframe\">\n",
       "  <thead>\n",
       "    <tr style=\"text-align: right;\">\n",
       "      <th></th>\n",
       "      <th>survived</th>\n",
       "      <th>pclass</th>\n",
       "      <th>sex</th>\n",
       "      <th>age</th>\n",
       "      <th>sibsp</th>\n",
       "      <th>parch</th>\n",
       "      <th>fare</th>\n",
       "      <th>embarked</th>\n",
       "      <th>class</th>\n",
       "      <th>who</th>\n",
       "      <th>adult_male</th>\n",
       "      <th>deck</th>\n",
       "      <th>embark_town</th>\n",
       "      <th>alive</th>\n",
       "      <th>alone</th>\n",
       "    </tr>\n",
       "  </thead>\n",
       "  <tbody>\n",
       "    <tr>\n",
       "      <th>1</th>\n",
       "      <td>1</td>\n",
       "      <td>1</td>\n",
       "      <td>0</td>\n",
       "      <td>38.0</td>\n",
       "      <td>1</td>\n",
       "      <td>0</td>\n",
       "      <td>71.2833</td>\n",
       "      <td>0</td>\n",
       "      <td>0</td>\n",
       "      <td>2</td>\n",
       "      <td>0</td>\n",
       "      <td>2</td>\n",
       "      <td>0</td>\n",
       "      <td>1</td>\n",
       "      <td>0</td>\n",
       "    </tr>\n",
       "    <tr>\n",
       "      <th>3</th>\n",
       "      <td>1</td>\n",
       "      <td>1</td>\n",
       "      <td>0</td>\n",
       "      <td>35.0</td>\n",
       "      <td>1</td>\n",
       "      <td>0</td>\n",
       "      <td>53.1000</td>\n",
       "      <td>2</td>\n",
       "      <td>0</td>\n",
       "      <td>2</td>\n",
       "      <td>0</td>\n",
       "      <td>2</td>\n",
       "      <td>2</td>\n",
       "      <td>1</td>\n",
       "      <td>0</td>\n",
       "    </tr>\n",
       "    <tr>\n",
       "      <th>6</th>\n",
       "      <td>0</td>\n",
       "      <td>1</td>\n",
       "      <td>1</td>\n",
       "      <td>54.0</td>\n",
       "      <td>0</td>\n",
       "      <td>0</td>\n",
       "      <td>51.8625</td>\n",
       "      <td>2</td>\n",
       "      <td>0</td>\n",
       "      <td>1</td>\n",
       "      <td>1</td>\n",
       "      <td>4</td>\n",
       "      <td>2</td>\n",
       "      <td>0</td>\n",
       "      <td>1</td>\n",
       "    </tr>\n",
       "    <tr>\n",
       "      <th>10</th>\n",
       "      <td>1</td>\n",
       "      <td>3</td>\n",
       "      <td>0</td>\n",
       "      <td>4.0</td>\n",
       "      <td>1</td>\n",
       "      <td>1</td>\n",
       "      <td>16.7000</td>\n",
       "      <td>2</td>\n",
       "      <td>2</td>\n",
       "      <td>0</td>\n",
       "      <td>0</td>\n",
       "      <td>6</td>\n",
       "      <td>2</td>\n",
       "      <td>1</td>\n",
       "      <td>0</td>\n",
       "    </tr>\n",
       "    <tr>\n",
       "      <th>11</th>\n",
       "      <td>1</td>\n",
       "      <td>1</td>\n",
       "      <td>0</td>\n",
       "      <td>58.0</td>\n",
       "      <td>0</td>\n",
       "      <td>0</td>\n",
       "      <td>26.5500</td>\n",
       "      <td>2</td>\n",
       "      <td>0</td>\n",
       "      <td>2</td>\n",
       "      <td>0</td>\n",
       "      <td>2</td>\n",
       "      <td>2</td>\n",
       "      <td>1</td>\n",
       "      <td>1</td>\n",
       "    </tr>\n",
       "  </tbody>\n",
       "</table>\n",
       "</div>"
      ],
      "text/plain": [
       "    survived  pclass  sex   age  sibsp  parch     fare  embarked  class  who  \\\n",
       "1          1       1    0  38.0      1      0  71.2833         0      0    2   \n",
       "3          1       1    0  35.0      1      0  53.1000         2      0    2   \n",
       "6          0       1    1  54.0      0      0  51.8625         2      0    1   \n",
       "10         1       3    0   4.0      1      1  16.7000         2      2    0   \n",
       "11         1       1    0  58.0      0      0  26.5500         2      0    2   \n",
       "\n",
       "    adult_male  deck  embark_town  alive  alone  \n",
       "1            0     2            0      1      0  \n",
       "3            0     2            2      1      0  \n",
       "6            1     4            2      0      1  \n",
       "10           0     6            2      1      0  \n",
       "11           0     2            2      1      1  "
      ]
     },
     "execution_count": 4,
     "metadata": {},
     "output_type": "execute_result"
    }
   ],
   "source": [
    "preproc = DataFramePreprocessor(\n",
    "        fill_strategy='drop',  # 'drop', 'fill', or 'none'\n",
    "        fill_method='mean',\n",
    "        encoding='label'\n",
    "    )\n",
    "titanic_clean = preproc.fit_transform(titanic)\n",
    "label_map = preproc.get_label_mapping()\n",
    "print(\"Label Mapping:\", label_map)\n",
    "titanic_clean.head()"
   ]
  },
  {
   "cell_type": "code",
   "execution_count": 5,
   "id": "03f070ff",
   "metadata": {},
   "outputs": [
    {
     "data": {
      "text/plain": [
       "dict_keys(['sex', 'embarked', 'who', 'embark_town', 'alive', 'class', 'deck'])"
      ]
     },
     "execution_count": 5,
     "metadata": {},
     "output_type": "execute_result"
    }
   ],
   "source": [
    "label_map.keys()"
   ]
  },
  {
   "cell_type": "code",
   "execution_count": 13,
   "id": "0e2ade6e",
   "metadata": {},
   "outputs": [
    {
     "name": "stdout",
     "output_type": "stream",
     "text": [
      "Dataset Overview:\n",
      " dict_keys(['stats', 'correlation_matrix', 'colinear_pairs'])\n"
     ]
    }
   ],
   "source": [
    "out = preproc.dataset_overview(titanic_clean)\n",
    "print(\"Dataset Overview:\\n\", out.keys())"
   ]
  },
  {
   "cell_type": "code",
   "execution_count": 17,
   "id": "32d9e921",
   "metadata": {},
   "outputs": [
    {
     "data": {
      "text/plain": [
       "[('survived', 'alive', 1.0),\n",
       " ('pclass', 'class', 1.0000000000000002),\n",
       " ('sex', 'adult_male', 0.9259237692314486),\n",
       " ('embarked', 'embark_town', 1.0)]"
      ]
     },
     "execution_count": 17,
     "metadata": {},
     "output_type": "execute_result"
    }
   ],
   "source": [
    "out['colinear_pairs']"
   ]
  },
  {
   "cell_type": "code",
   "execution_count": 14,
   "id": "09b5a0fc",
   "metadata": {},
   "outputs": [
    {
     "data": {
      "text/html": [
       "<div>\n",
       "<style scoped>\n",
       "    .dataframe tbody tr th:only-of-type {\n",
       "        vertical-align: middle;\n",
       "    }\n",
       "\n",
       "    .dataframe tbody tr th {\n",
       "        vertical-align: top;\n",
       "    }\n",
       "\n",
       "    .dataframe thead th {\n",
       "        text-align: right;\n",
       "    }\n",
       "</style>\n",
       "<table border=\"1\" class=\"dataframe\">\n",
       "  <thead>\n",
       "    <tr style=\"text-align: right;\">\n",
       "      <th></th>\n",
       "      <th>variance</th>\n",
       "      <th>unique_values</th>\n",
       "      <th>nan_counts</th>\n",
       "      <th>dtype</th>\n",
       "    </tr>\n",
       "  </thead>\n",
       "  <tbody>\n",
       "    <tr>\n",
       "      <th>survived</th>\n",
       "      <td>0.220296</td>\n",
       "      <td>2</td>\n",
       "      <td>0</td>\n",
       "      <td>int64</td>\n",
       "    </tr>\n",
       "    <tr>\n",
       "      <th>pclass</th>\n",
       "      <td>0.266681</td>\n",
       "      <td>3</td>\n",
       "      <td>0</td>\n",
       "      <td>int64</td>\n",
       "    </tr>\n",
       "    <tr>\n",
       "      <th>sex</th>\n",
       "      <td>0.251108</td>\n",
       "      <td>2</td>\n",
       "      <td>0</td>\n",
       "      <td>int32</td>\n",
       "    </tr>\n",
       "    <tr>\n",
       "      <th>age</th>\n",
       "      <td>245.599528</td>\n",
       "      <td>63</td>\n",
       "      <td>0</td>\n",
       "      <td>float64</td>\n",
       "    </tr>\n",
       "    <tr>\n",
       "      <th>sibsp</th>\n",
       "      <td>0.416034</td>\n",
       "      <td>4</td>\n",
       "      <td>0</td>\n",
       "      <td>int64</td>\n",
       "    </tr>\n",
       "  </tbody>\n",
       "</table>\n",
       "</div>"
      ],
      "text/plain": [
       "            variance  unique_values  nan_counts    dtype\n",
       "survived    0.220296              2           0    int64\n",
       "pclass      0.266681              3           0    int64\n",
       "sex         0.251108              2           0    int32\n",
       "age       245.599528             63           0  float64\n",
       "sibsp       0.416034              4           0    int64"
      ]
     },
     "execution_count": 14,
     "metadata": {},
     "output_type": "execute_result"
    }
   ],
   "source": [
    "out['stats'].head()"
   ]
  },
  {
   "cell_type": "code",
   "execution_count": 18,
   "id": "e0d08856",
   "metadata": {},
   "outputs": [],
   "source": [
    "# Drop rows with missing target (survived)\n",
    "titanic = titanic_clean.copy()\n",
    "# Separate features (X) and target (y), remove the alive because it is redundant \n",
    "# 'colinear_pairs': [('survived', 'alive', 1.0 in report \n",
    "\n",
    "X = titanic.drop(columns=['survived', 'alive'])\n",
    "y = titanic['survived']\n"
   ]
  },
  {
   "cell_type": "code",
   "execution_count": 19,
   "id": "550310cc",
   "metadata": {},
   "outputs": [
    {
     "name": "stdout",
     "output_type": "stream",
     "text": [
      "✓ Features sélectionnées : ['sex', 'age', 'fare', 'who', 'adult_male', 'deck']\n",
      "✓ Historique des étapes :\n",
      "  • {'step': 'model_importance', 'selected': ['sex', 'age', 'fare', 'who', 'adult_male', 'deck'], 'importances': [0.016651265241357696, 0.09929209841029228, 0.231111217164062, 0.030674320817014378, 0.02924170611555681, 0.2093464319586534, 0.01881858781418483, 0.01381895881293537, 0.08984525721925278, 0.13416651495554596, 0.09240573513372567, 0.01676978535906895, 0.017858120998349988]}\n",
      "✓ Forme du jeu transformé : (182, 6)\n",
      "\n",
      "Aperçu du résultat :\n"
     ]
    },
    {
     "data": {
      "text/html": [
       "<div>\n",
       "<style scoped>\n",
       "    .dataframe tbody tr th:only-of-type {\n",
       "        vertical-align: middle;\n",
       "    }\n",
       "\n",
       "    .dataframe tbody tr th {\n",
       "        vertical-align: top;\n",
       "    }\n",
       "\n",
       "    .dataframe thead th {\n",
       "        text-align: right;\n",
       "    }\n",
       "</style>\n",
       "<table border=\"1\" class=\"dataframe\">\n",
       "  <thead>\n",
       "    <tr style=\"text-align: right;\">\n",
       "      <th></th>\n",
       "      <th>sex</th>\n",
       "      <th>age</th>\n",
       "      <th>fare</th>\n",
       "      <th>who</th>\n",
       "      <th>adult_male</th>\n",
       "      <th>deck</th>\n",
       "    </tr>\n",
       "  </thead>\n",
       "  <tbody>\n",
       "    <tr>\n",
       "      <th>1</th>\n",
       "      <td>0</td>\n",
       "      <td>38.0</td>\n",
       "      <td>71.2833</td>\n",
       "      <td>2</td>\n",
       "      <td>0</td>\n",
       "      <td>2</td>\n",
       "    </tr>\n",
       "    <tr>\n",
       "      <th>3</th>\n",
       "      <td>0</td>\n",
       "      <td>35.0</td>\n",
       "      <td>53.1000</td>\n",
       "      <td>2</td>\n",
       "      <td>0</td>\n",
       "      <td>2</td>\n",
       "    </tr>\n",
       "    <tr>\n",
       "      <th>6</th>\n",
       "      <td>1</td>\n",
       "      <td>54.0</td>\n",
       "      <td>51.8625</td>\n",
       "      <td>1</td>\n",
       "      <td>1</td>\n",
       "      <td>4</td>\n",
       "    </tr>\n",
       "    <tr>\n",
       "      <th>10</th>\n",
       "      <td>0</td>\n",
       "      <td>4.0</td>\n",
       "      <td>16.7000</td>\n",
       "      <td>0</td>\n",
       "      <td>0</td>\n",
       "      <td>6</td>\n",
       "    </tr>\n",
       "    <tr>\n",
       "      <th>11</th>\n",
       "      <td>0</td>\n",
       "      <td>58.0</td>\n",
       "      <td>26.5500</td>\n",
       "      <td>2</td>\n",
       "      <td>0</td>\n",
       "      <td>2</td>\n",
       "    </tr>\n",
       "  </tbody>\n",
       "</table>\n",
       "</div>"
      ],
      "text/plain": [
       "    sex   age     fare  who  adult_male  deck\n",
       "1     0  38.0  71.2833    2           0     2\n",
       "3     0  35.0  53.1000    2           0     2\n",
       "6     1  54.0  51.8625    1           1     4\n",
       "10    0   4.0  16.7000    0           0     6\n",
       "11    0  58.0  26.5500    2           0     2"
      ]
     },
     "execution_count": 19,
     "metadata": {},
     "output_type": "execute_result"
    }
   ],
   "source": [
    "strategies = [\n",
    "    {\n",
    "        \"name\": \"model_importance\",\n",
    "        \"model_cls\": RandomForestClassifier,\n",
    "        \"threshold\": \"mean\"\n",
    "    },\n",
    "    # {\n",
    "    #     \"name\": \"pca\",\n",
    "    #     \"n_components\": 2\n",
    "    # }\n",
    "]\n",
    "\n",
    "fes = FeatureEngineeringSelector(\n",
    "    strategies=strategies,\n",
    "    problem_type='classification',\n",
    "    random_state=42\n",
    ")\n",
    "\n",
    "X_transformed = fes.fit_transform(X, y)\n",
    "# --- 5. Résultats ---\n",
    "print(\"✓ Features sélectionnées :\", fes.get_support())\n",
    "print(\"✓ Historique des étapes :\")\n",
    "for step in fes.get_history():\n",
    "    print(\"  •\", step)\n",
    "print(\"✓ Forme du jeu transformé :\", X_transformed.shape)\n",
    "print(\"\\nAperçu du résultat :\")\n",
    "X_transformed.head()"
   ]
  },
  {
   "cell_type": "markdown",
   "id": "d58a632a",
   "metadata": {},
   "source": [
    "## 4. Model Training and Evaluation\n",
    "\n",
    "Now, let's train a machine learning model to predict survival. We'll:\n",
    "- Split the data into training and test sets\n",
    "- Train a Random Forest classifier\n",
    "- Evaluate the model's performance using a classification report and confusion matrix"
   ]
  },
  {
   "cell_type": "code",
   "execution_count": 9,
   "id": "af3a790b",
   "metadata": {},
   "outputs": [
    {
     "name": "stdout",
     "output_type": "stream",
     "text": [
      "Classification Report:\n",
      "               precision    recall  f1-score   support\n",
      "\n",
      "           0       0.65      0.61      0.63        18\n",
      "           1       0.76      0.79      0.77        28\n",
      "\n",
      "    accuracy                           0.72        46\n",
      "   macro avg       0.70      0.70      0.70        46\n",
      "weighted avg       0.71      0.72      0.72        46\n",
      "\n"
     ]
    },
    {
     "data": {
      "image/png": "[encoded data removed]",
      "text/plain": [
       "<Figure size 576x432 with 2 Axes>"
      ]
     },
     "metadata": {
      "needs_background": "light"
     },
     "output_type": "display_data"
    }
   ],
   "source": [
    "pipe = Pipeline([\n",
    "    ('model', RandomForestClassifier(random_state=42))\n",
    "])\n",
    "\n",
    "X_train, X_test, y_train, y_test = train_test_split(X_transformed,\n",
    "                                                    y, random_state=42)\n",
    "pipe.fit(X_train, y_train)\n",
    "y_pred = pipe.predict(X_test)\n",
    "print('Classification Report:\\n', classification_report(y_test, y_pred))\n",
    "cm = confusion_matrix(y_test, y_pred)\n",
    "fig, ax = plt.subplots(figsize=(8, 6))\n",
    "sns.heatmap(cm, annot=True, fmt='d', cmap='Blues', xticklabels=np.unique(y), yticklabels=np.unique(y), ax=ax)\n",
    "ax.set_xlabel('Predicted')\n",
    "ax.set_ylabel('Actual')\n",
    "plt.show()"
   ]
  },
  {
   "cell_type": "markdown",
   "id": "02178478",
   "metadata": {},
   "source": [
    "## 5. Feature Importance and Visualization\n",
    "\n",
    "Let's use advanced visualizations to explore feature importances and relationships."
   ]
  },
  {
   "cell_type": "code",
   "execution_count": 10,
   "id": "2127ad83",
   "metadata": {},
   "outputs": [
    {
     "data": {
      "application/vnd.plotly.v1+json": {
       "config": {
        "plotlyServerURL": "https://plot.ly"
       },
       "data": [
        {
         "link": {
          "color": [
           "rgba(200,200,200,0.2)",
           "rgba(100,200,255,0.6)",
           "rgba(100,200,255,0.6)",
           "rgba(200,200,200,0.2)",
           "rgba(100,200,255,0.6)",
           "rgba(200,200,200,0.2)"
          ],
          "source": [
           6,
           5,
           4,
           3,
           2,
           0
          ],
          "target": [
           1,
           1,
           1,
           1,
           1,
           1
          ],
          "value": [
           0.006720879627953858,
           0.2110671815398036,
           0.19211555958220877,
           0.01807316622734463,
           0.3323108807474909,
           0.07405136782026829
          ]
         },
         "node": {
          "label": [
           "deck",
           "survived",
           "adult_male",
           "who",
           "fare",
           "age",
           "sex"
          ],
          "line": {
           "color": "black",
           "width": 0.5
          },
          "pad": 15,
          "thickness": 20
         },
         "type": "sankey"
        }
       ],
       "layout": {
        "font": {
         "size": 12
        },
        "template": {
         "data": {
          "bar": [
           {
            "error_x": {
             "color": "#2a3f5f"
            },
            "error_y": {
             "color": "#2a3f5f"
            },
            "marker": {
             "line": {
              "color": "#E5ECF6",
              "width": 0.5
             },
             "pattern": {
              "fillmode": "overlay",
              "size": 10,
              "solidity": 0.2
             }
            },
            "type": "bar"
           }
          ],
          "barpolar": [
           {
            "marker": {
             "line": {
              "color": "#E5ECF6",
              "width": 0.5
             },
             "pattern": {
              "fillmode": "overlay",
              "size": 10,
              "solidity": 0.2
             }
            },
            "type": "barpolar"
           }
          ],
          "carpet": [
           {
            "aaxis": {
             "endlinecolor": "#2a3f5f",
             "gridcolor": "white",
             "linecolor": "white",
             "minorgridcolor": "white",
             "startlinecolor": "#2a3f5f"
            },
            "baxis": {
             "endlinecolor": "#2a3f5f",
             "gridcolor": "white",
             "linecolor": "white",
             "minorgridcolor": "white",
             "startlinecolor": "#2a3f5f"
            },
            "type": "carpet"
           }
          ],
          "choropleth": [
           {
            "colorbar": {
             "outlinewidth": 0,
             "ticks": ""
            },
            "type": "choropleth"
           }
          ],
          "contour": [
           {
            "colorbar": {
             "outlinewidth": 0,
             "ticks": ""
            },
            "colorscale": [
             [
              0,
              "#0d0887"
             ],
             [
              0.1111111111111111,
              "#46039f"
             ],
             [
              0.2222222222222222,
              "#7201a8"
             ],
             [
              0.3333333333333333,
              "#9c179e"
             ],
             [
              0.4444444444444444,
              "#bd3786"
             ],
             [
              0.5555555555555556,
              "#d8576b"
             ],
             [
              0.6666666666666666,
              "#ed7953"
             ],
             [
              0.7777777777777778,
              "#fb9f3a"
             ],
             [
              0.8888888888888888,
              "#fdca26"
             ],
             [
              1,
              "#f0f921"
             ]
            ],
            "type": "contour"
           }
          ],
          "contourcarpet": [
           {
            "colorbar": {
             "outlinewidth": 0,
             "ticks": ""
            },
            "type": "contourcarpet"
           }
          ],
          "heatmap": [
           {
            "colorbar": {
             "outlinewidth": 0,
             "ticks": ""
            },
            "colorscale": [
             [
              0,
              "#0d0887"
             ],
             [
              0.1111111111111111,
              "#46039f"
             ],
             [
              0.2222222222222222,
              "#7201a8"
             ],
             [
              0.3333333333333333,
              "#9c179e"
             ],
             [
              0.4444444444444444,
              "#bd3786"
             ],
             [
              0.5555555555555556,
              "#d8576b"
             ],
             [
              0.6666666666666666,
              "#ed7953"
             ],
             [
              0.7777777777777778,
              "#fb9f3a"
             ],
             [
              0.8888888888888888,
              "#fdca26"
             ],
             [
              1,
              "#f0f921"
             ]
            ],
            "type": "heatmap"
           }
          ],
          "heatmapgl": [
           {
            "colorbar": {
             "outlinewidth": 0,
             "ticks": ""
            },
            "colorscale": [
             [
              0,
              "#0d0887"
             ],
             [
              0.1111111111111111,
              "#46039f"
             ],
             [
              0.2222222222222222,
              "#7201a8"
             ],
             [
              0.3333333333333333,
              "#9c179e"
             ],
             [
              0.4444444444444444,
              "#bd3786"
             ],
             [
              0.5555555555555556,
              "#d8576b"
             ],
             [
              0.6666666666666666,
              "#ed7953"
             ],
             [
              0.7777777777777778,
              "#fb9f3a"
             ],
             [
              0.8888888888888888,
              "#fdca26"
             ],
             [
              1,
              "#f0f921"
             ]
            ],
            "type": "heatmapgl"
           }
          ],
          "histogram": [
           {
            "marker": {
             "pattern": {
              "fillmode": "overlay",
              "size": 10,
              "solidity": 0.2
             }
            },
            "type": "histogram"
           }
          ],
          "histogram2d": [
           {
            "colorbar": {
             "outlinewidth": 0,
             "ticks": ""
            },
            "colorscale": [
             [
              0,
              "#0d0887"
             ],
             [
              0.1111111111111111,
              "#46039f"
             ],
             [
              0.2222222222222222,
              "#7201a8"
             ],
             [
              0.3333333333333333,
              "#9c179e"
             ],
             [
              0.4444444444444444,
              "#bd3786"
             ],
             [
              0.5555555555555556,
              "#d8576b"
             ],
             [
              0.6666666666666666,
              "#ed7953"
             ],
             [
              0.7777777777777778,
              "#fb9f3a"
             ],
             [
              0.8888888888888888,
              "#fdca26"
             ],
             [
              1,
              "#f0f921"
             ]
            ],
            "type": "histogram2d"
           }
          ],
          "histogram2dcontour": [
           {
            "colorbar": {
             "outlinewidth": 0,
             "ticks": ""
            },
            "colorscale": [
             [
              0,
              "#0d0887"
             ],
             [
              0.1111111111111111,
              "#46039f"
             ],
             [
              0.2222222222222222,
              "#7201a8"
             ],
             [
              0.3333333333333333,
              "#9c179e"
             ],
             [
              0.4444444444444444,
              "#bd3786"
             ],
             [
              0.5555555555555556,
              "#d8576b"
             ],
             [
              0.6666666666666666,
              "#ed7953"
             ],
             [
              0.7777777777777778,
              "#fb9f3a"
             ],
             [
              0.8888888888888888,
              "#fdca26"
             ],
             [
              1,
              "#f0f921"
             ]
            ],
            "type": "histogram2dcontour"
           }
          ],
          "mesh3d": [
           {
            "colorbar": {
             "outlinewidth": 0,
             "ticks": ""
            },
            "type": "mesh3d"
           }
          ],
          "parcoords": [
           {
            "line": {
             "colorbar": {
              "outlinewidth": 0,
              "ticks": ""
             }
            },
            "type": "parcoords"
           }
          ],
          "pie": [
           {
            "automargin": true,
            "type": "pie"
           }
          ],
          "scatter": [
           {
            "fillpattern": {
             "fillmode": "overlay",
             "size": 10,
             "solidity": 0.2
            },
            "type": "scatter"
           }
          ],
          "scatter3d": [
           {
            "line": {
             "colorbar": {
              "outlinewidth": 0,
              "ticks": ""
             }
            },
            "marker": {
             "colorbar": {
              "outlinewidth": 0,
              "ticks": ""
             }
            },
            "type": "scatter3d"
           }
          ],
          "scattercarpet": [
           {
            "marker": {
             "colorbar": {
              "outlinewidth": 0,
              "ticks": ""
             }
            },
            "type": "scattercarpet"
           }
          ],
          "scattergeo": [
           {
            "marker": {
             "colorbar": {
              "outlinewidth": 0,
              "ticks": ""
             }
            },
            "type": "scattergeo"
           }
          ],
          "scattergl": [
           {
            "marker": {
             "colorbar": {
              "outlinewidth": 0,
              "ticks": ""
             }
            },
            "type": "scattergl"
           }
          ],
          "scattermapbox": [
           {
            "marker": {
             "colorbar": {
              "outlinewidth": 0,
              "ticks": ""
             }
            },
            "type": "scattermapbox"
           }
          ],
          "scatterpolar": [
           {
            "marker": {
             "colorbar": {
              "outlinewidth": 0,
              "ticks": ""
             }
            },
            "type": "scatterpolar"
           }
          ],
          "scatterpolargl": [
           {
            "marker": {
             "colorbar": {
              "outlinewidth": 0,
              "ticks": ""
             }
            },
            "type": "scatterpolargl"
           }
          ],
          "scatterternary": [
           {
            "marker": {
             "colorbar": {
              "outlinewidth": 0,
              "ticks": ""
             }
            },
            "type": "scatterternary"
           }
          ],
          "surface": [
           {
            "colorbar": {
             "outlinewidth": 0,
             "ticks": ""
            },
            "colorscale": [
             [
              0,
              "#0d0887"
             ],
             [
              0.1111111111111111,
              "#46039f"
             ],
             [
              0.2222222222222222,
              "#7201a8"
             ],
             [
              0.3333333333333333,
              "#9c179e"
             ],
             [
              0.4444444444444444,
              "#bd3786"
             ],
             [
              0.5555555555555556,
              "#d8576b"
             ],
             [
              0.6666666666666666,
              "#ed7953"
             ],
             [
              0.7777777777777778,
              "#fb9f3a"
             ],
             [
              0.8888888888888888,
              "#fdca26"
             ],
             [
              1,
              "#f0f921"
             ]
            ],
            "type": "surface"
           }
          ],
          "table": [
           {
            "cells": {
             "fill": {
              "color": "#EBF0F8"
             },
             "line": {
              "color": "white"
             }
            },
            "header": {
             "fill": {
              "color": "#C8D4E3"
             },
             "line": {
              "color": "white"
             }
            },
            "type": "table"
           }
          ]
         },
         "layout": {
          "annotationdefaults": {
           "arrowcolor": "#2a3f5f",
           "arrowhead": 0,
           "arrowwidth": 1
          },
          "autotypenumbers": "strict",
          "coloraxis": {
           "colorbar": {
            "outlinewidth": 0,
            "ticks": ""
           }
          },
          "colorscale": {
           "diverging": [
            [
             0,
             "#8e0152"
            ],
            [
             0.1,
             "#c51b7d"
            ],
            [
             0.2,
             "#de77ae"
            ],
            [
             0.3,
             "#f1b6da"
            ],
            [
             0.4,
             "#fde0ef"
            ],
            [
             0.5,
             "#f7f7f7"
            ],
            [
             0.6,
             "#e6f5d0"
            ],
            [
             0.7,
             "#b8e186"
            ],
            [
             0.8,
             "#7fbc41"
            ],
            [
             0.9,
             "#4d9221"
            ],
            [
             1,
             "#276419"
            ]
           ],
           "sequential": [
            [
             0,
             "#0d0887"
            ],
            [
             0.1111111111111111,
             "#46039f"
            ],
            [
             0.2222222222222222,
             "#7201a8"
            ],
            [
             0.3333333333333333,
             "#9c179e"
            ],
            [
             0.4444444444444444,
             "#bd3786"
            ],
            [
             0.5555555555555556,
             "#d8576b"
            ],
            [
             0.6666666666666666,
             "#ed7953"
            ],
            [
             0.7777777777777778,
             "#fb9f3a"
            ],
            [
             0.8888888888888888,
             "#fdca26"
            ],
            [
             1,
             "#f0f921"
            ]
           ],
           "sequentialminus": [
            [
             0,
             "#0d0887"
            ],
            [
             0.1111111111111111,
             "#46039f"
            ],
            [
             0.2222222222222222,
             "#7201a8"
            ],
            [
             0.3333333333333333,
             "#9c179e"
            ],
            [
             0.4444444444444444,
             "#bd3786"
            ],
            [
             0.5555555555555556,
             "#d8576b"
            ],
            [
             0.6666666666666666,
             "#ed7953"
            ],
            [
             0.7777777777777778,
             "#fb9f3a"
            ],
            [
             0.8888888888888888,
             "#fdca26"
            ],
            [
             1,
             "#f0f921"
            ]
           ]
          },
          "colorway": [
           "#636efa",
           "#EF553B",
           "#00cc96",
           "#ab63fa",
           "#FFA15A",
           "#19d3f3",
           "#FF6692",
           "#B6E880",
           "#FF97FF",
           "#FECB52"
          ],
          "font": {
           "color": "#2a3f5f"
          },
          "geo": {
           "bgcolor": "white",
           "lakecolor": "white",
           "landcolor": "#E5ECF6",
           "showlakes": true,
           "showland": true,
           "subunitcolor": "white"
          },
          "hoverlabel": {
           "align": "left"
          },
          "hovermode": "closest",
          "mapbox": {
           "style": "light"
          },
          "paper_bgcolor": "white",
          "plot_bgcolor": "#E5ECF6",
          "polar": {
           "angularaxis": {
            "gridcolor": "white",
            "linecolor": "white",
            "ticks": ""
           },
           "bgcolor": "#E5ECF6",
           "radialaxis": {
            "gridcolor": "white",
            "linecolor": "white",
            "ticks": ""
           }
          },
          "scene": {
           "xaxis": {
            "backgroundcolor": "#E5ECF6",
            "gridcolor": "white",
            "gridwidth": 2,
            "linecolor": "white",
            "showbackground": true,
            "ticks": "",
            "zerolinecolor": "white"
           },
           "yaxis": {
            "backgroundcolor": "#E5ECF6",
            "gridcolor": "white",
            "gridwidth": 2,
            "linecolor": "white",
            "showbackground": true,
            "ticks": "",
            "zerolinecolor": "white"
           },
           "zaxis": {
            "backgroundcolor": "#E5ECF6",
            "gridcolor": "white",
            "gridwidth": 2,
            "linecolor": "white",
            "showbackground": true,
            "ticks": "",
            "zerolinecolor": "white"
           }
          },
          "shapedefaults": {
           "line": {
            "color": "#2a3f5f"
           }
          },
          "ternary": {
           "aaxis": {
            "gridcolor": "white",
            "linecolor": "white",
            "ticks": ""
           },
           "baxis": {
            "gridcolor": "white",
            "linecolor": "white",
            "ticks": ""
           },
           "bgcolor": "#E5ECF6",
           "caxis": {
            "gridcolor": "white",
            "linecolor": "white",
            "ticks": ""
           }
          },
          "title": {
           "x": 0.05
          },
          "xaxis": {
           "automargin": true,
           "gridcolor": "white",
           "linecolor": "white",
           "ticks": "",
           "title": {
            "standoff": 15
           },
           "zerolinecolor": "white",
           "zerolinewidth": 2
          },
          "yaxis": {
           "automargin": true,
           "gridcolor": "white",
           "linecolor": "white",
           "ticks": "",
           "title": {
            "standoff": 15
           },
           "zerolinecolor": "white",
           "zerolinewidth": 2
          }
         }
        },
        "title": {
         "text": "Sankey Diagram"
        }
       }
      }
     },
     "metadata": {},
     "output_type": "display_data"
    }
   ],
   "source": [
    "engine = GraphAnalyzerEngine()\n",
    "engine.analyze(X_transformed, pd.DataFrame(y))\n",
    "store = engine.get_store()\n",
    "relabel_targets_in_store(store, label_map)\n",
    "fig_sankey = VisualizerFactory.make_sankey(store, show_feature_feature_links=False)\n",
    "fig_sankey.show()"
   ]
  },
  {
   "cell_type": "markdown",
   "id": "f0377ec8",
   "metadata": {},
   "source": [
    "### Bar Plot of Feature Importances\n",
    "\n",
    "The bar plot below shows the aggregated importance of each feature. The dashed line represents the threshold for random (noise) importance. Features above this line are considered informative."
   ]
  },
  {
   "cell_type": "code",
   "execution_count": 11,
   "id": "791091eb",
   "metadata": {},
   "outputs": [
    {
     "data": {
      "application/vnd.plotly.v1+json": {
       "config": {
        "plotlyServerURL": "https://plot.ly"
       },
       "data": [
        {
         "alignmentgroup": "True",
         "hovertemplate": "variable=reliable<br>feature=%{x}<br>value=%{y}<extra></extra>",
         "legendgroup": "reliable",
         "marker": {
          "color": "#636efa",
          "pattern": {
           "shape": ""
          }
         },
         "name": "reliable",
         "offsetgroup": "reliable",
         "orientation": "v",
         "showlegend": true,
         "textposition": "auto",
         "texttemplate": "%{y:.2f}",
         "type": "bar",
         "x": [
          "adult_male",
          "age",
          "fare",
          "deck",
          "who",
          "sex"
         ],
         "xaxis": "x",
         "y": [
          0.3323108807474909,
          0.2110671815398036,
          0.19211555958220877,
          0,
          0,
          0
         ],
         "yaxis": "y"
        },
        {
         "alignmentgroup": "True",
         "hovertemplate": "variable=noise<br>feature=%{x}<br>value=%{y}<extra></extra>",
         "legendgroup": "noise",
         "marker": {
          "color": "#EF553B",
          "pattern": {
           "shape": ""
          }
         },
         "name": "noise",
         "offsetgroup": "noise",
         "orientation": "v",
         "showlegend": true,
         "textposition": "auto",
         "texttemplate": "%{y:.2f}",
         "type": "bar",
         "x": [
          "adult_male",
          "age",
          "fare",
          "deck",
          "who",
          "sex"
         ],
         "xaxis": "x",
         "y": [
          0,
          0,
          0,
          0.07405136782026829,
          0.01807316622734463,
          0.006720879627953858
         ],
         "yaxis": "y"
        }
       ],
       "layout": {
        "annotations": [
         {
          "showarrow": false,
          "text": "Random Threshold",
          "x": 1,
          "xanchor": "right",
          "xref": "x domain",
          "y": 0.1656609644549299,
          "yanchor": "bottom",
          "yref": "y"
         }
        ],
        "barmode": "stack",
        "legend": {
         "title": {
          "text": "variable"
         },
         "tracegroupgap": 0
        },
        "shapes": [
         {
          "line": {
           "dash": "dash"
          },
          "type": "line",
          "x0": 0,
          "x1": 1,
          "xref": "x domain",
          "y0": 0.1656609644549299,
          "y1": 0.1656609644549299,
          "yref": "y"
         }
        ],
        "template": {
         "data": {
          "bar": [
           {
            "error_x": {
             "color": "#2a3f5f"
            },
            "error_y": {
             "color": "#2a3f5f"
            },
            "marker": {
             "line": {
              "color": "#E5ECF6",
              "width": 0.5
             },
             "pattern": {
              "fillmode": "overlay",
              "size": 10,
              "solidity": 0.2
             }
            },
            "type": "bar"
           }
          ],
          "barpolar": [
           {
            "marker": {
             "line": {
              "color": "#E5ECF6",
              "width": 0.5
             },
             "pattern": {
              "fillmode": "overlay",
              "size": 10,
              "solidity": 0.2
             }
            },
            "type": "barpolar"
           }
          ],
          "carpet": [
           {
            "aaxis": {
             "endlinecolor": "#2a3f5f",
             "gridcolor": "white",
             "linecolor": "white",
             "minorgridcolor": "white",
             "startlinecolor": "#2a3f5f"
            },
            "baxis": {
             "endlinecolor": "#2a3f5f",
             "gridcolor": "white",
             "linecolor": "white",
             "minorgridcolor": "white",
             "startlinecolor": "#2a3f5f"
            },
            "type": "carpet"
           }
          ],
          "choropleth": [
           {
            "colorbar": {
             "outlinewidth": 0,
             "ticks": ""
            },
            "type": "choropleth"
           }
          ],
          "contour": [
           {
            "colorbar": {
             "outlinewidth": 0,
             "ticks": ""
            },
            "colorscale": [
             [
              0,
              "#0d0887"
             ],
             [
              0.1111111111111111,
              "#46039f"
             ],
             [
              0.2222222222222222,
              "#7201a8"
             ],
             [
              0.3333333333333333,
              "#9c179e"
             ],
             [
              0.4444444444444444,
              "#bd3786"
             ],
             [
              0.5555555555555556,
              "#d8576b"
             ],
             [
              0.6666666666666666,
              "#ed7953"
             ],
             [
              0.7777777777777778,
              "#fb9f3a"
             ],
             [
              0.8888888888888888,
              "#fdca26"
             ],
             [
              1,
              "#f0f921"
             ]
            ],
            "type": "contour"
           }
          ],
          "contourcarpet": [
           {
            "colorbar": {
             "outlinewidth": 0,
             "ticks": ""
            },
            "type": "contourcarpet"
           }
          ],
          "heatmap": [
           {
            "colorbar": {
             "outlinewidth": 0,
             "ticks": ""
            },
            "colorscale": [
             [
              0,
              "#0d0887"
             ],
             [
              0.1111111111111111,
              "#46039f"
             ],
             [
              0.2222222222222222,
              "#7201a8"
             ],
             [
              0.3333333333333333,
              "#9c179e"
             ],
             [
              0.4444444444444444,
              "#bd3786"
             ],
             [
              0.5555555555555556,
              "#d8576b"
             ],
             [
              0.6666666666666666,
              "#ed7953"
             ],
             [
              0.7777777777777778,
              "#fb9f3a"
             ],
             [
              0.8888888888888888,
              "#fdca26"
             ],
             [
              1,
              "#f0f921"
             ]
            ],
            "type": "heatmap"
           }
          ],
          "heatmapgl": [
           {
            "colorbar": {
             "outlinewidth": 0,
             "ticks": ""
            },
            "colorscale": [
             [
              0,
              "#0d0887"
             ],
             [
              0.1111111111111111,
              "#46039f"
             ],
             [
              0.2222222222222222,
              "#7201a8"
             ],
             [
              0.3333333333333333,
              "#9c179e"
             ],
             [
              0.4444444444444444,
              "#bd3786"
             ],
             [
              0.5555555555555556,
              "#d8576b"
             ],
             [
              0.6666666666666666,
              "#ed7953"
             ],
             [
              0.7777777777777778,
              "#fb9f3a"
             ],
             [
              0.8888888888888888,
              "#fdca26"
             ],
             [
              1,
              "#f0f921"
             ]
            ],
            "type": "heatmapgl"
           }
          ],
          "histogram": [
           {
            "marker": {
             "pattern": {
              "fillmode": "overlay",
              "size": 10,
              "solidity": 0.2
             }
            },
            "type": "histogram"
           }
          ],
          "histogram2d": [
           {
            "colorbar": {
             "outlinewidth": 0,
             "ticks": ""
            },
            "colorscale": [
             [
              0,
              "#0d0887"
             ],
             [
              0.1111111111111111,
              "#46039f"
             ],
             [
              0.2222222222222222,
              "#7201a8"
             ],
             [
              0.3333333333333333,
              "#9c179e"
             ],
             [
              0.4444444444444444,
              "#bd3786"
             ],
             [
              0.5555555555555556,
              "#d8576b"
             ],
             [
              0.6666666666666666,
              "#ed7953"
             ],
             [
              0.7777777777777778,
              "#fb9f3a"
             ],
             [
              0.8888888888888888,
              "#fdca26"
             ],
             [
              1,
              "#f0f921"
             ]
            ],
            "type": "histogram2d"
           }
          ],
          "histogram2dcontour": [
           {
            "colorbar": {
             "outlinewidth": 0,
             "ticks": ""
            },
            "colorscale": [
             [
              0,
              "#0d0887"
             ],
             [
              0.1111111111111111,
              "#46039f"
             ],
             [
              0.2222222222222222,
              "#7201a8"
             ],
             [
              0.3333333333333333,
              "#9c179e"
             ],
             [
              0.4444444444444444,
              "#bd3786"
             ],
             [
              0.5555555555555556,
              "#d8576b"
             ],
             [
              0.6666666666666666,
              "#ed7953"
             ],
             [
              0.7777777777777778,
              "#fb9f3a"
             ],
             [
              0.8888888888888888,
              "#fdca26"
             ],
             [
              1,
              "#f0f921"
             ]
            ],
            "type": "histogram2dcontour"
           }
          ],
          "mesh3d": [
           {
            "colorbar": {
             "outlinewidth": 0,
             "ticks": ""
            },
            "type": "mesh3d"
           }
          ],
          "parcoords": [
           {
            "line": {
             "colorbar": {
              "outlinewidth": 0,
              "ticks": ""
             }
            },
            "type": "parcoords"
           }
          ],
          "pie": [
           {
            "automargin": true,
            "type": "pie"
           }
          ],
          "scatter": [
           {
            "fillpattern": {
             "fillmode": "overlay",
             "size": 10,
             "solidity": 0.2
            },
            "type": "scatter"
           }
          ],
          "scatter3d": [
           {
            "line": {
             "colorbar": {
              "outlinewidth": 0,
              "ticks": ""
             }
            },
            "marker": {
             "colorbar": {
              "outlinewidth": 0,
              "ticks": ""
             }
            },
            "type": "scatter3d"
           }
          ],
          "scattercarpet": [
           {
            "marker": {
             "colorbar": {
              "outlinewidth": 0,
              "ticks": ""
             }
            },
            "type": "scattercarpet"
           }
          ],
          "scattergeo": [
           {
            "marker": {
             "colorbar": {
              "outlinewidth": 0,
              "ticks": ""
             }
            },
            "type": "scattergeo"
           }
          ],
          "scattergl": [
           {
            "marker": {
             "colorbar": {
              "outlinewidth": 0,
              "ticks": ""
             }
            },
            "type": "scattergl"
           }
          ],
          "scattermapbox": [
           {
            "marker": {
             "colorbar": {
              "outlinewidth": 0,
              "ticks": ""
             }
            },
            "type": "scattermapbox"
           }
          ],
          "scatterpolar": [
           {
            "marker": {
             "colorbar": {
              "outlinewidth": 0,
              "ticks": ""
             }
            },
            "type": "scatterpolar"
           }
          ],
          "scatterpolargl": [
           {
            "marker": {
             "colorbar": {
              "outlinewidth": 0,
              "ticks": ""
             }
            },
            "type": "scatterpolargl"
           }
          ],
          "scatterternary": [
           {
            "marker": {
             "colorbar": {
              "outlinewidth": 0,
              "ticks": ""
             }
            },
            "type": "scatterternary"
           }
          ],
          "surface": [
           {
            "colorbar": {
             "outlinewidth": 0,
             "ticks": ""
            },
            "colorscale": [
             [
              0,
              "#0d0887"
             ],
             [
              0.1111111111111111,
              "#46039f"
             ],
             [
              0.2222222222222222,
              "#7201a8"
             ],
             [
              0.3333333333333333,
              "#9c179e"
             ],
             [
              0.4444444444444444,
              "#bd3786"
             ],
             [
              0.5555555555555556,
              "#d8576b"
             ],
             [
              0.6666666666666666,
              "#ed7953"
             ],
             [
              0.7777777777777778,
              "#fb9f3a"
             ],
             [
              0.8888888888888888,
              "#fdca26"
             ],
             [
              1,
              "#f0f921"
             ]
            ],
            "type": "surface"
           }
          ],
          "table": [
           {
            "cells": {
             "fill": {
              "color": "#EBF0F8"
             },
             "line": {
              "color": "white"
             }
            },
            "header": {
             "fill": {
              "color": "#C8D4E3"
             },
             "line": {
              "color": "white"
             }
            },
            "type": "table"
           }
          ]
         },
         "layout": {
          "annotationdefaults": {
           "arrowcolor": "#2a3f5f",
           "arrowhead": 0,
           "arrowwidth": 1
          },
          "autotypenumbers": "strict",
          "coloraxis": {
           "colorbar": {
            "outlinewidth": 0,
            "ticks": ""
           }
          },
          "colorscale": {
           "diverging": [
            [
             0,
             "#8e0152"
            ],
            [
             0.1,
             "#c51b7d"
            ],
            [
             0.2,
             "#de77ae"
            ],
            [
             0.3,
             "#f1b6da"
            ],
            [
             0.4,
             "#fde0ef"
            ],
            [
             0.5,
             "#f7f7f7"
            ],
            [
             0.6,
             "#e6f5d0"
            ],
            [
             0.7,
             "#b8e186"
            ],
            [
             0.8,
             "#7fbc41"
            ],
            [
             0.9,
             "#4d9221"
            ],
            [
             1,
             "#276419"
            ]
           ],
           "sequential": [
            [
             0,
             "#0d0887"
            ],
            [
             0.1111111111111111,
             "#46039f"
            ],
            [
             0.2222222222222222,
             "#7201a8"
            ],
            [
             0.3333333333333333,
             "#9c179e"
            ],
            [
             0.4444444444444444,
             "#bd3786"
            ],
            [
             0.5555555555555556,
             "#d8576b"
            ],
            [
             0.6666666666666666,
             "#ed7953"
            ],
            [
             0.7777777777777778,
             "#fb9f3a"
            ],
            [
             0.8888888888888888,
             "#fdca26"
            ],
            [
             1,
             "#f0f921"
            ]
           ],
           "sequentialminus": [
            [
             0,
             "#0d0887"
            ],
            [
             0.1111111111111111,
             "#46039f"
            ],
            [
             0.2222222222222222,
             "#7201a8"
            ],
            [
             0.3333333333333333,
             "#9c179e"
            ],
            [
             0.4444444444444444,
             "#bd3786"
            ],
            [
             0.5555555555555556,
             "#d8576b"
            ],
            [
             0.6666666666666666,
             "#ed7953"
            ],
            [
             0.7777777777777778,
             "#fb9f3a"
            ],
            [
             0.8888888888888888,
             "#fdca26"
            ],
            [
             1,
             "#f0f921"
            ]
           ]
          },
          "colorway": [
           "#636efa",
           "#EF553B",
           "#00cc96",
           "#ab63fa",
           "#FFA15A",
           "#19d3f3",
           "#FF6692",
           "#B6E880",
           "#FF97FF",
           "#FECB52"
          ],
          "font": {
           "color": "#2a3f5f"
          },
          "geo": {
           "bgcolor": "white",
           "lakecolor": "white",
           "landcolor": "#E5ECF6",
           "showlakes": true,
           "showland": true,
           "subunitcolor": "white"
          },
          "hoverlabel": {
           "align": "left"
          },
          "hovermode": "closest",
          "mapbox": {
           "style": "light"
          },
          "paper_bgcolor": "white",
          "plot_bgcolor": "#E5ECF6",
          "polar": {
           "angularaxis": {
            "gridcolor": "white",
            "linecolor": "white",
            "ticks": ""
           },
           "bgcolor": "#E5ECF6",
           "radialaxis": {
            "gridcolor": "white",
            "linecolor": "white",
            "ticks": ""
           }
          },
          "scene": {
           "xaxis": {
            "backgroundcolor": "#E5ECF6",
            "gridcolor": "white",
            "gridwidth": 2,
            "linecolor": "white",
            "showbackground": true,
            "ticks": "",
            "zerolinecolor": "white"
           },
           "yaxis": {
            "backgroundcolor": "#E5ECF6",
            "gridcolor": "white",
            "gridwidth": 2,
            "linecolor": "white",
            "showbackground": true,
            "ticks": "",
            "zerolinecolor": "white"
           },
           "zaxis": {
            "backgroundcolor": "#E5ECF6",
            "gridcolor": "white",
            "gridwidth": 2,
            "linecolor": "white",
            "showbackground": true,
            "ticks": "",
            "zerolinecolor": "white"
           }
          },
          "shapedefaults": {
           "line": {
            "color": "#2a3f5f"
           }
          },
          "ternary": {
           "aaxis": {
            "gridcolor": "white",
            "linecolor": "white",
            "ticks": ""
           },
           "baxis": {
            "gridcolor": "white",
            "linecolor": "white",
            "ticks": ""
           },
           "bgcolor": "#E5ECF6",
           "caxis": {
            "gridcolor": "white",
            "linecolor": "white",
            "ticks": ""
           }
          },
          "title": {
           "x": 0.05
          },
          "xaxis": {
           "automargin": true,
           "gridcolor": "white",
           "linecolor": "white",
           "ticks": "",
           "title": {
            "standoff": 15
           },
           "zerolinecolor": "white",
           "zerolinewidth": 2
          },
          "yaxis": {
           "automargin": true,
           "gridcolor": "white",
           "linecolor": "white",
           "ticks": "",
           "title": {
            "standoff": 15
           },
           "zerolinecolor": "white",
           "zerolinewidth": 2
          }
         }
        },
        "title": {
         "text": "Feature Importances (reliable + noise)"
        },
        "xaxis": {
         "anchor": "y",
         "domain": [
          0,
          1
         ],
         "tickangle": -45,
         "title": {
          "text": "feature"
         }
        },
        "yaxis": {
         "anchor": "x",
         "domain": [
          0,
          1
         ],
         "title": {
          "text": "value"
         }
        }
       }
      }
     },
     "metadata": {},
     "output_type": "display_data"
    }
   ],
   "source": [
    "fig_bar = VisualizerFactory.make_bar(store, show_threshold=True, show_noise=True)\n",
    "fig_bar.show()"
   ]
  },
  {
   "cell_type": "code",
   "execution_count": 12,
   "id": "0faa03a4",
   "metadata": {},
   "outputs": [
    {
     "data": {
      "application/vnd.plotly.v1+json": {
       "config": {
        "plotlyServerURL": "https://plot.ly"
       },
       "data": [
        {
         "customdata": [
          [
           0,
           38,
           71.2833,
           2,
           0,
           2
          ],
          [
           0,
           35,
           53.1,
           2,
           0,
           2
          ],
          [
           1,
           54,
           51.8625,
           1,
           1,
           4
          ],
          [
           0,
           4,
           16.7,
           0,
           0,
           6
          ],
          [
           0,
           58,
           26.55,
           2,
           0,
           2
          ],
          [
           1,
           34,
           13,
           1,
           1,
           3
          ],
          [
           1,
           28,
           35.5,
           1,
           1,
           0
          ],
          [
           1,
           19,
           263,
           1,
           1,
           2
          ],
          [
           0,
           49,
           76.7292,
           2,
           0,
           3
          ],
          [
           1,
           65,
           61.9792,
           1,
           1,
           1
          ],
          [
           1,
           45,
           83.475,
           1,
           1,
           2
          ],
          [
           0,
           29,
           10.5,
           2,
           0,
           5
          ],
          [
           1,
           25,
           7.65,
           1,
           1,
           5
          ],
          [
           0,
           23,
           263,
           2,
           0,
           2
          ],
          [
           1,
           46,
           61.175,
           1,
           1,
           4
          ],
          [
           1,
           71,
           34.6542,
           1,
           1,
           0
          ],
          [
           1,
           23,
           63.3583,
           1,
           1,
           3
          ],
          [
           1,
           21,
           77.2875,
           1,
           1,
           3
          ],
          [
           1,
           47,
           52,
           1,
           1,
           2
          ],
          [
           1,
           24,
           247.5208,
           1,
           1,
           1
          ],
          [
           0,
           32.5,
           13,
           2,
           0,
           4
          ],
          [
           1,
           54,
           77.2875,
           1,
           1,
           3
          ],
          [
           0,
           19,
           26.2833,
           2,
           0,
           3
          ],
          [
           1,
           37,
           53.1,
           1,
           1,
           2
          ],
          [
           1,
           24,
           79.2,
           1,
           1,
           1
          ],
          [
           1,
           36.5,
           26,
           1,
           1,
           5
          ],
          [
           0,
           22,
           66.6,
           2,
           0,
           2
          ],
          [
           1,
           61,
           33.5,
           1,
           1,
           1
          ],
          [
           1,
           56,
           30.6958,
           1,
           1,
           0
          ],
          [
           0,
           50,
           28.7125,
           2,
           0,
           2
          ],
          [
           1,
           1,
           39,
           0,
           0,
           5
          ],
          [
           1,
           3,
           26,
           0,
           0,
           5
          ],
          [
           0,
           44,
           27.7208,
           2,
           0,
           1
          ],
          [
           0,
           58,
           146.5208,
           2,
           0,
           1
          ],
          [
           0,
           2,
           10.4625,
           0,
           0,
           6
          ],
          [
           1,
           40,
           31,
           1,
           1,
           0
          ],
          [
           0,
           31,
           113.275,
           2,
           0,
           3
          ],
          [
           0,
           32,
           76.2917,
           2,
           0,
           3
          ],
          [
           1,
           38,
           90,
           1,
           1,
           2
          ],
          [
           0,
           35,
           83.475,
           2,
           0,
           2
          ],
          [
           1,
           44,
           90,
           1,
           1,
           2
          ],
          [
           1,
           37,
           52.5542,
           1,
           1,
           3
          ],
          [
           0,
           29,
           10.4625,
           2,
           0,
           6
          ],
          [
           1,
           62,
           26.55,
           1,
           1,
           2
          ],
          [
           0,
           30,
           86.5,
           2,
           0,
           1
          ],
          [
           1,
           52,
           79.65,
           1,
           1,
           4
          ],
          [
           1,
           40,
           0,
           1,
           1,
           1
          ],
          [
           0,
           58,
           153.4625,
           2,
           0,
           2
          ],
          [
           0,
           35,
           135.6333,
           2,
           0,
           2
          ],
          [
           1,
           37,
           29.7,
           1,
           1,
           2
          ],
          [
           0,
           63,
           77.9583,
           2,
           0,
           3
          ],
          [
           0,
           19,
           91.0792,
           2,
           0,
           1
          ],
          [
           1,
           36,
           12.875,
           1,
           1,
           3
          ],
          [
           0,
           2,
           151.55,
           0,
           0,
           2
          ],
          [
           0,
           50,
           247.5208,
           2,
           0,
           1
          ],
          [
           1,
           0.92,
           151.55,
           0,
           0,
           2
          ],
          [
           0,
           17,
           108.9,
           2,
           0,
           2
          ],
          [
           0,
           30,
           56.9292,
           2,
           0,
           4
          ],
          [
           0,
           24,
           83.1583,
           2,
           0,
           2
          ],
          [
           0,
           18,
           262.375,
           2,
           0,
           1
          ],
          [
           0,
           31,
           164.8667,
           2,
           0,
           2
          ],
          [
           0,
           40,
           134.5,
           2,
           0,
           4
          ],
          [
           0,
           36,
           135.6333,
           2,
           0,
           2
          ],
          [
           0,
           36,
           13,
           2,
           0,
           3
          ],
          [
           0,
           16,
           57.9792,
           2,
           0,
           1
          ],
          [
           1,
           45.5,
           28.5,
           1,
           1,
           2
          ],
          [
           1,
           38,
           153.4625,
           1,
           1,
           2
          ],
          [
           1,
           29,
           66.6,
           1,
           1,
           2
          ],
          [
           0,
           41,
           134.5,
           2,
           0,
           4
          ],
          [
           1,
           2,
           26,
           0,
           0,
           5
          ],
          [
           0,
           24,
           263,
           2,
           0,
           2
          ],
          [
           0,
           24,
           13,
           2,
           0,
           5
          ],
          [
           0,
           22,
           55,
           2,
           0,
           4
          ],
          [
           0,
           60,
           75.25,
           2,
           0,
           3
          ],
          [
           0,
           24,
           69.3,
           2,
           0,
           1
          ],
          [
           1,
           25,
           55.4417,
           1,
           1,
           4
          ],
          [
           1,
           27,
           211.5,
           1,
           1,
           2
          ],
          [
           1,
           36,
           120,
           1,
           1,
           1
          ],
          [
           0,
           23,
           113.275,
           2,
           0,
           3
          ],
          [
           0,
           24,
           16.7,
           2,
           0,
           6
          ],
          [
           0,
           33,
           90,
           2,
           0,
           2
          ],
          [
           1,
           32,
           8.05,
           1,
           1,
           4
          ],
          [
           1,
           28,
           26.55,
           1,
           1,
           2
          ],
          [
           1,
           50,
           55.9,
           1,
           1,
           4
          ],
          [
           0,
           14,
           120,
           0,
           0,
           1
          ],
          [
           1,
           64,
           263,
           1,
           1,
           2
          ],
          [
           1,
           4,
           81.8583,
           0,
           0,
           0
          ],
          [
           1,
           52,
           30.5,
           1,
           1,
           2
          ],
          [
           1,
           30,
           27.75,
           1,
           1,
           2
          ],
          [
           1,
           49,
           89.1042,
           1,
           1,
           2
          ],
          [
           1,
           65,
           26.55,
           1,
           1,
           4
          ],
          [
           1,
           48,
           26.55,
           1,
           1,
           4
          ],
          [
           1,
           47,
           38.5,
           1,
           1,
           4
          ],
          [
           0,
           23,
           13.7917,
           2,
           0,
           3
          ],
          [
           1,
           25,
           91.0792,
           1,
           1,
           1
          ],
          [
           0,
           35,
           90,
           2,
           0,
           2
          ],
          [
           1,
           58,
           29.7,
           1,
           1,
           1
          ],
          [
           1,
           55,
           30.5,
           1,
           1,
           2
          ],
          [
           0,
           54,
           78.2667,
           2,
           0,
           3
          ],
          [
           0,
           25,
           151.55,
           2,
           0,
           2
          ],
          [
           0,
           16,
           86.5,
           2,
           0,
           1
          ],
          [
           1,
           18,
           108.9,
           1,
           1,
           2
          ],
          [
           1,
           36,
           26.2875,
           1,
           1,
           4
          ],
          [
           1,
           47,
           34.0208,
           1,
           1,
           3
          ],
          [
           0,
           34,
           10.5,
           2,
           0,
           5
          ],
          [
           0,
           30,
           93.5,
           2,
           0,
           1
          ],
          [
           0,
           44,
           57.9792,
           2,
           0,
           1
          ],
          [
           1,
           45,
           26.55,
           1,
           1,
           1
          ],
          [
           0,
           22,
           49.5,
           2,
           0,
           1
          ],
          [
           0,
           36,
           71,
           2,
           0,
           1
          ],
          [
           1,
           50,
           106.425,
           1,
           1,
           2
          ],
          [
           1,
           17,
           110.8833,
           1,
           1,
           2
          ],
          [
           0,
           48,
           39.6,
           2,
           0,
           0
          ],
          [
           0,
           39,
           79.65,
           2,
           0,
           4
          ],
          [
           0,
           53,
           51.4792,
           2,
           0,
           2
          ],
          [
           1,
           36,
           26.3875,
           1,
           1,
           4
          ],
          [
           0,
           39,
           55.9,
           2,
           0,
           4
          ],
          [
           0,
           39,
           110.8833,
           2,
           0,
           2
          ],
          [
           1,
           36,
           40.125,
           1,
           1,
           0
          ],
          [
           0,
           18,
           79.65,
           2,
           0,
           4
          ],
          [
           1,
           60,
           79.2,
           1,
           1,
           1
          ],
          [
           0,
           52,
           78.2667,
           2,
           0,
           3
          ],
          [
           1,
           49,
           56.9292,
           1,
           1,
           0
          ],
          [
           0,
           40,
           153.4625,
           2,
           0,
           2
          ],
          [
           0,
           4,
           39,
           0,
           0,
           5
          ],
          [
           1,
           42,
           52.5542,
           1,
           1,
           3
          ],
          [
           1,
           61,
           32.3208,
           1,
           1,
           3
          ],
          [
           0,
           21,
           77.9583,
           2,
           0,
           3
          ],
          [
           1,
           80,
           30,
           1,
           1,
           0
          ],
          [
           1,
           32,
           30.5,
           1,
           1,
           1
          ],
          [
           0,
           24,
           69.3,
           2,
           0,
           1
          ],
          [
           1,
           48,
           76.7292,
           1,
           1,
           3
          ],
          [
           1,
           56,
           35.5,
           1,
           1,
           0
          ],
          [
           1,
           58,
           113.275,
           1,
           1,
           3
          ],
          [
           1,
           47,
           25.5875,
           1,
           1,
           4
          ],
          [
           1,
           31,
           52,
           1,
           1,
           1
          ],
          [
           1,
           36,
           512.3292,
           1,
           1,
           1
          ],
          [
           1,
           27,
           76.7292,
           1,
           1,
           3
          ],
          [
           0,
           15,
           211.3375,
           0,
           0,
           1
          ],
          [
           1,
           31,
           57,
           1,
           1,
           1
          ],
          [
           1,
           49,
           110.8833,
           1,
           1,
           2
          ],
          [
           1,
           42,
           7.65,
           1,
           1,
           5
          ],
          [
           0,
           18,
           227.525,
           2,
           0,
           2
          ],
          [
           1,
           35,
           26.2875,
           1,
           1,
           4
          ],
          [
           1,
           42,
           26.2875,
           1,
           1,
           4
          ],
          [
           0,
           24,
           49.5042,
           2,
           0,
           2
          ],
          [
           1,
           48,
           52,
           1,
           1,
           2
          ],
          [
           1,
           19,
           7.65,
           1,
           1,
           5
          ],
          [
           0,
           38,
           227.525,
           2,
           0,
           2
          ],
          [
           0,
           27,
           10.5,
           2,
           0,
           4
          ],
          [
           1,
           27,
           53.1,
           1,
           1,
           4
          ],
          [
           0,
           29,
           211.3375,
           2,
           0,
           1
          ],
          [
           1,
           35,
           512.3292,
           1,
           1,
           1
          ],
          [
           1,
           36,
           78.85,
           1,
           1,
           2
          ],
          [
           0,
           21,
           262.375,
           2,
           0,
           1
          ],
          [
           1,
           70,
           71,
           1,
           1,
           1
          ],
          [
           1,
           19,
           53.1,
           1,
           1,
           3
          ],
          [
           1,
           6,
           12.475,
           0,
           0,
           4
          ],
          [
           0,
           33,
           86.5,
           2,
           0,
           1
          ],
          [
           0,
           36,
           120,
           2,
           0,
           1
          ],
          [
           0,
           51,
           77.9583,
           2,
           0,
           3
          ],
          [
           0,
           57,
           10.5,
           2,
           0,
           4
          ],
          [
           0,
           43,
           211.3375,
           2,
           0,
           1
          ],
          [
           0,
           17,
           57,
           2,
           0,
           1
          ],
          [
           1,
           29,
           30,
           1,
           1,
           3
          ],
          [
           1,
           46,
           79.2,
           1,
           1,
           1
          ],
          [
           0,
           49,
           25.9292,
           2,
           0,
           3
          ],
          [
           1,
           11,
           120,
           0,
           0,
           1
          ],
          [
           1,
           39,
           0,
           1,
           1,
           0
          ],
          [
           0,
           33,
           53.1,
           2,
           0,
           4
          ],
          [
           0,
           52,
           93.5,
           2,
           0,
           1
          ],
          [
           0,
           27,
           12.475,
           2,
           0,
           4
          ],
          [
           0,
           39,
           83.1583,
           2,
           0,
           4
          ],
          [
           0,
           16,
           39.4,
           2,
           0,
           3
          ],
          [
           1,
           51,
           26.55,
           1,
           1,
           4
          ],
          [
           0,
           48,
           25.9292,
           2,
           0,
           3
          ],
          [
           1,
           31,
           50.4958,
           1,
           1,
           0
          ],
          [
           0,
           47,
           52.5542,
           2,
           0,
           3
          ],
          [
           1,
           33,
           5,
           1,
           1,
           1
          ],
          [
           0,
           56,
           83.1583,
           2,
           0,
           2
          ],
          [
           0,
           19,
           30,
           2,
           0,
           1
          ],
          [
           1,
           26,
           30,
           1,
           1,
           2
          ]
         ],
         "hovertemplate": "sex: %{customdata[0]}<br>age: %{customdata[1]}<br>fare: %{customdata[2]}<br>who: %{customdata[3]}<br>adult_male: %{customdata[4]}<br>deck: %{customdata[5]}<br>label: %{text}<extra></extra>",
         "marker": {
          "color": [
           1,
           1,
           0,
           1,
           1,
           1,
           1,
           0,
           1,
           0,
           0,
           1,
           0,
           1,
           0,
           0,
           1,
           0,
           0,
           0,
           1,
           0,
           1,
           0,
           0,
           0,
           1,
           0,
           0,
           0,
           1,
           1,
           1,
           1,
           0,
           1,
           1,
           1,
           1,
           1,
           0,
           1,
           0,
           0,
           1,
           0,
           0,
           1,
           1,
           0,
           1,
           1,
           0,
           0,
           1,
           1,
           1,
           1,
           1,
           1,
           1,
           1,
           1,
           1,
           1,
           0,
           0,
           0,
           1,
           1,
           1,
           1,
           1,
           1,
           1,
           1,
           0,
           1,
           1,
           1,
           1,
           1,
           1,
           0,
           1,
           0,
           1,
           1,
           0,
           1,
           0,
           1,
           0,
           1,
           1,
           1,
           0,
           0,
           1,
           0,
           1,
           0,
           1,
           0,
           1,
           1,
           1,
           0,
           1,
           1,
           0,
           1,
           1,
           1,
           1,
           1,
           1,
           1,
           0,
           1,
           1,
           1,
           1,
           1,
           1,
           1,
           0,
           1,
           1,
           1,
           1,
           1,
           1,
           0,
           0,
           0,
           1,
           1,
           1,
           1,
           0,
           0,
           1,
           1,
           1,
           1,
           1,
           0,
           1,
           1,
           1,
           1,
           1,
           0,
           1,
           0,
           0,
           1,
           1,
           1,
           1,
           0,
           1,
           1,
           0,
           0,
           1,
           1,
           0,
           1,
           1,
           1,
           1,
           1,
           1,
           1,
           0,
           1,
           0,
           1,
           1,
           1
          ],
          "colorscale": [
           [
            0,
            "#440154"
           ],
           [
            0.1111111111111111,
            "#482878"
           ],
           [
            0.2222222222222222,
            "#3e4989"
           ],
           [
            0.3333333333333333,
            "#31688e"
           ],
           [
            0.4444444444444444,
            "#26828e"
           ],
           [
            0.5555555555555556,
            "#1f9e89"
           ],
           [
            0.6666666666666666,
            "#35b779"
           ],
           [
            0.7777777777777778,
            "#6ece58"
           ],
           [
            0.8888888888888888,
            "#b5de2b"
           ],
           [
            1,
            "#fde725"
           ]
          ],
          "opacity": 0.8,
          "showscale": true,
          "size": 8
         },
         "mode": "markers",
         "text": [
          1,
          1,
          0,
          1,
          1,
          1,
          1,
          0,
          1,
          0,
          0,
          1,
          0,
          1,
          0,
          0,
          1,
          0,
          0,
          0,
          1,
          0,
          1,
          0,
          0,
          0,
          1,
          0,
          0,
          0,
          1,
          1,
          1,
          1,
          0,
          1,
          1,
          1,
          1,
          1,
          0,
          1,
          0,
          0,
          1,
          0,
          0,
          1,
          1,
          0,
          1,
          1,
          0,
          0,
          1,
          1,
          1,
          1,
          1,
          1,
          1,
          1,
          1,
          1,
          1,
          0,
          0,
          0,
          1,
          1,
          1,
          1,
          1,
          1,
          1,
          1,
          0,
          1,
          1,
          1,
          1,
          1,
          1,
          0,
          1,
          0,
          1,
          1,
          0,
          1,
          0,
          1,
          0,
          1,
          1,
          1,
          0,
          0,
          1,
          0,
          1,
          0,
          1,
          0,
          1,
          1,
          1,
          0,
          1,
          1,
          0,
          1,
          1,
          1,
          1,
          1,
          1,
          1,
          0,
          1,
          1,
          1,
          1,
          1,
          1,
          1,
          0,
          1,
          1,
          1,
          1,
          1,
          1,
          0,
          0,
          0,
          1,
          1,
          1,
          1,
          0,
          0,
          1,
          1,
          1,
          1,
          1,
          0,
          1,
          1,
          1,
          1,
          1,
          0,
          1,
          0,
          0,
          1,
          1,
          1,
          1,
          0,
          1,
          1,
          0,
          0,
          1,
          1,
          0,
          1,
          1,
          1,
          1,
          1,
          1,
          1,
          0,
          1,
          0,
          1,
          1,
          1
         ],
         "type": "scattergl",
         "x": [
          4.208284,
          -0.73188746,
          -1.3923454,
          -9.565497,
          -10.033805,
          -12.230623,
          -8.204611,
          16.575815,
          5.391095,
          3.7344868,
          6.3581343,
          -12.250779,
          -12.37509,
          16.850159,
          -0.1291106,
          -9.199665,
          1.5452517,
          4.417896,
          -1.4263419,
          16.293362,
          -12.052187,
          5.429447,
          -9.204348,
          -0.89673406,
          4.9830675,
          -10.022179,
          2.28333,
          -8.87287,
          -9.0440645,
          -9.264652,
          -7.84525,
          -8.806753,
          -9.376163,
          13.021264,
          -9.94828,
          -8.92615,
          10.412158,
          4.722013,
          7.045569,
          5.995017,
          7.151233,
          -1.11489,
          -12.41754,
          -9.943796,
          6.2463202,
          6.256327,
          -13.850251,
          13.314333,
          12.104828,
          -9.105464,
          5.4274206,
          6.5553246,
          -12.550664,
          12.70983,
          16.515417,
          12.698273,
          9.798977,
          0.113805845,
          5.6177354,
          16.501532,
          13.59214,
          12.139134,
          12.131494,
          -12.491633,
          0.6696216,
          -9.173867,
          13.123299,
          2.4635298,
          12.163093,
          -8.799169,
          16.843466,
          -11.5601,
          0.08925142,
          5.1536446,
          3.0319538,
          0.11971867,
          15.475313,
          11.040805,
          10.308946,
          -11.039989,
          6.920441,
          -12.8980465,
          -9.558881,
          -0.80949616,
          10.723616,
          16.887903,
          5.310766,
          -8.991832,
          -9.436075,
          7.0625715,
          -9.873887,
          -9.592838,
          -7.810192,
          -11.335359,
          6.7686973,
          6.9882913,
          -9.481962,
          -9.250999,
          5.900505,
          12.897475,
          5.866175,
          9.79457,
          -9.775724,
          -8.465169,
          -12.738634,
          7.282888,
          -0.50737786,
          -9.757358,
          -0.79741555,
          4.024603,
          9.9801855,
          10.043831,
          -7.624894,
          5.5447087,
          -1.523639,
          -9.7186775,
          -0.5163901,
          10.362124,
          -7.3519287,
          4.9954047,
          5.8364725,
          5.9142375,
          -0.6659051,
          13.150521,
          -7.786028,
          -1.1828147,
          -9.124247,
          4.6171656,
          -9.498257,
          -8.902765,
          3.0319538,
          5.441466,
          -8.424767,
          10.491906,
          -10.1418705,
          -0.8507036,
          18.43671,
          4.4894066,
          15.42976,
          0.021994151,
          10.380436,
          -13.368387,
          15.855865,
          -9.823903,
          -9.893755,
          -0.8830279,
          -1.4413669,
          -11.609338,
          16.056847,
          -12.187752,
          -0.44412214,
          15.497043,
          18.436954,
          5.290688,
          16.77319,
          4.582124,
          -0.21087702,
          -10.032933,
          6.35724,
          11.042397,
          5.7841225,
          -11.461023,
          15.635396,
          0.4645193,
          -9.007804,
          5.8311677,
          -10.042145,
          10.687927,
          -13.847104,
          -0.6169005,
          7.6615067,
          -11.727217,
          6.144712,
          -7.448886,
          -9.932253,
          -9.980246,
          -1.1428572,
          -1.241886,
          -13.284221,
          6.5252075,
          -8.6994705,
          -8.918342
         ],
         "y": [
          -0.20464261,
          -0.4303891,
          2.4618154,
          -4.785641,
          3.956901,
          -2.161056,
          -1.4941428,
          -3.826559,
          1.7799612,
          3.6110864,
          0.93848485,
          -3.0138505,
          -3.825193,
          -3.3036017,
          1.6408194,
          5.4199653,
          -2.2933886,
          -2.7528827,
          1.5283054,
          -3.3160362,
          -2.3762124,
          2.492109,
          -2.9700553,
          -0.039257698,
          -2.3390307,
          -0.09290102,
          -2.5166469,
          4.5997257,
          3.8333793,
          2.7825952,
          -4.599458,
          -4.669129,
          1.4904659,
          -1.2552595,
          -4.9439535,
          0.7410079,
          -1.9444377,
          -1.1593033,
          -0.42494604,
          -0.78488517,
          0.49361622,
          -0.08032256,
          -3.1971784,
          4.5212207,
          -1.7001247,
          2.1251078,
          -2.3058116,
          -1.4267182,
          -2.1224391,
          0.057663925,
          3.392454,
          -2.99031,
          -1.9044048,
          -3.4691398,
          -2.6876972,
          -3.4964733,
          -2.9730723,
          -1.2314683,
          -2.4007812,
          -3.8540146,
          -2.5595372,
          -1.613025,
          -2.0435808,
          -1.8929421,
          -2.9178798,
          1.8763607,
          -2.1349673,
          -1.7372557,
          -1.5385354,
          -4.711178,
          -3.2477562,
          -3.52234,
          -2.360619,
          3.0730789,
          -2.3592463,
          -1.9461025,
          -3.0942767,
          -1.6399738,
          -2.517769,
          -3.1066504,
          -1.3020979,
          -2.9158425,
          -1.763829,
          2.0836887,
          -3.0741553,
          -2.6457334,
          -3.9338963,
          3.140057,
          -1.322755,
          1.3612307,
          4.8825583,
          2.3511786,
          2.5394802,
          -3.5442336,
          -2.3738286,
          -0.93315566,
          4.0905795,
          3.6210053,
          2.6040354,
          -2.6935735,
          -3.2321327,
          -2.8691502,
          -0.24105994,
          2.3770287,
          -2.466186,
          -1.8015962,
          1.2198632,
          1.6556008,
          -2.559349,
          -0.5295349,
          -0.24161918,
          -2.9949453,
          2.7407458,
          0.053211126,
          2.3341398,
          -0.23818778,
          0.40375286,
          -1.2130178,
          -0.17714162,
          -3.1142614,
          3.193854,
          2.2183526,
          1.95057,
          -2.0349724,
          -4.4827123,
          0.7907079,
          4.583722,
          -2.7722123,
          5.7353816,
          -0.87323195,
          -2.3592463,
          1.5799586,
          3.915238,
          -0.14656919,
          2.0594401,
          -1.206867,
          -3.1111498,
          -1.9412277,
          -3.4703312,
          -1.0107301,
          -0.5069693,
          -1.7608477,
          -3.5739625,
          -0.58390445,
          1.0052426,
          -2.252666,
          1.7362664,
          -4.245046,
          -2.7957501,
          -3.4325187,
          -1.7640625,
          -2.9759674,
          -3.111221,
          -0.5251103,
          -3.5984533,
          3.6523087,
          -2.81199,
          -4.7433653,
          -1.1999234,
          -1.6430027,
          2.0271206,
          3.401147,
          -2.6042116,
          -2.8840392,
          -1.432805,
          1.2010158,
          2.6493986,
          -3.239379,
          -2.4692242,
          -0.76592606,
          1.4001595,
          -2.9748178,
          -0.056538694,
          -3.457995,
          3.0411458,
          2.3613455,
          -1.2492435,
          1.5376117,
          -2.9647224,
          2.6125922,
          -2.8474047,
          -1.9571798
         ]
        }
       ],
       "layout": {
        "template": {
         "data": {
          "bar": [
           {
            "error_x": {
             "color": "#2a3f5f"
            },
            "error_y": {
             "color": "#2a3f5f"
            },
            "marker": {
             "line": {
              "color": "#E5ECF6",
              "width": 0.5
             },
             "pattern": {
              "fillmode": "overlay",
              "size": 10,
              "solidity": 0.2
             }
            },
            "type": "bar"
           }
          ],
          "barpolar": [
           {
            "marker": {
             "line": {
              "color": "#E5ECF6",
              "width": 0.5
             },
             "pattern": {
              "fillmode": "overlay",
              "size": 10,
              "solidity": 0.2
             }
            },
            "type": "barpolar"
           }
          ],
          "carpet": [
           {
            "aaxis": {
             "endlinecolor": "#2a3f5f",
             "gridcolor": "white",
             "linecolor": "white",
             "minorgridcolor": "white",
             "startlinecolor": "#2a3f5f"
            },
            "baxis": {
             "endlinecolor": "#2a3f5f",
             "gridcolor": "white",
             "linecolor": "white",
             "minorgridcolor": "white",
             "startlinecolor": "#2a3f5f"
            },
            "type": "carpet"
           }
          ],
          "choropleth": [
           {
            "colorbar": {
             "outlinewidth": 0,
             "ticks": ""
            },
            "type": "choropleth"
           }
          ],
          "contour": [
           {
            "colorbar": {
             "outlinewidth": 0,
             "ticks": ""
            },
            "colorscale": [
             [
              0,
              "#0d0887"
             ],
             [
              0.1111111111111111,
              "#46039f"
             ],
             [
              0.2222222222222222,
              "#7201a8"
             ],
             [
              0.3333333333333333,
              "#9c179e"
             ],
             [
              0.4444444444444444,
              "#bd3786"
             ],
             [
              0.5555555555555556,
              "#d8576b"
             ],
             [
              0.6666666666666666,
              "#ed7953"
             ],
             [
              0.7777777777777778,
              "#fb9f3a"
             ],
             [
              0.8888888888888888,
              "#fdca26"
             ],
             [
              1,
              "#f0f921"
             ]
            ],
            "type": "contour"
           }
          ],
          "contourcarpet": [
           {
            "colorbar": {
             "outlinewidth": 0,
             "ticks": ""
            },
            "type": "contourcarpet"
           }
          ],
          "heatmap": [
           {
            "colorbar": {
             "outlinewidth": 0,
             "ticks": ""
            },
            "colorscale": [
             [
              0,
              "#0d0887"
             ],
             [
              0.1111111111111111,
              "#46039f"
             ],
             [
              0.2222222222222222,
              "#7201a8"
             ],
             [
              0.3333333333333333,
              "#9c179e"
             ],
             [
              0.4444444444444444,
              "#bd3786"
             ],
             [
              0.5555555555555556,
              "#d8576b"
             ],
             [
              0.6666666666666666,
              "#ed7953"
             ],
             [
              0.7777777777777778,
              "#fb9f3a"
             ],
             [
              0.8888888888888888,
              "#fdca26"
             ],
             [
              1,
              "#f0f921"
             ]
            ],
            "type": "heatmap"
           }
          ],
          "heatmapgl": [
           {
            "colorbar": {
             "outlinewidth": 0,
             "ticks": ""
            },
            "colorscale": [
             [
              0,
              "#0d0887"
             ],
             [
              0.1111111111111111,
              "#46039f"
             ],
             [
              0.2222222222222222,
              "#7201a8"
             ],
             [
              0.3333333333333333,
              "#9c179e"
             ],
             [
              0.4444444444444444,
              "#bd3786"
             ],
             [
              0.5555555555555556,
              "#d8576b"
             ],
             [
              0.6666666666666666,
              "#ed7953"
             ],
             [
              0.7777777777777778,
              "#fb9f3a"
             ],
             [
              0.8888888888888888,
              "#fdca26"
             ],
             [
              1,
              "#f0f921"
             ]
            ],
            "type": "heatmapgl"
           }
          ],
          "histogram": [
           {
            "marker": {
             "pattern": {
              "fillmode": "overlay",
              "size": 10,
              "solidity": 0.2
             }
            },
            "type": "histogram"
           }
          ],
          "histogram2d": [
           {
            "colorbar": {
             "outlinewidth": 0,
             "ticks": ""
            },
            "colorscale": [
             [
              0,
              "#0d0887"
             ],
             [
              0.1111111111111111,
              "#46039f"
             ],
             [
              0.2222222222222222,
              "#7201a8"
             ],
             [
              0.3333333333333333,
              "#9c179e"
             ],
             [
              0.4444444444444444,
              "#bd3786"
             ],
             [
              0.5555555555555556,
              "#d8576b"
             ],
             [
              0.6666666666666666,
              "#ed7953"
             ],
             [
              0.7777777777777778,
              "#fb9f3a"
             ],
             [
              0.8888888888888888,
              "#fdca26"
             ],
             [
              1,
              "#f0f921"
             ]
            ],
            "type": "histogram2d"
           }
          ],
          "histogram2dcontour": [
           {
            "colorbar": {
             "outlinewidth": 0,
             "ticks": ""
            },
            "colorscale": [
             [
              0,
              "#0d0887"
             ],
             [
              0.1111111111111111,
              "#46039f"
             ],
             [
              0.2222222222222222,
              "#7201a8"
             ],
             [
              0.3333333333333333,
              "#9c179e"
             ],
             [
              0.4444444444444444,
              "#bd3786"
             ],
             [
              0.5555555555555556,
              "#d8576b"
             ],
             [
              0.6666666666666666,
              "#ed7953"
             ],
             [
              0.7777777777777778,
              "#fb9f3a"
             ],
             [
              0.8888888888888888,
              "#fdca26"
             ],
             [
              1,
              "#f0f921"
             ]
            ],
            "type": "histogram2dcontour"
           }
          ],
          "mesh3d": [
           {
            "colorbar": {
             "outlinewidth": 0,
             "ticks": ""
            },
            "type": "mesh3d"
           }
          ],
          "parcoords": [
           {
            "line": {
             "colorbar": {
              "outlinewidth": 0,
              "ticks": ""
             }
            },
            "type": "parcoords"
           }
          ],
          "pie": [
           {
            "automargin": true,
            "type": "pie"
           }
          ],
          "scatter": [
           {
            "fillpattern": {
             "fillmode": "overlay",
             "size": 10,
             "solidity": 0.2
            },
            "type": "scatter"
           }
          ],
          "scatter3d": [
           {
            "line": {
             "colorbar": {
              "outlinewidth": 0,
              "ticks": ""
             }
            },
            "marker": {
             "colorbar": {
              "outlinewidth": 0,
              "ticks": ""
             }
            },
            "type": "scatter3d"
           }
          ],
          "scattercarpet": [
           {
            "marker": {
             "colorbar": {
              "outlinewidth": 0,
              "ticks": ""
             }
            },
            "type": "scattercarpet"
           }
          ],
          "scattergeo": [
           {
            "marker": {
             "colorbar": {
              "outlinewidth": 0,
              "ticks": ""
             }
            },
            "type": "scattergeo"
           }
          ],
          "scattergl": [
           {
            "marker": {
             "colorbar": {
              "outlinewidth": 0,
              "ticks": ""
             }
            },
            "type": "scattergl"
           }
          ],
          "scattermapbox": [
           {
            "marker": {
             "colorbar": {
              "outlinewidth": 0,
              "ticks": ""
             }
            },
            "type": "scattermapbox"
           }
          ],
          "scatterpolar": [
           {
            "marker": {
             "colorbar": {
              "outlinewidth": 0,
              "ticks": ""
             }
            },
            "type": "scatterpolar"
           }
          ],
          "scatterpolargl": [
           {
            "marker": {
             "colorbar": {
              "outlinewidth": 0,
              "ticks": ""
             }
            },
            "type": "scatterpolargl"
           }
          ],
          "scatterternary": [
           {
            "marker": {
             "colorbar": {
              "outlinewidth": 0,
              "ticks": ""
             }
            },
            "type": "scatterternary"
           }
          ],
          "surface": [
           {
            "colorbar": {
             "outlinewidth": 0,
             "ticks": ""
            },
            "colorscale": [
             [
              0,
              "#0d0887"
             ],
             [
              0.1111111111111111,
              "#46039f"
             ],
             [
              0.2222222222222222,
              "#7201a8"
             ],
             [
              0.3333333333333333,
              "#9c179e"
             ],
             [
              0.4444444444444444,
              "#bd3786"
             ],
             [
              0.5555555555555556,
              "#d8576b"
             ],
             [
              0.6666666666666666,
              "#ed7953"
             ],
             [
              0.7777777777777778,
              "#fb9f3a"
             ],
             [
              0.8888888888888888,
              "#fdca26"
             ],
             [
              1,
              "#f0f921"
             ]
            ],
            "type": "surface"
           }
          ],
          "table": [
           {
            "cells": {
             "fill": {
              "color": "#EBF0F8"
             },
             "line": {
              "color": "white"
             }
            },
            "header": {
             "fill": {
              "color": "#C8D4E3"
             },
             "line": {
              "color": "white"
             }
            },
            "type": "table"
           }
          ]
         },
         "layout": {
          "annotationdefaults": {
           "arrowcolor": "#2a3f5f",
           "arrowhead": 0,
           "arrowwidth": 1
          },
          "autotypenumbers": "strict",
          "coloraxis": {
           "colorbar": {
            "outlinewidth": 0,
            "ticks": ""
           }
          },
          "colorscale": {
           "diverging": [
            [
             0,
             "#8e0152"
            ],
            [
             0.1,
             "#c51b7d"
            ],
            [
             0.2,
             "#de77ae"
            ],
            [
             0.3,
             "#f1b6da"
            ],
            [
             0.4,
             "#fde0ef"
            ],
            [
             0.5,
             "#f7f7f7"
            ],
            [
             0.6,
             "#e6f5d0"
            ],
            [
             0.7,
             "#b8e186"
            ],
            [
             0.8,
             "#7fbc41"
            ],
            [
             0.9,
             "#4d9221"
            ],
            [
             1,
             "#276419"
            ]
           ],
           "sequential": [
            [
             0,
             "#0d0887"
            ],
            [
             0.1111111111111111,
             "#46039f"
            ],
            [
             0.2222222222222222,
             "#7201a8"
            ],
            [
             0.3333333333333333,
             "#9c179e"
            ],
            [
             0.4444444444444444,
             "#bd3786"
            ],
            [
             0.5555555555555556,
             "#d8576b"
            ],
            [
             0.6666666666666666,
             "#ed7953"
            ],
            [
             0.7777777777777778,
             "#fb9f3a"
            ],
            [
             0.8888888888888888,
             "#fdca26"
            ],
            [
             1,
             "#f0f921"
            ]
           ],
           "sequentialminus": [
            [
             0,
             "#0d0887"
            ],
            [
             0.1111111111111111,
             "#46039f"
            ],
            [
             0.2222222222222222,
             "#7201a8"
            ],
            [
             0.3333333333333333,
             "#9c179e"
            ],
            [
             0.4444444444444444,
             "#bd3786"
            ],
            [
             0.5555555555555556,
             "#d8576b"
            ],
            [
             0.6666666666666666,
             "#ed7953"
            ],
            [
             0.7777777777777778,
             "#fb9f3a"
            ],
            [
             0.8888888888888888,
             "#fdca26"
            ],
            [
             1,
             "#f0f921"
            ]
           ]
          },
          "colorway": [
           "#636efa",
           "#EF553B",
           "#00cc96",
           "#ab63fa",
           "#FFA15A",
           "#19d3f3",
           "#FF6692",
           "#B6E880",
           "#FF97FF",
           "#FECB52"
          ],
          "font": {
           "color": "#2a3f5f"
          },
          "geo": {
           "bgcolor": "white",
           "lakecolor": "white",
           "landcolor": "#E5ECF6",
           "showlakes": true,
           "showland": true,
           "subunitcolor": "white"
          },
          "hoverlabel": {
           "align": "left"
          },
          "hovermode": "closest",
          "mapbox": {
           "style": "light"
          },
          "paper_bgcolor": "white",
          "plot_bgcolor": "#E5ECF6",
          "polar": {
           "angularaxis": {
            "gridcolor": "white",
            "linecolor": "white",
            "ticks": ""
           },
           "bgcolor": "#E5ECF6",
           "radialaxis": {
            "gridcolor": "white",
            "linecolor": "white",
            "ticks": ""
           }
          },
          "scene": {
           "xaxis": {
            "backgroundcolor": "#E5ECF6",
            "gridcolor": "white",
            "gridwidth": 2,
            "linecolor": "white",
            "showbackground": true,
            "ticks": "",
            "zerolinecolor": "white"
           },
           "yaxis": {
            "backgroundcolor": "#E5ECF6",
            "gridcolor": "white",
            "gridwidth": 2,
            "linecolor": "white",
            "showbackground": true,
            "ticks": "",
            "zerolinecolor": "white"
           },
           "zaxis": {
            "backgroundcolor": "#E5ECF6",
            "gridcolor": "white",
            "gridwidth": 2,
            "linecolor": "white",
            "showbackground": true,
            "ticks": "",
            "zerolinecolor": "white"
           }
          },
          "shapedefaults": {
           "line": {
            "color": "#2a3f5f"
           }
          },
          "ternary": {
           "aaxis": {
            "gridcolor": "white",
            "linecolor": "white",
            "ticks": ""
           },
           "baxis": {
            "gridcolor": "white",
            "linecolor": "white",
            "ticks": ""
           },
           "bgcolor": "#E5ECF6",
           "caxis": {
            "gridcolor": "white",
            "linecolor": "white",
            "ticks": ""
           }
          },
          "title": {
           "x": 0.05
          },
          "xaxis": {
           "automargin": true,
           "gridcolor": "white",
           "linecolor": "white",
           "ticks": "",
           "title": {
            "standoff": 15
           },
           "zerolinecolor": "white",
           "zerolinewidth": 2
          },
          "yaxis": {
           "automargin": true,
           "gridcolor": "white",
           "linecolor": "white",
           "ticks": "",
           "title": {
            "standoff": 15
           },
           "zerolinecolor": "white",
           "zerolinewidth": 2
          }
         }
        },
        "title": {
         "text": "t-SNE (all features in hover)"
        },
        "xaxis": {
         "title": {
          "text": "t-SNE 1"
         }
        },
        "yaxis": {
         "title": {
          "text": "t-SNE 2"
         }
        }
       }
      }
     },
     "metadata": {},
     "output_type": "display_data"
    }
   ],
   "source": [
    "# Plot t-SNE map for feature visualization\n",
    "fig_tsne = VisualizerFactory.make_tsne(X_transformed, y,\n",
    "                                    perplexity=30,\n",
    "                                    random_state=10)\n",
    "fig_tsne.show()"
   ]
  },
  {
   "cell_type": "markdown",
   "id": "28fdb535",
   "metadata": {},
   "source": [
    "## 6. Conclusion and Next Steps\n",
    "\n",
    "Congratulations! You have completed a full machine learning workflow on the Titanic dataset:\n",
    "- Data loading and exploration\n",
    "- Preprocessing and cleaning\n",
    "- Model training and evaluation\n",
    "- Feature importance analysis and visualization\n",
    "\n",
    "Feel free to experiment with different models, parameters, or datasets!"
   ]
  }
 ],
 "metadata": {
  "kernelspec": {
   "display_name": "Python 3",
   "language": "python",
   "name": "python3"
  },
  "language_info": {
   "codemirror_mode": {
    "name": "ipython",
    "version": 3
   },
   "file_extension": ".py",
   "mimetype": "text/x-python",
   "name": "python",
   "nbconvert_exporter": "python",
   "pygments_lexer": "ipython3",
   "version": "3.9.0"
  }
 },
 "nbformat": 4,
 "nbformat_minor": 5
}
