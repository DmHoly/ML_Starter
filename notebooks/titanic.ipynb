{
 "cells": [
  {
   "cell_type": "markdown",
   "id": "19d4ebba",
   "metadata": {},
   "source": [
    "# Titanic Dataset Onboarding\n",
    "This notebook provides an introduction to the Titanic dataset. The dataset contains information about passengers aboard the Titanic, including their survival status, age, class, and other attributes. We will explore and analyze this dataset."
   ]
  },
  {
   "cell_type": "code",
   "execution_count": 93,
   "id": "c01dd790",
   "metadata": {},
   "outputs": [],
   "source": [
    "# Load Required Libraries\n",
    "import pandas as pd             # basic data manipulation built on NumPy\n",
    "import numpy as np              # numerical operations \n",
    "import seaborn as sns           # statistical data visualization built on Matplotlib\n",
    "import matplotlib.pyplot as plt # plotting library for Python\n",
    "import sklearn as sk            # machine learning library for Python"
   ]
  },
  {
   "cell_type": "code",
   "execution_count": 94,
   "id": "5f575d32",
   "metadata": {},
   "outputs": [
    {
     "data": {
      "text/html": [
       "<div>\n",
       "<style scoped>\n",
       "    .dataframe tbody tr th:only-of-type {\n",
       "        vertical-align: middle;\n",
       "    }\n",
       "\n",
       "    .dataframe tbody tr th {\n",
       "        vertical-align: top;\n",
       "    }\n",
       "\n",
       "    .dataframe thead th {\n",
       "        text-align: right;\n",
       "    }\n",
       "</style>\n",
       "<table border=\"1\" class=\"dataframe\">\n",
       "  <thead>\n",
       "    <tr style=\"text-align: right;\">\n",
       "      <th></th>\n",
       "      <th>survived</th>\n",
       "      <th>pclass</th>\n",
       "      <th>sex</th>\n",
       "      <th>age</th>\n",
       "      <th>sibsp</th>\n",
       "      <th>parch</th>\n",
       "      <th>fare</th>\n",
       "      <th>embarked</th>\n",
       "      <th>class</th>\n",
       "      <th>who</th>\n",
       "      <th>adult_male</th>\n",
       "      <th>deck</th>\n",
       "      <th>embark_town</th>\n",
       "      <th>alive</th>\n",
       "      <th>alone</th>\n",
       "    </tr>\n",
       "  </thead>\n",
       "  <tbody>\n",
       "    <tr>\n",
       "      <th>0</th>\n",
       "      <td>0</td>\n",
       "      <td>3</td>\n",
       "      <td>male</td>\n",
       "      <td>22.0</td>\n",
       "      <td>1</td>\n",
       "      <td>0</td>\n",
       "      <td>7.2500</td>\n",
       "      <td>S</td>\n",
       "      <td>Third</td>\n",
       "      <td>man</td>\n",
       "      <td>True</td>\n",
       "      <td>NaN</td>\n",
       "      <td>Southampton</td>\n",
       "      <td>no</td>\n",
       "      <td>False</td>\n",
       "    </tr>\n",
       "    <tr>\n",
       "      <th>1</th>\n",
       "      <td>1</td>\n",
       "      <td>1</td>\n",
       "      <td>female</td>\n",
       "      <td>38.0</td>\n",
       "      <td>1</td>\n",
       "      <td>0</td>\n",
       "      <td>71.2833</td>\n",
       "      <td>C</td>\n",
       "      <td>First</td>\n",
       "      <td>woman</td>\n",
       "      <td>False</td>\n",
       "      <td>C</td>\n",
       "      <td>Cherbourg</td>\n",
       "      <td>yes</td>\n",
       "      <td>False</td>\n",
       "    </tr>\n",
       "    <tr>\n",
       "      <th>2</th>\n",
       "      <td>1</td>\n",
       "      <td>3</td>\n",
       "      <td>female</td>\n",
       "      <td>26.0</td>\n",
       "      <td>0</td>\n",
       "      <td>0</td>\n",
       "      <td>7.9250</td>\n",
       "      <td>S</td>\n",
       "      <td>Third</td>\n",
       "      <td>woman</td>\n",
       "      <td>False</td>\n",
       "      <td>NaN</td>\n",
       "      <td>Southampton</td>\n",
       "      <td>yes</td>\n",
       "      <td>True</td>\n",
       "    </tr>\n",
       "    <tr>\n",
       "      <th>3</th>\n",
       "      <td>1</td>\n",
       "      <td>1</td>\n",
       "      <td>female</td>\n",
       "      <td>35.0</td>\n",
       "      <td>1</td>\n",
       "      <td>0</td>\n",
       "      <td>53.1000</td>\n",
       "      <td>S</td>\n",
       "      <td>First</td>\n",
       "      <td>woman</td>\n",
       "      <td>False</td>\n",
       "      <td>C</td>\n",
       "      <td>Southampton</td>\n",
       "      <td>yes</td>\n",
       "      <td>False</td>\n",
       "    </tr>\n",
       "    <tr>\n",
       "      <th>4</th>\n",
       "      <td>0</td>\n",
       "      <td>3</td>\n",
       "      <td>male</td>\n",
       "      <td>35.0</td>\n",
       "      <td>0</td>\n",
       "      <td>0</td>\n",
       "      <td>8.0500</td>\n",
       "      <td>S</td>\n",
       "      <td>Third</td>\n",
       "      <td>man</td>\n",
       "      <td>True</td>\n",
       "      <td>NaN</td>\n",
       "      <td>Southampton</td>\n",
       "      <td>no</td>\n",
       "      <td>True</td>\n",
       "    </tr>\n",
       "  </tbody>\n",
       "</table>\n",
       "</div>"
      ],
      "text/plain": [
       "   survived  pclass     sex   age  sibsp  parch     fare embarked  class  \\\n",
       "0         0       3    male  22.0      1      0   7.2500        S  Third   \n",
       "1         1       1  female  38.0      1      0  71.2833        C  First   \n",
       "2         1       3  female  26.0      0      0   7.9250        S  Third   \n",
       "3         1       1  female  35.0      1      0  53.1000        S  First   \n",
       "4         0       3    male  35.0      0      0   8.0500        S  Third   \n",
       "\n",
       "     who  adult_male deck  embark_town alive  alone  \n",
       "0    man        True  NaN  Southampton    no  False  \n",
       "1  woman       False    C    Cherbourg   yes  False  \n",
       "2  woman       False  NaN  Southampton   yes   True  \n",
       "3  woman       False    C  Southampton   yes  False  \n",
       "4    man        True  NaN  Southampton    no   True  "
      ]
     },
     "execution_count": 94,
     "metadata": {},
     "output_type": "execute_result"
    }
   ],
   "source": [
    "dataset = sns.load_dataset(\"titanic\") # Load the Titanic Dataset \n",
    "dataset.head() # Preview the Dataset\n"
   ]
  },
  {
   "cell_type": "code",
   "execution_count": 95,
   "id": "84b4f98a",
   "metadata": {},
   "outputs": [
    {
     "name": "stderr",
     "output_type": "stream",
     "text": [
      "c:\\Users\\Mehdi\\AppData\\Local\\Programs\\Python\\Python39\\lib\\site-packages\\seaborn\\categorical.py:253: FutureWarning: The default of observed=False is deprecated and will be changed to True in a future version of pandas. Pass observed=False to retain current behavior or observed=True to adopt the future default and silence this warning.\n",
      "  grouped_vals = vals.groupby(grouper)\n",
      "c:\\Users\\Mehdi\\AppData\\Local\\Programs\\Python\\Python39\\lib\\site-packages\\seaborn\\categorical.py:253: FutureWarning: The default of observed=False is deprecated and will be changed to True in a future version of pandas. Pass observed=False to retain current behavior or observed=True to adopt the future default and silence this warning.\n",
      "  grouped_vals = vals.groupby(grouper)\n"
     ]
    },
    {
     "data": {
      "image/png": "[encoded data removed]",
      "text/plain": [
       "<Figure size 432x432 with 1 Axes>"
      ]
     },
     "metadata": {
      "needs_background": "light"
     },
     "output_type": "display_data"
    }
   ],
   "source": [
    "fig, ax = plt.subplots(figsize=(6, 6))                         # Create a figure and axis for plotting\n",
    "sns.countplot(data=dataset, x='class', hue='survived', ax=ax)   # Create a count plot for 'class' vs 'survived'\n",
    "ax.set_title('Survival Count by Class')                         # Set the title of the plot\n",
    "ax.grid(True)                                                   # Add grid lines to the plot"
   ]
  },
  {
   "cell_type": "code",
   "execution_count": 96,
   "id": "58917dba",
   "metadata": {},
   "outputs": [
    {
     "name": "stdout",
     "output_type": "stream",
     "text": [
      "Total Passengers: 891\n",
      "Total Survivors: 342\n",
      "Overall Probability of Survival: 0.38\n"
     ]
    },
    {
     "data": {
      "text/plain": [
       "Text(0.5, 1.0, 'Probability of Survival by Class')"
      ]
     },
     "execution_count": 96,
     "metadata": {},
     "output_type": "execute_result"
    },
    {
     "data": {
      "image/png": "[encoded data removed]",
      "text/plain": [
       "<Figure size 432x432 with 1 Axes>"
      ]
     },
     "metadata": {
      "needs_background": "light"
     },
     "output_type": "display_data"
    }
   ],
   "source": [
    "# Calculate Total Passengers and Survivors\n",
    "total_ppl = dataset.shape[0]  # Total number of passengers\n",
    "total_survived = dataset['survived'].sum()  # Total number of survivors\n",
    "\n",
    "# Calculate Survivors by Class\n",
    "total_survived_by_class = dataset.groupby('class', observed=False)['survived'].sum()  # Total survivors by class\n",
    "\n",
    "# Calculate Probability of Survival\n",
    "probability_of_survival = total_survived / total_ppl  # Overall probability of survival\n",
    "probability_of_survival_by_class = total_survived_by_class / dataset.groupby('class', observed=False).size()  # Probability of survival by class\n",
    "\n",
    "# Display Results\n",
    "print(f\"Total Passengers: {total_ppl}\")\n",
    "print(f\"Total Survivors: {total_survived}\")\n",
    "print(f\"Overall Probability of Survival: {probability_of_survival:.2f}\")\n",
    "fig, ax = plt.subplots(figsize=(6, 6))  # Create a new figure and axis for the probability plot\n",
    "probability_of_survival_by_class.plot(kind='bar', ax=ax)  # Plot the probability of survival by class\n",
    "for i, v in enumerate(probability_of_survival_by_class):\n",
    "    ax.text(i, v + 0.005, f\"{v:.2f}\", ha='center', va='bottom')  # Add text on top of each bar\n",
    "ax.set_title('Probability of Survival by Class')  # Set the title of the probability plot"
   ]
  },
  {
   "cell_type": "markdown",
   "id": "6dda657f",
   "metadata": {},
   "source": [
    "The 1st naive model can be used to predict the chance of survival based only on class\n",
    "We can now calculate the performance of this 1st naive model by comparing the predicted survival probabilities with the actual survival outcomes in the dataset. \n",
    "The idea is to calculate randomly if a passenger survived based on the class they were in, using the probabilities we derived earlier."
   ]
  },
  {
   "cell_type": "code",
   "execution_count": 97,
   "id": "98d45278",
   "metadata": {},
   "outputs": [],
   "source": [
    "def monte_carlo_survival_predict(pclass, survival_probs = {'First': 0.63, 'Second': 0.47, 'Third': 0.24}):\n",
    "    \"\"\"\n",
    "    For a given passenger class, draw 1 (survive) with the empirical survival probability.\n",
    "    \"\"\"\n",
    "    prob = survival_probs[pclass]\n",
    "    return int(np.random.rand() < prob)\n"
   ]
  },
  {
   "cell_type": "code",
   "execution_count": 111,
   "id": "7f205de8",
   "metadata": {},
   "outputs": [
    {
     "data": {
      "text/html": [
       "<div>\n",
       "<style scoped>\n",
       "    .dataframe tbody tr th:only-of-type {\n",
       "        vertical-align: middle;\n",
       "    }\n",
       "\n",
       "    .dataframe tbody tr th {\n",
       "        vertical-align: top;\n",
       "    }\n",
       "\n",
       "    .dataframe thead th {\n",
       "        text-align: right;\n",
       "    }\n",
       "</style>\n",
       "<table border=\"1\" class=\"dataframe\">\n",
       "  <thead>\n",
       "    <tr style=\"text-align: right;\">\n",
       "      <th></th>\n",
       "      <th>class</th>\n",
       "      <th>survived</th>\n",
       "      <th>Monte_Carlo_Prediction</th>\n",
       "    </tr>\n",
       "  </thead>\n",
       "  <tbody>\n",
       "    <tr>\n",
       "      <th>0</th>\n",
       "      <td>Third</td>\n",
       "      <td>0</td>\n",
       "      <td>0</td>\n",
       "    </tr>\n",
       "    <tr>\n",
       "      <th>1</th>\n",
       "      <td>First</td>\n",
       "      <td>1</td>\n",
       "      <td>1</td>\n",
       "    </tr>\n",
       "    <tr>\n",
       "      <th>2</th>\n",
       "      <td>Third</td>\n",
       "      <td>1</td>\n",
       "      <td>0</td>\n",
       "    </tr>\n",
       "    <tr>\n",
       "      <th>3</th>\n",
       "      <td>First</td>\n",
       "      <td>1</td>\n",
       "      <td>1</td>\n",
       "    </tr>\n",
       "    <tr>\n",
       "      <th>4</th>\n",
       "      <td>Third</td>\n",
       "      <td>0</td>\n",
       "      <td>1</td>\n",
       "    </tr>\n",
       "  </tbody>\n",
       "</table>\n",
       "</div>"
      ],
      "text/plain": [
       "   class  survived  Monte_Carlo_Prediction\n",
       "0  Third         0                       0\n",
       "1  First         1                       1\n",
       "2  Third         1                       0\n",
       "3  First         1                       1\n",
       "4  Third         0                       1"
      ]
     },
     "execution_count": 111,
     "metadata": {},
     "output_type": "execute_result"
    }
   ],
   "source": [
    "#make an iteration to predict survival for each passenger\n",
    "for index, row in dataset.iterrows():\n",
    "    dataset.at[index, 'Monte_Carlo_Prediction'] = monte_carlo_survival_predict(row['class'])\n",
    "#display the first few rows of the dataset to see the predictions\n",
    "dataset['Monte_Carlo_Prediction'] = dataset['Monte_Carlo_Prediction'].astype(int)  # Ensure predictions are integers\n",
    "dataset[['class', 'survived', 'Monte_Carlo_Prediction']].head()"
   ]
  },
  {
   "cell_type": "markdown",
   "id": "33e05947",
   "metadata": {},
   "source": [
    "Classical way to score the model is to used a confusion matrix, correctly predicted vs incorrectly predicted for each class."
   ]
  },
  {
   "cell_type": "code",
   "execution_count": 112,
   "id": "bd119542",
   "metadata": {},
   "outputs": [
    {
     "name": "stdout",
     "output_type": "stream",
     "text": [
      "Class First: 103 errors out of 216 (47.69%)\n",
      "Class Second: 85 errors out of 184 (46.20%)\n",
      "Class Third: 176 errors out of 491 (35.85%)\n"
     ]
    }
   ],
   "source": [
    "for name, subdf in dataset.groupby('class', observed=False):\n",
    "    n_passagers = len(subdf)\n",
    "    n_errors = (subdf[\"survived\"] != subdf[\"Monte_Carlo_Prediction\"]).sum()\n",
    "    error_rate = n_errors / n_passagers\n",
    "    print(f\"Class {name}: {n_errors} errors out of {n_passagers} ({error_rate:.2%})\")\n"
   ]
  },
  {
   "cell_type": "markdown",
   "id": "92293029",
   "metadata": {},
   "source": [
    "So this is the very first naive model we can build with this dataset, which is based on the class of the passengers.\n",
    "This model serves as a baseline for further improvements and more complex models that can be developed later."
   ]
  },
  {
   "cell_type": "code",
   "execution_count": null,
   "id": "af2255ea",
   "metadata": {},
   "outputs": [],
   "source": []
  }
 ],
 "metadata": {
  "kernelspec": {
   "display_name": "Python 3",
   "language": "python",
   "name": "python3"
  },
  "language_info": {
   "codemirror_mode": {
    "name": "ipython",
    "version": 3
   },
   "file_extension": ".py",
   "mimetype": "text/x-python",
   "name": "python",
   "nbconvert_exporter": "python",
   "pygments_lexer": "ipython3",
   "version": "3.9.0"
  }
 },
 "nbformat": 4,
 "nbformat_minor": 5
}
