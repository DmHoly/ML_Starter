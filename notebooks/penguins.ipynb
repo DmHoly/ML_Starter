{
 "cells": [
  {
   "cell_type": "markdown",
   "id": "07e4e4d7",
   "metadata": {},
   "source": [
    "# Beginner-Friendly Machine Learning Tutorial: Penguins Dataset\n",
    "\n",
    "Welcome! This notebook will guide you step-by-step through a hands-on machine learning workflow using the Palmer Penguins dataset. You will learn how to:\n",
    "\n",
    "- Load and explore data\n",
    "- Preprocess and clean data\n",
    "- Build and evaluate a machine learning model\n",
    "- Visualize results\n",
    "\n",
    "Let's get started!"
   ]
  },
  {
   "cell_type": "code",
   "execution_count": 1,
   "id": "6d2c4939",
   "metadata": {},
   "outputs": [],
   "source": [
    "# 1. Add project root to sys.path so we can import custom modules from anywhere\n",
    "import sys\n",
    "import os\n",
    "\n",
    "project_root = os.path.abspath(os.path.join(os.getcwd(), '..'))\n",
    "if project_root not in sys.path:\n",
    "    sys.path.insert(0, project_root)"
   ]
  },
  {
   "cell_type": "markdown",
   "id": "7a5d19b9",
   "metadata": {},
   "source": [
    "## 2. Setup: Import Libraries and Configure Environment\n",
    "\n",
    "Let's import the necessary Python libraries and set up our environment."
   ]
  },
  {
   "cell_type": "code",
   "execution_count": 2,
   "id": "72d23620",
   "metadata": {},
   "outputs": [],
   "source": [
    "import seaborn as sns\n",
    "import matplotlib.pyplot as plt\n",
    "import numpy as np\n",
    "import pandas as pd\n",
    "from sklearn.model_selection import train_test_split\n",
    "from sklearn.metrics import classification_report, confusion_matrix\n",
    "from src.utility import *\n",
    "from sklearn.pipeline import Pipeline\n",
    "from sklearn.ensemble import RandomForestClassifier"
   ]
  },
  {
   "cell_type": "markdown",
   "id": "4593b6fb",
   "metadata": {},
   "source": [
    "## 3. About the Custom Machine Learning Classes\n",
    "\n",
    "This notebook uses several custom classes from `utility.py` to simplify and enhance the machine learning workflow:\n",
    "\n",
    "- **FeatureEngineeringSelector**: Flexible feature selection and engineering.\n",
    "- **DataFramePreprocessor**: Handles missing values, scaling, encoding, and duplicate removal.\n",
    "- **GraphAnalyzerEngine**: Analyzes feature importances and relationships.\n",
    "- **VisualizerFactory**: Provides advanced visualizations.\n",
    "\n",
    "These tools make the machine learning process more accessible and interpretable."
   ]
  },
  {
   "cell_type": "markdown",
   "id": "f2025d16",
   "metadata": {},
   "source": [
    "## 4. Load and Explore the Penguins Dataset\n",
    "\n",
    "The Palmer Penguins dataset contains measurements for penguin species observed in Antarctica. Let's load the data and take a first look."
   ]
  },
  {
   "cell_type": "code",
   "execution_count": 3,
   "id": "9c7001ab",
   "metadata": {},
   "outputs": [
    {
     "data": {
      "text/html": [
       "<div>\n",
       "<style scoped>\n",
       "    .dataframe tbody tr th:only-of-type {\n",
       "        vertical-align: middle;\n",
       "    }\n",
       "\n",
       "    .dataframe tbody tr th {\n",
       "        vertical-align: top;\n",
       "    }\n",
       "\n",
       "    .dataframe thead th {\n",
       "        text-align: right;\n",
       "    }\n",
       "</style>\n",
       "<table border=\"1\" class=\"dataframe\">\n",
       "  <thead>\n",
       "    <tr style=\"text-align: right;\">\n",
       "      <th></th>\n",
       "      <th>species</th>\n",
       "      <th>island</th>\n",
       "      <th>bill_length_mm</th>\n",
       "      <th>bill_depth_mm</th>\n",
       "      <th>flipper_length_mm</th>\n",
       "      <th>body_mass_g</th>\n",
       "      <th>sex</th>\n",
       "    </tr>\n",
       "  </thead>\n",
       "  <tbody>\n",
       "    <tr>\n",
       "      <th>0</th>\n",
       "      <td>Adelie</td>\n",
       "      <td>Torgersen</td>\n",
       "      <td>39.1</td>\n",
       "      <td>18.7</td>\n",
       "      <td>181.0</td>\n",
       "      <td>3750.0</td>\n",
       "      <td>Male</td>\n",
       "    </tr>\n",
       "    <tr>\n",
       "      <th>1</th>\n",
       "      <td>Adelie</td>\n",
       "      <td>Torgersen</td>\n",
       "      <td>39.5</td>\n",
       "      <td>17.4</td>\n",
       "      <td>186.0</td>\n",
       "      <td>3800.0</td>\n",
       "      <td>Female</td>\n",
       "    </tr>\n",
       "    <tr>\n",
       "      <th>2</th>\n",
       "      <td>Adelie</td>\n",
       "      <td>Torgersen</td>\n",
       "      <td>40.3</td>\n",
       "      <td>18.0</td>\n",
       "      <td>195.0</td>\n",
       "      <td>3250.0</td>\n",
       "      <td>Female</td>\n",
       "    </tr>\n",
       "    <tr>\n",
       "      <th>3</th>\n",
       "      <td>Adelie</td>\n",
       "      <td>Torgersen</td>\n",
       "      <td>NaN</td>\n",
       "      <td>NaN</td>\n",
       "      <td>NaN</td>\n",
       "      <td>NaN</td>\n",
       "      <td>NaN</td>\n",
       "    </tr>\n",
       "    <tr>\n",
       "      <th>4</th>\n",
       "      <td>Adelie</td>\n",
       "      <td>Torgersen</td>\n",
       "      <td>36.7</td>\n",
       "      <td>19.3</td>\n",
       "      <td>193.0</td>\n",
       "      <td>3450.0</td>\n",
       "      <td>Female</td>\n",
       "    </tr>\n",
       "  </tbody>\n",
       "</table>\n",
       "</div>"
      ],
      "text/plain": [
       "  species     island  bill_length_mm  bill_depth_mm  flipper_length_mm  \\\n",
       "0  Adelie  Torgersen            39.1           18.7              181.0   \n",
       "1  Adelie  Torgersen            39.5           17.4              186.0   \n",
       "2  Adelie  Torgersen            40.3           18.0              195.0   \n",
       "3  Adelie  Torgersen             NaN            NaN                NaN   \n",
       "4  Adelie  Torgersen            36.7           19.3              193.0   \n",
       "\n",
       "   body_mass_g     sex  \n",
       "0       3750.0    Male  \n",
       "1       3800.0  Female  \n",
       "2       3250.0  Female  \n",
       "3          NaN     NaN  \n",
       "4       3450.0  Female  "
      ]
     },
     "execution_count": 3,
     "metadata": {},
     "output_type": "execute_result"
    }
   ],
   "source": [
    "penguins = sns.load_dataset('penguins')\n",
    "penguins.head()"
   ]
  },
  {
   "cell_type": "code",
   "execution_count": 4,
   "id": "37d127ef",
   "metadata": {},
   "outputs": [
    {
     "data": {
      "text/plain": [
       "species\n",
       "Adelie       152\n",
       "Gentoo       124\n",
       "Chinstrap     68\n",
       "Name: count, dtype: int64"
      ]
     },
     "execution_count": 4,
     "metadata": {},
     "output_type": "execute_result"
    }
   ],
   "source": [
    "# Inspect the target variable\n",
    "penguins['species'].value_counts()"
   ]
  },
  {
   "cell_type": "markdown",
   "id": "6fdbd992",
   "metadata": {},
   "source": [
    "## 5. Data Preprocessing: Feature Selection and Cleaning\n",
    "\n",
    "To prepare our data for machine learning, we need to:\n",
    "\n",
    "- Separate features (inputs) from the target (output)\n",
    "- Clean and preprocess the data (handle missing values, encode categories, etc.)\n",
    "\n",
    "**Note:** The 'species' column is categorical and will be encoded. Other categorical columns include 'island' and 'sex'."
   ]
  },
  {
   "cell_type": "code",
   "execution_count": 5,
   "id": "bf29b264",
   "metadata": {},
   "outputs": [
    {
     "name": "stdout",
     "output_type": "stream",
     "text": [
      "Label Mapping: {'species': {0: 'Adelie', 1: 'Chinstrap', 2: 'Gentoo'}, 'island': {0: 'Biscoe', 1: 'Dream', 2: 'Torgersen'}, 'sex': {0: 'Female', 1: 'Male', 2: 'nan'}}\n"
     ]
    },
    {
     "data": {
      "text/html": [
       "<div>\n",
       "<style scoped>\n",
       "    .dataframe tbody tr th:only-of-type {\n",
       "        vertical-align: middle;\n",
       "    }\n",
       "\n",
       "    .dataframe tbody tr th {\n",
       "        vertical-align: top;\n",
       "    }\n",
       "\n",
       "    .dataframe thead th {\n",
       "        text-align: right;\n",
       "    }\n",
       "</style>\n",
       "<table border=\"1\" class=\"dataframe\">\n",
       "  <thead>\n",
       "    <tr style=\"text-align: right;\">\n",
       "      <th></th>\n",
       "      <th>species</th>\n",
       "      <th>island</th>\n",
       "      <th>bill_length_mm</th>\n",
       "      <th>bill_depth_mm</th>\n",
       "      <th>flipper_length_mm</th>\n",
       "      <th>body_mass_g</th>\n",
       "      <th>sex</th>\n",
       "    </tr>\n",
       "  </thead>\n",
       "  <tbody>\n",
       "    <tr>\n",
       "      <th>0</th>\n",
       "      <td>0</td>\n",
       "      <td>2</td>\n",
       "      <td>39.1</td>\n",
       "      <td>18.7</td>\n",
       "      <td>181.0</td>\n",
       "      <td>3750.0</td>\n",
       "      <td>1</td>\n",
       "    </tr>\n",
       "    <tr>\n",
       "      <th>1</th>\n",
       "      <td>0</td>\n",
       "      <td>2</td>\n",
       "      <td>39.5</td>\n",
       "      <td>17.4</td>\n",
       "      <td>186.0</td>\n",
       "      <td>3800.0</td>\n",
       "      <td>0</td>\n",
       "    </tr>\n",
       "    <tr>\n",
       "      <th>2</th>\n",
       "      <td>0</td>\n",
       "      <td>2</td>\n",
       "      <td>40.3</td>\n",
       "      <td>18.0</td>\n",
       "      <td>195.0</td>\n",
       "      <td>3250.0</td>\n",
       "      <td>0</td>\n",
       "    </tr>\n",
       "    <tr>\n",
       "      <th>4</th>\n",
       "      <td>0</td>\n",
       "      <td>2</td>\n",
       "      <td>36.7</td>\n",
       "      <td>19.3</td>\n",
       "      <td>193.0</td>\n",
       "      <td>3450.0</td>\n",
       "      <td>0</td>\n",
       "    </tr>\n",
       "    <tr>\n",
       "      <th>5</th>\n",
       "      <td>0</td>\n",
       "      <td>2</td>\n",
       "      <td>39.3</td>\n",
       "      <td>20.6</td>\n",
       "      <td>190.0</td>\n",
       "      <td>3650.0</td>\n",
       "      <td>1</td>\n",
       "    </tr>\n",
       "  </tbody>\n",
       "</table>\n",
       "</div>"
      ],
      "text/plain": [
       "   species  island  bill_length_mm  bill_depth_mm  flipper_length_mm  \\\n",
       "0        0       2            39.1           18.7              181.0   \n",
       "1        0       2            39.5           17.4              186.0   \n",
       "2        0       2            40.3           18.0              195.0   \n",
       "4        0       2            36.7           19.3              193.0   \n",
       "5        0       2            39.3           20.6              190.0   \n",
       "\n",
       "   body_mass_g  sex  \n",
       "0       3750.0    1  \n",
       "1       3800.0    0  \n",
       "2       3250.0    0  \n",
       "4       3450.0    0  \n",
       "5       3650.0    1  "
      ]
     },
     "execution_count": 5,
     "metadata": {},
     "output_type": "execute_result"
    }
   ],
   "source": [
    "preproc = DataFramePreprocessor(\n",
    "    fill_strategy='drop',  # Drop rows with missing values for simplicity\n",
    "    encoding='label'\n",
    ")\n",
    "penguins_clean = preproc.fit_transform(penguins)\n",
    "label_map = preproc.get_label_mapping()\n",
    "print(\"Label Mapping:\", label_map)\n",
    "penguins_clean.head()"
   ]
  },
  {
   "cell_type": "markdown",
   "id": "52412ac1",
   "metadata": {},
   "source": [
    "## 6. Dataset Overview and Feature/Target Separation\n",
    "\n",
    "Let's generate summary statistics and separate features (X) from the target (y)."
   ]
  },
  {
   "cell_type": "code",
   "execution_count": 6,
   "id": "1e04f1d7",
   "metadata": {},
   "outputs": [
    {
     "name": "stdout",
     "output_type": "stream",
     "text": [
      "Basic stats:\n",
      "                         variance  unique_values  nan_counts    dtype\n",
      "species                 0.791599              3           0    int32\n",
      "island                  0.510818              3           0    int32\n",
      "bill_length_mm         29.906333            163           0  float64\n",
      "bill_depth_mm           3.877888             79           0  float64\n",
      "flipper_length_mm     196.441677             54           0  float64\n",
      "body_mass_g        648372.487699             93           0  float64\n",
      "sex                     0.250733              2           0    int32\n",
      "\n",
      "Colinear pairs (correlation >= 0.8): [('species', 'flipper_length_mm', 0.8507367840013593), ('flipper_length_mm', 'body_mass_g', 0.8729788985653616)]\n"
     ]
    }
   ],
   "source": [
    "overview = preproc.dataset_overview(penguins_clean)\n",
    "print(\"Basic stats:\\n\", overview['stats'])\n",
    "print(\"\\nColinear pairs (correlation >= 0.8):\", overview['colinear_pairs'])\n",
    "\n",
    "# Separate features and target\n",
    "X = penguins_clean.drop(columns=['species'])\n",
    "y = penguins_clean['species']"
   ]
  },
  {
   "cell_type": "markdown",
   "id": "f55f033b",
   "metadata": {},
   "source": [
    "## 7. Feature Engineering and Selection\n",
    "\n",
    "We'll use a model-based strategy to select informative features."
   ]
  },
  {
   "cell_type": "code",
   "execution_count": 7,
   "id": "af16ff1b",
   "metadata": {},
   "outputs": [
    {
     "name": "stdout",
     "output_type": "stream",
     "text": [
      "✓ Selected features: ['bill_length_mm', 'flipper_length_mm']\n",
      "✓ Transformation history:\n",
      "  • {'step': 'model_importance', 'selected': ['bill_length_mm', 'flipper_length_mm'], 'importances': [0.11052413828274918, 0.3484512763778806, 0.15294419675469964, 0.25838368289685737, 0.12072962056453324, 0.008967085123279983]}\n",
      "✓ Transformed shape: (333, 2)\n",
      "\n",
      "Preview of transformed features:\n"
     ]
    },
    {
     "data": {
      "text/html": [
       "<div>\n",
       "<style scoped>\n",
       "    .dataframe tbody tr th:only-of-type {\n",
       "        vertical-align: middle;\n",
       "    }\n",
       "\n",
       "    .dataframe tbody tr th {\n",
       "        vertical-align: top;\n",
       "    }\n",
       "\n",
       "    .dataframe thead th {\n",
       "        text-align: right;\n",
       "    }\n",
       "</style>\n",
       "<table border=\"1\" class=\"dataframe\">\n",
       "  <thead>\n",
       "    <tr style=\"text-align: right;\">\n",
       "      <th></th>\n",
       "      <th>bill_length_mm</th>\n",
       "      <th>flipper_length_mm</th>\n",
       "    </tr>\n",
       "  </thead>\n",
       "  <tbody>\n",
       "    <tr>\n",
       "      <th>0</th>\n",
       "      <td>39.1</td>\n",
       "      <td>181.0</td>\n",
       "    </tr>\n",
       "    <tr>\n",
       "      <th>1</th>\n",
       "      <td>39.5</td>\n",
       "      <td>186.0</td>\n",
       "    </tr>\n",
       "    <tr>\n",
       "      <th>2</th>\n",
       "      <td>40.3</td>\n",
       "      <td>195.0</td>\n",
       "    </tr>\n",
       "    <tr>\n",
       "      <th>4</th>\n",
       "      <td>36.7</td>\n",
       "      <td>193.0</td>\n",
       "    </tr>\n",
       "    <tr>\n",
       "      <th>5</th>\n",
       "      <td>39.3</td>\n",
       "      <td>190.0</td>\n",
       "    </tr>\n",
       "  </tbody>\n",
       "</table>\n",
       "</div>"
      ],
      "text/plain": [
       "   bill_length_mm  flipper_length_mm\n",
       "0            39.1              181.0\n",
       "1            39.5              186.0\n",
       "2            40.3              195.0\n",
       "4            36.7              193.0\n",
       "5            39.3              190.0"
      ]
     },
     "execution_count": 7,
     "metadata": {},
     "output_type": "execute_result"
    }
   ],
   "source": [
    "strategies = [\n",
    "    {\n",
    "        \"name\": \"model_importance\",\n",
    "        \"model_cls\": RandomForestClassifier,\n",
    "        \"threshold\": \"mean\"\n",
    "    }\n",
    "]\n",
    "\n",
    "fes = FeatureEngineeringSelector(\n",
    "    strategies=strategies,\n",
    "    problem_type='classification',\n",
    "    random_state=42\n",
    ")\n",
    "\n",
    "X_transformed = fes.fit_transform(X, y)\n",
    "print(\"✓ Selected features:\", fes.get_support())\n",
    "print(\"✓ Transformation history:\")\n",
    "for step in fes.get_history():\n",
    "    print(\"  •\", step)\n",
    "print(\"✓ Transformed shape:\", X_transformed.shape)\n",
    "print(\"\\nPreview of transformed features:\")\n",
    "X_transformed.head()"
   ]
  },
  {
   "cell_type": "markdown",
   "id": "6a31fabe",
   "metadata": {},
   "source": [
    "## 8. Model Training and Evaluation\n",
    "\n",
    "Now, let's train a machine learning model to predict the penguin species. We'll:\n",
    "\n",
    "- Split the data into training and test sets\n",
    "- Train a Random Forest classifier\n",
    "- Evaluate the model's performance using a classification report and confusion matrix"
   ]
  },
  {
   "cell_type": "code",
   "execution_count": 8,
   "id": "2f7040c9",
   "metadata": {},
   "outputs": [
    {
     "name": "stdout",
     "output_type": "stream",
     "text": [
      "Classification Report:\n",
      "               precision    recall  f1-score   support\n",
      "\n",
      "           0       0.97      0.97      0.97        37\n",
      "           1       0.85      1.00      0.92        17\n",
      "           2       1.00      0.90      0.95        30\n",
      "\n",
      "    accuracy                           0.95        84\n",
      "   macro avg       0.94      0.96      0.95        84\n",
      "weighted avg       0.96      0.95      0.95        84\n",
      "\n"
     ]
    },
    {
     "data": {
      "image/png": "[encoded data removed]",
      "text/plain": [
       "<Figure size 432x360 with 2 Axes>"
      ]
     },
     "metadata": {
      "needs_background": "light"
     },
     "output_type": "display_data"
    }
   ],
   "source": [
    "pipe = Pipeline([\n",
    "    ('model', RandomForestClassifier(random_state=42))\n",
    "])\n",
    "\n",
    "X_train, X_test, y_train, y_test = train_test_split(X_transformed, y, random_state=42, stratify=y)\n",
    "pipe.fit(X_train, y_train)\n",
    "y_pred = pipe.predict(X_test)\n",
    "print('Classification Report:\\n', classification_report(y_test, y_pred))\n",
    "cm = confusion_matrix(y_test, y_pred)\n",
    "fig, ax = plt.subplots(figsize=(6, 5))\n",
    "sns.heatmap(cm, annot=True, fmt='d', cmap='Blues', xticklabels=np.unique(y), yticklabels=np.unique(y), ax=ax)\n",
    "ax.set_xlabel('Predicted')\n",
    "ax.set_ylabel('Actual')\n",
    "plt.show()"
   ]
  },
  {
   "cell_type": "markdown",
   "id": "31433254",
   "metadata": {},
   "source": [
    "## 9. Feature Importance and Visualization\n",
    "\n",
    "Let's use advanced visualizations to explore feature importances and relationships."
   ]
  },
  {
   "cell_type": "code",
   "execution_count": 9,
   "id": "ea27c0b5",
   "metadata": {},
   "outputs": [
    {
     "data": {
      "application/vnd.plotly.v1+json": {
       "config": {
        "plotlyServerURL": "https://plot.ly"
       },
       "data": [
        {
         "link": {
          "color": [
           "rgba(100,200,255,0.6)",
           "rgba(100,200,255,0.6)"
          ],
          "source": [
           2,
           0
          ],
          "target": [
           1,
           1
          ],
          "value": [
           0.1878877331666993,
           0.7951918356125993
          ]
         },
         "node": {
          "label": [
           "flipper_length_mm",
           "species",
           "bill_length_mm"
          ],
          "line": {
           "color": "black",
           "width": 0.5
          },
          "pad": 15,
          "thickness": 20
         },
         "type": "sankey"
        }
       ],
       "layout": {
        "font": {
         "size": 12
        },
        "template": {
         "data": {
          "bar": [
           {
            "error_x": {
             "color": "#2a3f5f"
            },
            "error_y": {
             "color": "#2a3f5f"
            },
            "marker": {
             "line": {
              "color": "#E5ECF6",
              "width": 0.5
             },
             "pattern": {
              "fillmode": "overlay",
              "size": 10,
              "solidity": 0.2
             }
            },
            "type": "bar"
           }
          ],
          "barpolar": [
           {
            "marker": {
             "line": {
              "color": "#E5ECF6",
              "width": 0.5
             },
             "pattern": {
              "fillmode": "overlay",
              "size": 10,
              "solidity": 0.2
             }
            },
            "type": "barpolar"
           }
          ],
          "carpet": [
           {
            "aaxis": {
             "endlinecolor": "#2a3f5f",
             "gridcolor": "white",
             "linecolor": "white",
             "minorgridcolor": "white",
             "startlinecolor": "#2a3f5f"
            },
            "baxis": {
             "endlinecolor": "#2a3f5f",
             "gridcolor": "white",
             "linecolor": "white",
             "minorgridcolor": "white",
             "startlinecolor": "#2a3f5f"
            },
            "type": "carpet"
           }
          ],
          "choropleth": [
           {
            "colorbar": {
             "outlinewidth": 0,
             "ticks": ""
            },
            "type": "choropleth"
           }
          ],
          "contour": [
           {
            "colorbar": {
             "outlinewidth": 0,
             "ticks": ""
            },
            "colorscale": [
             [
              0,
              "#0d0887"
             ],
             [
              0.1111111111111111,
              "#46039f"
             ],
             [
              0.2222222222222222,
              "#7201a8"
             ],
             [
              0.3333333333333333,
              "#9c179e"
             ],
             [
              0.4444444444444444,
              "#bd3786"
             ],
             [
              0.5555555555555556,
              "#d8576b"
             ],
             [
              0.6666666666666666,
              "#ed7953"
             ],
             [
              0.7777777777777778,
              "#fb9f3a"
             ],
             [
              0.8888888888888888,
              "#fdca26"
             ],
             [
              1,
              "#f0f921"
             ]
            ],
            "type": "contour"
           }
          ],
          "contourcarpet": [
           {
            "colorbar": {
             "outlinewidth": 0,
             "ticks": ""
            },
            "type": "contourcarpet"
           }
          ],
          "heatmap": [
           {
            "colorbar": {
             "outlinewidth": 0,
             "ticks": ""
            },
            "colorscale": [
             [
              0,
              "#0d0887"
             ],
             [
              0.1111111111111111,
              "#46039f"
             ],
             [
              0.2222222222222222,
              "#7201a8"
             ],
             [
              0.3333333333333333,
              "#9c179e"
             ],
             [
              0.4444444444444444,
              "#bd3786"
             ],
             [
              0.5555555555555556,
              "#d8576b"
             ],
             [
              0.6666666666666666,
              "#ed7953"
             ],
             [
              0.7777777777777778,
              "#fb9f3a"
             ],
             [
              0.8888888888888888,
              "#fdca26"
             ],
             [
              1,
              "#f0f921"
             ]
            ],
            "type": "heatmap"
           }
          ],
          "heatmapgl": [
           {
            "colorbar": {
             "outlinewidth": 0,
             "ticks": ""
            },
            "colorscale": [
             [
              0,
              "#0d0887"
             ],
             [
              0.1111111111111111,
              "#46039f"
             ],
             [
              0.2222222222222222,
              "#7201a8"
             ],
             [
              0.3333333333333333,
              "#9c179e"
             ],
             [
              0.4444444444444444,
              "#bd3786"
             ],
             [
              0.5555555555555556,
              "#d8576b"
             ],
             [
              0.6666666666666666,
              "#ed7953"
             ],
             [
              0.7777777777777778,
              "#fb9f3a"
             ],
             [
              0.8888888888888888,
              "#fdca26"
             ],
             [
              1,
              "#f0f921"
             ]
            ],
            "type": "heatmapgl"
           }
          ],
          "histogram": [
           {
            "marker": {
             "pattern": {
              "fillmode": "overlay",
              "size": 10,
              "solidity": 0.2
             }
            },
            "type": "histogram"
           }
          ],
          "histogram2d": [
           {
            "colorbar": {
             "outlinewidth": 0,
             "ticks": ""
            },
            "colorscale": [
             [
              0,
              "#0d0887"
             ],
             [
              0.1111111111111111,
              "#46039f"
             ],
             [
              0.2222222222222222,
              "#7201a8"
             ],
             [
              0.3333333333333333,
              "#9c179e"
             ],
             [
              0.4444444444444444,
              "#bd3786"
             ],
             [
              0.5555555555555556,
              "#d8576b"
             ],
             [
              0.6666666666666666,
              "#ed7953"
             ],
             [
              0.7777777777777778,
              "#fb9f3a"
             ],
             [
              0.8888888888888888,
              "#fdca26"
             ],
             [
              1,
              "#f0f921"
             ]
            ],
            "type": "histogram2d"
           }
          ],
          "histogram2dcontour": [
           {
            "colorbar": {
             "outlinewidth": 0,
             "ticks": ""
            },
            "colorscale": [
             [
              0,
              "#0d0887"
             ],
             [
              0.1111111111111111,
              "#46039f"
             ],
             [
              0.2222222222222222,
              "#7201a8"
             ],
             [
              0.3333333333333333,
              "#9c179e"
             ],
             [
              0.4444444444444444,
              "#bd3786"
             ],
             [
              0.5555555555555556,
              "#d8576b"
             ],
             [
              0.6666666666666666,
              "#ed7953"
             ],
             [
              0.7777777777777778,
              "#fb9f3a"
             ],
             [
              0.8888888888888888,
              "#fdca26"
             ],
             [
              1,
              "#f0f921"
             ]
            ],
            "type": "histogram2dcontour"
           }
          ],
          "mesh3d": [
           {
            "colorbar": {
             "outlinewidth": 0,
             "ticks": ""
            },
            "type": "mesh3d"
           }
          ],
          "parcoords": [
           {
            "line": {
             "colorbar": {
              "outlinewidth": 0,
              "ticks": ""
             }
            },
            "type": "parcoords"
           }
          ],
          "pie": [
           {
            "automargin": true,
            "type": "pie"
           }
          ],
          "scatter": [
           {
            "fillpattern": {
             "fillmode": "overlay",
             "size": 10,
             "solidity": 0.2
            },
            "type": "scatter"
           }
          ],
          "scatter3d": [
           {
            "line": {
             "colorbar": {
              "outlinewidth": 0,
              "ticks": ""
             }
            },
            "marker": {
             "colorbar": {
              "outlinewidth": 0,
              "ticks": ""
             }
            },
            "type": "scatter3d"
           }
          ],
          "scattercarpet": [
           {
            "marker": {
             "colorbar": {
              "outlinewidth": 0,
              "ticks": ""
             }
            },
            "type": "scattercarpet"
           }
          ],
          "scattergeo": [
           {
            "marker": {
             "colorbar": {
              "outlinewidth": 0,
              "ticks": ""
             }
            },
            "type": "scattergeo"
           }
          ],
          "scattergl": [
           {
            "marker": {
             "colorbar": {
              "outlinewidth": 0,
              "ticks": ""
             }
            },
            "type": "scattergl"
           }
          ],
          "scattermapbox": [
           {
            "marker": {
             "colorbar": {
              "outlinewidth": 0,
              "ticks": ""
             }
            },
            "type": "scattermapbox"
           }
          ],
          "scatterpolar": [
           {
            "marker": {
             "colorbar": {
              "outlinewidth": 0,
              "ticks": ""
             }
            },
            "type": "scatterpolar"
           }
          ],
          "scatterpolargl": [
           {
            "marker": {
             "colorbar": {
              "outlinewidth": 0,
              "ticks": ""
             }
            },
            "type": "scatterpolargl"
           }
          ],
          "scatterternary": [
           {
            "marker": {
             "colorbar": {
              "outlinewidth": 0,
              "ticks": ""
             }
            },
            "type": "scatterternary"
           }
          ],
          "surface": [
           {
            "colorbar": {
             "outlinewidth": 0,
             "ticks": ""
            },
            "colorscale": [
             [
              0,
              "#0d0887"
             ],
             [
              0.1111111111111111,
              "#46039f"
             ],
             [
              0.2222222222222222,
              "#7201a8"
             ],
             [
              0.3333333333333333,
              "#9c179e"
             ],
             [
              0.4444444444444444,
              "#bd3786"
             ],
             [
              0.5555555555555556,
              "#d8576b"
             ],
             [
              0.6666666666666666,
              "#ed7953"
             ],
             [
              0.7777777777777778,
              "#fb9f3a"
             ],
             [
              0.8888888888888888,
              "#fdca26"
             ],
             [
              1,
              "#f0f921"
             ]
            ],
            "type": "surface"
           }
          ],
          "table": [
           {
            "cells": {
             "fill": {
              "color": "#EBF0F8"
             },
             "line": {
              "color": "white"
             }
            },
            "header": {
             "fill": {
              "color": "#C8D4E3"
             },
             "line": {
              "color": "white"
             }
            },
            "type": "table"
           }
          ]
         },
         "layout": {
          "annotationdefaults": {
           "arrowcolor": "#2a3f5f",
           "arrowhead": 0,
           "arrowwidth": 1
          },
          "autotypenumbers": "strict",
          "coloraxis": {
           "colorbar": {
            "outlinewidth": 0,
            "ticks": ""
           }
          },
          "colorscale": {
           "diverging": [
            [
             0,
             "#8e0152"
            ],
            [
             0.1,
             "#c51b7d"
            ],
            [
             0.2,
             "#de77ae"
            ],
            [
             0.3,
             "#f1b6da"
            ],
            [
             0.4,
             "#fde0ef"
            ],
            [
             0.5,
             "#f7f7f7"
            ],
            [
             0.6,
             "#e6f5d0"
            ],
            [
             0.7,
             "#b8e186"
            ],
            [
             0.8,
             "#7fbc41"
            ],
            [
             0.9,
             "#4d9221"
            ],
            [
             1,
             "#276419"
            ]
           ],
           "sequential": [
            [
             0,
             "#0d0887"
            ],
            [
             0.1111111111111111,
             "#46039f"
            ],
            [
             0.2222222222222222,
             "#7201a8"
            ],
            [
             0.3333333333333333,
             "#9c179e"
            ],
            [
             0.4444444444444444,
             "#bd3786"
            ],
            [
             0.5555555555555556,
             "#d8576b"
            ],
            [
             0.6666666666666666,
             "#ed7953"
            ],
            [
             0.7777777777777778,
             "#fb9f3a"
            ],
            [
             0.8888888888888888,
             "#fdca26"
            ],
            [
             1,
             "#f0f921"
            ]
           ],
           "sequentialminus": [
            [
             0,
             "#0d0887"
            ],
            [
             0.1111111111111111,
             "#46039f"
            ],
            [
             0.2222222222222222,
             "#7201a8"
            ],
            [
             0.3333333333333333,
             "#9c179e"
            ],
            [
             0.4444444444444444,
             "#bd3786"
            ],
            [
             0.5555555555555556,
             "#d8576b"
            ],
            [
             0.6666666666666666,
             "#ed7953"
            ],
            [
             0.7777777777777778,
             "#fb9f3a"
            ],
            [
             0.8888888888888888,
             "#fdca26"
            ],
            [
             1,
             "#f0f921"
            ]
           ]
          },
          "colorway": [
           "#636efa",
           "#EF553B",
           "#00cc96",
           "#ab63fa",
           "#FFA15A",
           "#19d3f3",
           "#FF6692",
           "#B6E880",
           "#FF97FF",
           "#FECB52"
          ],
          "font": {
           "color": "#2a3f5f"
          },
          "geo": {
           "bgcolor": "white",
           "lakecolor": "white",
           "landcolor": "#E5ECF6",
           "showlakes": true,
           "showland": true,
           "subunitcolor": "white"
          },
          "hoverlabel": {
           "align": "left"
          },
          "hovermode": "closest",
          "mapbox": {
           "style": "light"
          },
          "paper_bgcolor": "white",
          "plot_bgcolor": "#E5ECF6",
          "polar": {
           "angularaxis": {
            "gridcolor": "white",
            "linecolor": "white",
            "ticks": ""
           },
           "bgcolor": "#E5ECF6",
           "radialaxis": {
            "gridcolor": "white",
            "linecolor": "white",
            "ticks": ""
           }
          },
          "scene": {
           "xaxis": {
            "backgroundcolor": "#E5ECF6",
            "gridcolor": "white",
            "gridwidth": 2,
            "linecolor": "white",
            "showbackground": true,
            "ticks": "",
            "zerolinecolor": "white"
           },
           "yaxis": {
            "backgroundcolor": "#E5ECF6",
            "gridcolor": "white",
            "gridwidth": 2,
            "linecolor": "white",
            "showbackground": true,
            "ticks": "",
            "zerolinecolor": "white"
           },
           "zaxis": {
            "backgroundcolor": "#E5ECF6",
            "gridcolor": "white",
            "gridwidth": 2,
            "linecolor": "white",
            "showbackground": true,
            "ticks": "",
            "zerolinecolor": "white"
           }
          },
          "shapedefaults": {
           "line": {
            "color": "#2a3f5f"
           }
          },
          "ternary": {
           "aaxis": {
            "gridcolor": "white",
            "linecolor": "white",
            "ticks": ""
           },
           "baxis": {
            "gridcolor": "white",
            "linecolor": "white",
            "ticks": ""
           },
           "bgcolor": "#E5ECF6",
           "caxis": {
            "gridcolor": "white",
            "linecolor": "white",
            "ticks": ""
           }
          },
          "title": {
           "x": 0.05
          },
          "xaxis": {
           "automargin": true,
           "gridcolor": "white",
           "linecolor": "white",
           "ticks": "",
           "title": {
            "standoff": 15
           },
           "zerolinecolor": "white",
           "zerolinewidth": 2
          },
          "yaxis": {
           "automargin": true,
           "gridcolor": "white",
           "linecolor": "white",
           "ticks": "",
           "title": {
            "standoff": 15
           },
           "zerolinecolor": "white",
           "zerolinewidth": 2
          }
         }
        },
        "title": {
         "text": "Sankey Diagram"
        }
       }
      }
     },
     "metadata": {},
     "output_type": "display_data"
    }
   ],
   "source": [
    "engine = GraphAnalyzerEngine()\n",
    "engine.analyze(X_transformed, pd.DataFrame(y))\n",
    "store = engine.get_store()\n",
    "# Relabel targets for better readability\n",
    "relabel_targets_in_store(store, label_map.get('species', {}))\n",
    "fig_sankey = VisualizerFactory.make_sankey(store, show_feature_feature_links=False)\n",
    "fig_sankey.show()"
   ]
  },
  {
   "cell_type": "markdown",
   "id": "3351836b",
   "metadata": {},
   "source": [
    "### 10. Bar Plot of Feature Importances\n",
    "\n",
    "The bar plot below shows the aggregated importance of each feature. The dashed line represents the threshold for random (noise) importance. Features above this line are considered informative."
   ]
  },
  {
   "cell_type": "code",
   "execution_count": 10,
   "id": "f0d49659",
   "metadata": {},
   "outputs": [
    {
     "data": {
      "application/vnd.plotly.v1+json": {
       "config": {
        "plotlyServerURL": "https://plot.ly"
       },
       "data": [
        {
         "alignmentgroup": "True",
         "hovertemplate": "variable=reliable<br>feature=%{x}<br>value=%{y}<extra></extra>",
         "legendgroup": "reliable",
         "marker": {
          "color": "#636efa",
          "pattern": {
           "shape": ""
          }
         },
         "name": "reliable",
         "offsetgroup": "reliable",
         "orientation": "v",
         "showlegend": true,
         "textposition": "auto",
         "texttemplate": "%{y:.2f}",
         "type": "bar",
         "x": [
          "flipper_length_mm",
          "bill_length_mm"
         ],
         "xaxis": "x",
         "y": [
          0.7951918356125993,
          0.1878877331666993
         ],
         "yaxis": "y"
        },
        {
         "alignmentgroup": "True",
         "hovertemplate": "variable=noise<br>feature=%{x}<br>value=%{y}<extra></extra>",
         "legendgroup": "noise",
         "marker": {
          "color": "#EF553B",
          "pattern": {
           "shape": ""
          }
         },
         "name": "noise",
         "offsetgroup": "noise",
         "orientation": "v",
         "showlegend": true,
         "textposition": "auto",
         "texttemplate": "%{y:.2f}",
         "type": "bar",
         "x": [
          "flipper_length_mm",
          "bill_length_mm"
         ],
         "xaxis": "x",
         "y": [
          0,
          0
         ],
         "yaxis": "y"
        }
       ],
       "layout": {
        "annotations": [
         {
          "showarrow": false,
          "text": "Random Threshold",
          "x": 1,
          "xanchor": "right",
          "xref": "x domain",
          "y": 0.016920431220701335,
          "yanchor": "bottom",
          "yref": "y"
         }
        ],
        "barmode": "stack",
        "legend": {
         "title": {
          "text": "variable"
         },
         "tracegroupgap": 0
        },
        "shapes": [
         {
          "line": {
           "dash": "dash"
          },
          "type": "line",
          "x0": 0,
          "x1": 1,
          "xref": "x domain",
          "y0": 0.016920431220701335,
          "y1": 0.016920431220701335,
          "yref": "y"
         }
        ],
        "template": {
         "data": {
          "bar": [
           {
            "error_x": {
             "color": "#2a3f5f"
            },
            "error_y": {
             "color": "#2a3f5f"
            },
            "marker": {
             "line": {
              "color": "#E5ECF6",
              "width": 0.5
             },
             "pattern": {
              "fillmode": "overlay",
              "size": 10,
              "solidity": 0.2
             }
            },
            "type": "bar"
           }
          ],
          "barpolar": [
           {
            "marker": {
             "line": {
              "color": "#E5ECF6",
              "width": 0.5
             },
             "pattern": {
              "fillmode": "overlay",
              "size": 10,
              "solidity": 0.2
             }
            },
            "type": "barpolar"
           }
          ],
          "carpet": [
           {
            "aaxis": {
             "endlinecolor": "#2a3f5f",
             "gridcolor": "white",
             "linecolor": "white",
             "minorgridcolor": "white",
             "startlinecolor": "#2a3f5f"
            },
            "baxis": {
             "endlinecolor": "#2a3f5f",
             "gridcolor": "white",
             "linecolor": "white",
             "minorgridcolor": "white",
             "startlinecolor": "#2a3f5f"
            },
            "type": "carpet"
           }
          ],
          "choropleth": [
           {
            "colorbar": {
             "outlinewidth": 0,
             "ticks": ""
            },
            "type": "choropleth"
           }
          ],
          "contour": [
           {
            "colorbar": {
             "outlinewidth": 0,
             "ticks": ""
            },
            "colorscale": [
             [
              0,
              "#0d0887"
             ],
             [
              0.1111111111111111,
              "#46039f"
             ],
             [
              0.2222222222222222,
              "#7201a8"
             ],
             [
              0.3333333333333333,
              "#9c179e"
             ],
             [
              0.4444444444444444,
              "#bd3786"
             ],
             [
              0.5555555555555556,
              "#d8576b"
             ],
             [
              0.6666666666666666,
              "#ed7953"
             ],
             [
              0.7777777777777778,
              "#fb9f3a"
             ],
             [
              0.8888888888888888,
              "#fdca26"
             ],
             [
              1,
              "#f0f921"
             ]
            ],
            "type": "contour"
           }
          ],
          "contourcarpet": [
           {
            "colorbar": {
             "outlinewidth": 0,
             "ticks": ""
            },
            "type": "contourcarpet"
           }
          ],
          "heatmap": [
           {
            "colorbar": {
             "outlinewidth": 0,
             "ticks": ""
            },
            "colorscale": [
             [
              0,
              "#0d0887"
             ],
             [
              0.1111111111111111,
              "#46039f"
             ],
             [
              0.2222222222222222,
              "#7201a8"
             ],
             [
              0.3333333333333333,
              "#9c179e"
             ],
             [
              0.4444444444444444,
              "#bd3786"
             ],
             [
              0.5555555555555556,
              "#d8576b"
             ],
             [
              0.6666666666666666,
              "#ed7953"
             ],
             [
              0.7777777777777778,
              "#fb9f3a"
             ],
             [
              0.8888888888888888,
              "#fdca26"
             ],
             [
              1,
              "#f0f921"
             ]
            ],
            "type": "heatmap"
           }
          ],
          "heatmapgl": [
           {
            "colorbar": {
             "outlinewidth": 0,
             "ticks": ""
            },
            "colorscale": [
             [
              0,
              "#0d0887"
             ],
             [
              0.1111111111111111,
              "#46039f"
             ],
             [
              0.2222222222222222,
              "#7201a8"
             ],
             [
              0.3333333333333333,
              "#9c179e"
             ],
             [
              0.4444444444444444,
              "#bd3786"
             ],
             [
              0.5555555555555556,
              "#d8576b"
             ],
             [
              0.6666666666666666,
              "#ed7953"
             ],
             [
              0.7777777777777778,
              "#fb9f3a"
             ],
             [
              0.8888888888888888,
              "#fdca26"
             ],
             [
              1,
              "#f0f921"
             ]
            ],
            "type": "heatmapgl"
           }
          ],
          "histogram": [
           {
            "marker": {
             "pattern": {
              "fillmode": "overlay",
              "size": 10,
              "solidity": 0.2
             }
            },
            "type": "histogram"
           }
          ],
          "histogram2d": [
           {
            "colorbar": {
             "outlinewidth": 0,
             "ticks": ""
            },
            "colorscale": [
             [
              0,
              "#0d0887"
             ],
             [
              0.1111111111111111,
              "#46039f"
             ],
             [
              0.2222222222222222,
              "#7201a8"
             ],
             [
              0.3333333333333333,
              "#9c179e"
             ],
             [
              0.4444444444444444,
              "#bd3786"
             ],
             [
              0.5555555555555556,
              "#d8576b"
             ],
             [
              0.6666666666666666,
              "#ed7953"
             ],
             [
              0.7777777777777778,
              "#fb9f3a"
             ],
             [
              0.8888888888888888,
              "#fdca26"
             ],
             [
              1,
              "#f0f921"
             ]
            ],
            "type": "histogram2d"
           }
          ],
          "histogram2dcontour": [
           {
            "colorbar": {
             "outlinewidth": 0,
             "ticks": ""
            },
            "colorscale": [
             [
              0,
              "#0d0887"
             ],
             [
              0.1111111111111111,
              "#46039f"
             ],
             [
              0.2222222222222222,
              "#7201a8"
             ],
             [
              0.3333333333333333,
              "#9c179e"
             ],
             [
              0.4444444444444444,
              "#bd3786"
             ],
             [
              0.5555555555555556,
              "#d8576b"
             ],
             [
              0.6666666666666666,
              "#ed7953"
             ],
             [
              0.7777777777777778,
              "#fb9f3a"
             ],
             [
              0.8888888888888888,
              "#fdca26"
             ],
             [
              1,
              "#f0f921"
             ]
            ],
            "type": "histogram2dcontour"
           }
          ],
          "mesh3d": [
           {
            "colorbar": {
             "outlinewidth": 0,
             "ticks": ""
            },
            "type": "mesh3d"
           }
          ],
          "parcoords": [
           {
            "line": {
             "colorbar": {
              "outlinewidth": 0,
              "ticks": ""
             }
            },
            "type": "parcoords"
           }
          ],
          "pie": [
           {
            "automargin": true,
            "type": "pie"
           }
          ],
          "scatter": [
           {
            "fillpattern": {
             "fillmode": "overlay",
             "size": 10,
             "solidity": 0.2
            },
            "type": "scatter"
           }
          ],
          "scatter3d": [
           {
            "line": {
             "colorbar": {
              "outlinewidth": 0,
              "ticks": ""
             }
            },
            "marker": {
             "colorbar": {
              "outlinewidth": 0,
              "ticks": ""
             }
            },
            "type": "scatter3d"
           }
          ],
          "scattercarpet": [
           {
            "marker": {
             "colorbar": {
              "outlinewidth": 0,
              "ticks": ""
             }
            },
            "type": "scattercarpet"
           }
          ],
          "scattergeo": [
           {
            "marker": {
             "colorbar": {
              "outlinewidth": 0,
              "ticks": ""
             }
            },
            "type": "scattergeo"
           }
          ],
          "scattergl": [
           {
            "marker": {
             "colorbar": {
              "outlinewidth": 0,
              "ticks": ""
             }
            },
            "type": "scattergl"
           }
          ],
          "scattermapbox": [
           {
            "marker": {
             "colorbar": {
              "outlinewidth": 0,
              "ticks": ""
             }
            },
            "type": "scattermapbox"
           }
          ],
          "scatterpolar": [
           {
            "marker": {
             "colorbar": {
              "outlinewidth": 0,
              "ticks": ""
             }
            },
            "type": "scatterpolar"
           }
          ],
          "scatterpolargl": [
           {
            "marker": {
             "colorbar": {
              "outlinewidth": 0,
              "ticks": ""
             }
            },
            "type": "scatterpolargl"
           }
          ],
          "scatterternary": [
           {
            "marker": {
             "colorbar": {
              "outlinewidth": 0,
              "ticks": ""
             }
            },
            "type": "scatterternary"
           }
          ],
          "surface": [
           {
            "colorbar": {
             "outlinewidth": 0,
             "ticks": ""
            },
            "colorscale": [
             [
              0,
              "#0d0887"
             ],
             [
              0.1111111111111111,
              "#46039f"
             ],
             [
              0.2222222222222222,
              "#7201a8"
             ],
             [
              0.3333333333333333,
              "#9c179e"
             ],
             [
              0.4444444444444444,
              "#bd3786"
             ],
             [
              0.5555555555555556,
              "#d8576b"
             ],
             [
              0.6666666666666666,
              "#ed7953"
             ],
             [
              0.7777777777777778,
              "#fb9f3a"
             ],
             [
              0.8888888888888888,
              "#fdca26"
             ],
             [
              1,
              "#f0f921"
             ]
            ],
            "type": "surface"
           }
          ],
          "table": [
           {
            "cells": {
             "fill": {
              "color": "#EBF0F8"
             },
             "line": {
              "color": "white"
             }
            },
            "header": {
             "fill": {
              "color": "#C8D4E3"
             },
             "line": {
              "color": "white"
             }
            },
            "type": "table"
           }
          ]
         },
         "layout": {
          "annotationdefaults": {
           "arrowcolor": "#2a3f5f",
           "arrowhead": 0,
           "arrowwidth": 1
          },
          "autotypenumbers": "strict",
          "coloraxis": {
           "colorbar": {
            "outlinewidth": 0,
            "ticks": ""
           }
          },
          "colorscale": {
           "diverging": [
            [
             0,
             "#8e0152"
            ],
            [
             0.1,
             "#c51b7d"
            ],
            [
             0.2,
             "#de77ae"
            ],
            [
             0.3,
             "#f1b6da"
            ],
            [
             0.4,
             "#fde0ef"
            ],
            [
             0.5,
             "#f7f7f7"
            ],
            [
             0.6,
             "#e6f5d0"
            ],
            [
             0.7,
             "#b8e186"
            ],
            [
             0.8,
             "#7fbc41"
            ],
            [
             0.9,
             "#4d9221"
            ],
            [
             1,
             "#276419"
            ]
           ],
           "sequential": [
            [
             0,
             "#0d0887"
            ],
            [
             0.1111111111111111,
             "#46039f"
            ],
            [
             0.2222222222222222,
             "#7201a8"
            ],
            [
             0.3333333333333333,
             "#9c179e"
            ],
            [
             0.4444444444444444,
             "#bd3786"
            ],
            [
             0.5555555555555556,
             "#d8576b"
            ],
            [
             0.6666666666666666,
             "#ed7953"
            ],
            [
             0.7777777777777778,
             "#fb9f3a"
            ],
            [
             0.8888888888888888,
             "#fdca26"
            ],
            [
             1,
             "#f0f921"
            ]
           ],
           "sequentialminus": [
            [
             0,
             "#0d0887"
            ],
            [
             0.1111111111111111,
             "#46039f"
            ],
            [
             0.2222222222222222,
             "#7201a8"
            ],
            [
             0.3333333333333333,
             "#9c179e"
            ],
            [
             0.4444444444444444,
             "#bd3786"
            ],
            [
             0.5555555555555556,
             "#d8576b"
            ],
            [
             0.6666666666666666,
             "#ed7953"
            ],
            [
             0.7777777777777778,
             "#fb9f3a"
            ],
            [
             0.8888888888888888,
             "#fdca26"
            ],
            [
             1,
             "#f0f921"
            ]
           ]
          },
          "colorway": [
           "#636efa",
           "#EF553B",
           "#00cc96",
           "#ab63fa",
           "#FFA15A",
           "#19d3f3",
           "#FF6692",
           "#B6E880",
           "#FF97FF",
           "#FECB52"
          ],
          "font": {
           "color": "#2a3f5f"
          },
          "geo": {
           "bgcolor": "white",
           "lakecolor": "white",
           "landcolor": "#E5ECF6",
           "showlakes": true,
           "showland": true,
           "subunitcolor": "white"
          },
          "hoverlabel": {
           "align": "left"
          },
          "hovermode": "closest",
          "mapbox": {
           "style": "light"
          },
          "paper_bgcolor": "white",
          "plot_bgcolor": "#E5ECF6",
          "polar": {
           "angularaxis": {
            "gridcolor": "white",
            "linecolor": "white",
            "ticks": ""
           },
           "bgcolor": "#E5ECF6",
           "radialaxis": {
            "gridcolor": "white",
            "linecolor": "white",
            "ticks": ""
           }
          },
          "scene": {
           "xaxis": {
            "backgroundcolor": "#E5ECF6",
            "gridcolor": "white",
            "gridwidth": 2,
            "linecolor": "white",
            "showbackground": true,
            "ticks": "",
            "zerolinecolor": "white"
           },
           "yaxis": {
            "backgroundcolor": "#E5ECF6",
            "gridcolor": "white",
            "gridwidth": 2,
            "linecolor": "white",
            "showbackground": true,
            "ticks": "",
            "zerolinecolor": "white"
           },
           "zaxis": {
            "backgroundcolor": "#E5ECF6",
            "gridcolor": "white",
            "gridwidth": 2,
            "linecolor": "white",
            "showbackground": true,
            "ticks": "",
            "zerolinecolor": "white"
           }
          },
          "shapedefaults": {
           "line": {
            "color": "#2a3f5f"
           }
          },
          "ternary": {
           "aaxis": {
            "gridcolor": "white",
            "linecolor": "white",
            "ticks": ""
           },
           "baxis": {
            "gridcolor": "white",
            "linecolor": "white",
            "ticks": ""
           },
           "bgcolor": "#E5ECF6",
           "caxis": {
            "gridcolor": "white",
            "linecolor": "white",
            "ticks": ""
           }
          },
          "title": {
           "x": 0.05
          },
          "xaxis": {
           "automargin": true,
           "gridcolor": "white",
           "linecolor": "white",
           "ticks": "",
           "title": {
            "standoff": 15
           },
           "zerolinecolor": "white",
           "zerolinewidth": 2
          },
          "yaxis": {
           "automargin": true,
           "gridcolor": "white",
           "linecolor": "white",
           "ticks": "",
           "title": {
            "standoff": 15
           },
           "zerolinecolor": "white",
           "zerolinewidth": 2
          }
         }
        },
        "title": {
         "text": "Feature Importances (reliable + noise)"
        },
        "xaxis": {
         "anchor": "y",
         "domain": [
          0,
          1
         ],
         "tickangle": -45,
         "title": {
          "text": "feature"
         }
        },
        "yaxis": {
         "anchor": "x",
         "domain": [
          0,
          1
         ],
         "title": {
          "text": "value"
         }
        }
       }
      }
     },
     "metadata": {},
     "output_type": "display_data"
    }
   ],
   "source": [
    "fig_bar = VisualizerFactory.make_bar(store, show_threshold=True, show_noise=True)\n",
    "fig_bar.show()"
   ]
  },
  {
   "cell_type": "markdown",
   "id": "ed50cbbe",
   "metadata": {},
   "source": [
    "## 11. t-SNE Feature Visualization\n",
    "\n",
    "Visualize the transformed features and classes using t-SNE."
   ]
  },
  {
   "cell_type": "code",
   "execution_count": 11,
   "id": "fcc5ea1e",
   "metadata": {},
   "outputs": [
    {
     "data": {
      "application/vnd.plotly.v1+json": {
       "config": {
        "plotlyServerURL": "https://plot.ly"
       },
       "data": [
        {
         "customdata": [
          [
           39.1,
           181
          ],
          [
           39.5,
           186
          ],
          [
           40.3,
           195
          ],
          [
           36.7,
           193
          ],
          [
           39.3,
           190
          ],
          [
           38.9,
           181
          ],
          [
           39.2,
           195
          ],
          [
           41.1,
           182
          ],
          [
           38.6,
           191
          ],
          [
           34.6,
           198
          ],
          [
           36.6,
           185
          ],
          [
           38.7,
           195
          ],
          [
           42.5,
           197
          ],
          [
           34.4,
           184
          ],
          [
           46,
           194
          ],
          [
           37.8,
           174
          ],
          [
           37.7,
           180
          ],
          [
           35.9,
           189
          ],
          [
           38.2,
           185
          ],
          [
           38.8,
           180
          ],
          [
           35.3,
           187
          ],
          [
           40.6,
           183
          ],
          [
           40.5,
           187
          ],
          [
           37.9,
           172
          ],
          [
           40.5,
           180
          ],
          [
           39.5,
           178
          ],
          [
           37.2,
           178
          ],
          [
           39.5,
           188
          ],
          [
           40.9,
           184
          ],
          [
           36.4,
           195
          ],
          [
           39.2,
           196
          ],
          [
           38.8,
           190
          ],
          [
           42.2,
           180
          ],
          [
           37.6,
           181
          ],
          [
           39.8,
           184
          ],
          [
           36.5,
           182
          ],
          [
           40.8,
           195
          ],
          [
           36,
           186
          ],
          [
           44.1,
           196
          ],
          [
           37,
           185
          ],
          [
           39.6,
           190
          ],
          [
           41.1,
           182
          ],
          [
           36,
           190
          ],
          [
           42.3,
           191
          ],
          [
           39.6,
           186
          ],
          [
           40.1,
           188
          ],
          [
           35,
           190
          ],
          [
           42,
           200
          ],
          [
           34.5,
           187
          ],
          [
           41.4,
           191
          ],
          [
           39,
           186
          ],
          [
           40.6,
           193
          ],
          [
           36.5,
           181
          ],
          [
           37.6,
           194
          ],
          [
           35.7,
           185
          ],
          [
           41.3,
           195
          ],
          [
           37.6,
           185
          ],
          [
           41.1,
           192
          ],
          [
           36.4,
           184
          ],
          [
           41.6,
           192
          ],
          [
           35.5,
           195
          ],
          [
           41.1,
           188
          ],
          [
           35.9,
           190
          ],
          [
           41.8,
           198
          ],
          [
           33.5,
           190
          ],
          [
           39.7,
           190
          ],
          [
           39.6,
           196
          ],
          [
           45.8,
           197
          ],
          [
           35.5,
           190
          ],
          [
           42.8,
           195
          ],
          [
           40.9,
           191
          ],
          [
           37.2,
           184
          ],
          [
           36.2,
           187
          ],
          [
           42.1,
           195
          ],
          [
           34.6,
           189
          ],
          [
           42.9,
           196
          ],
          [
           36.7,
           187
          ],
          [
           35.1,
           193
          ],
          [
           37.3,
           191
          ],
          [
           41.3,
           194
          ],
          [
           36.3,
           190
          ],
          [
           36.9,
           189
          ],
          [
           38.3,
           189
          ],
          [
           38.9,
           190
          ],
          [
           35.7,
           202
          ],
          [
           41.1,
           205
          ],
          [
           34,
           185
          ],
          [
           39.6,
           186
          ],
          [
           36.2,
           187
          ],
          [
           40.8,
           208
          ],
          [
           38.1,
           190
          ],
          [
           40.3,
           196
          ],
          [
           33.1,
           178
          ],
          [
           43.2,
           192
          ],
          [
           35,
           192
          ],
          [
           41,
           203
          ],
          [
           37.7,
           183
          ],
          [
           37.8,
           190
          ],
          [
           37.9,
           193
          ],
          [
           39.7,
           184
          ],
          [
           38.6,
           199
          ],
          [
           38.2,
           190
          ],
          [
           38.1,
           181
          ],
          [
           43.2,
           197
          ],
          [
           38.1,
           198
          ],
          [
           45.6,
           191
          ],
          [
           39.7,
           193
          ],
          [
           42.2,
           197
          ],
          [
           39.6,
           191
          ],
          [
           42.7,
           196
          ],
          [
           38.6,
           188
          ],
          [
           37.3,
           199
          ],
          [
           35.7,
           189
          ],
          [
           41.1,
           189
          ],
          [
           36.2,
           187
          ],
          [
           37.7,
           198
          ],
          [
           40.2,
           176
          ],
          [
           41.4,
           202
          ],
          [
           35.2,
           186
          ],
          [
           40.6,
           199
          ],
          [
           38.8,
           191
          ],
          [
           41.5,
           195
          ],
          [
           39,
           191
          ],
          [
           44.1,
           210
          ],
          [
           38.5,
           190
          ],
          [
           43.1,
           197
          ],
          [
           36.8,
           193
          ],
          [
           37.5,
           199
          ],
          [
           38.1,
           187
          ],
          [
           41.1,
           190
          ],
          [
           35.6,
           191
          ],
          [
           40.2,
           200
          ],
          [
           37,
           185
          ],
          [
           39.7,
           193
          ],
          [
           40.2,
           193
          ],
          [
           40.6,
           187
          ],
          [
           32.1,
           188
          ],
          [
           40.7,
           190
          ],
          [
           37.3,
           192
          ],
          [
           39,
           185
          ],
          [
           39.2,
           190
          ],
          [
           36.6,
           184
          ],
          [
           36,
           195
          ],
          [
           37.8,
           193
          ],
          [
           36,
           187
          ],
          [
           41.5,
           201
          ],
          [
           46.5,
           192
          ],
          [
           50,
           196
          ],
          [
           51.3,
           193
          ],
          [
           45.4,
           188
          ],
          [
           52.7,
           197
          ],
          [
           45.2,
           198
          ],
          [
           46.1,
           178
          ],
          [
           51.3,
           197
          ],
          [
           46,
           195
          ],
          [
           51.3,
           198
          ],
          [
           46.6,
           193
          ],
          [
           51.7,
           194
          ],
          [
           47,
           185
          ],
          [
           52,
           201
          ],
          [
           45.9,
           190
          ],
          [
           50.5,
           201
          ],
          [
           50.3,
           197
          ],
          [
           58,
           181
          ],
          [
           46.4,
           190
          ],
          [
           49.2,
           195
          ],
          [
           42.4,
           181
          ],
          [
           48.5,
           191
          ],
          [
           43.2,
           187
          ],
          [
           50.6,
           193
          ],
          [
           46.7,
           195
          ],
          [
           52,
           197
          ],
          [
           50.5,
           200
          ],
          [
           49.5,
           200
          ],
          [
           46.4,
           191
          ],
          [
           52.8,
           205
          ],
          [
           40.9,
           187
          ],
          [
           54.2,
           201
          ],
          [
           42.5,
           187
          ],
          [
           51,
           203
          ],
          [
           49.7,
           195
          ],
          [
           47.5,
           199
          ],
          [
           47.6,
           195
          ],
          [
           52,
           210
          ],
          [
           46.9,
           192
          ],
          [
           53.5,
           205
          ],
          [
           49,
           210
          ],
          [
           46.2,
           187
          ],
          [
           50.9,
           196
          ],
          [
           45.5,
           196
          ],
          [
           50.9,
           196
          ],
          [
           50.8,
           201
          ],
          [
           50.1,
           190
          ],
          [
           49,
           212
          ],
          [
           51.5,
           187
          ],
          [
           49.8,
           198
          ],
          [
           48.1,
           199
          ],
          [
           51.4,
           201
          ],
          [
           45.7,
           193
          ],
          [
           50.7,
           203
          ],
          [
           42.5,
           187
          ],
          [
           52.2,
           197
          ],
          [
           45.2,
           191
          ],
          [
           49.3,
           203
          ],
          [
           50.2,
           202
          ],
          [
           45.6,
           194
          ],
          [
           51.9,
           206
          ],
          [
           46.8,
           189
          ],
          [
           45.7,
           195
          ],
          [
           55.8,
           207
          ],
          [
           43.5,
           202
          ],
          [
           49.6,
           193
          ],
          [
           50.8,
           210
          ],
          [
           50.2,
           198
          ],
          [
           46.1,
           211
          ],
          [
           50,
           230
          ],
          [
           48.7,
           210
          ],
          [
           50,
           218
          ],
          [
           47.6,
           215
          ],
          [
           46.5,
           210
          ],
          [
           45.4,
           211
          ],
          [
           46.7,
           219
          ],
          [
           43.3,
           209
          ],
          [
           46.8,
           215
          ],
          [
           40.9,
           214
          ],
          [
           49,
           216
          ],
          [
           45.5,
           214
          ],
          [
           48.4,
           213
          ],
          [
           45.8,
           210
          ],
          [
           49.3,
           217
          ],
          [
           42,
           210
          ],
          [
           49.2,
           221
          ],
          [
           46.2,
           209
          ],
          [
           48.7,
           222
          ],
          [
           50.2,
           218
          ],
          [
           45.1,
           215
          ],
          [
           46.5,
           213
          ],
          [
           46.3,
           215
          ],
          [
           42.9,
           215
          ],
          [
           46.1,
           215
          ],
          [
           47.8,
           215
          ],
          [
           48.2,
           210
          ],
          [
           50,
           220
          ],
          [
           47.3,
           222
          ],
          [
           42.8,
           209
          ],
          [
           45.1,
           207
          ],
          [
           59.6,
           230
          ],
          [
           49.1,
           220
          ],
          [
           48.4,
           220
          ],
          [
           42.6,
           213
          ],
          [
           44.4,
           219
          ],
          [
           44,
           208
          ],
          [
           48.7,
           208
          ],
          [
           42.7,
           208
          ],
          [
           49.6,
           225
          ],
          [
           45.3,
           210
          ],
          [
           49.6,
           216
          ],
          [
           50.5,
           222
          ],
          [
           43.6,
           217
          ],
          [
           45.5,
           210
          ],
          [
           50.5,
           225
          ],
          [
           44.9,
           213
          ],
          [
           45.2,
           215
          ],
          [
           46.6,
           210
          ],
          [
           48.5,
           220
          ],
          [
           45.1,
           210
          ],
          [
           50.1,
           225
          ],
          [
           46.5,
           217
          ],
          [
           45,
           220
          ],
          [
           43.8,
           208
          ],
          [
           45.5,
           220
          ],
          [
           43.2,
           208
          ],
          [
           50.4,
           224
          ],
          [
           45.3,
           208
          ],
          [
           46.2,
           221
          ],
          [
           45.7,
           214
          ],
          [
           54.3,
           231
          ],
          [
           45.8,
           219
          ],
          [
           49.8,
           230
          ],
          [
           49.5,
           229
          ],
          [
           43.5,
           220
          ],
          [
           50.7,
           223
          ],
          [
           47.7,
           216
          ],
          [
           46.4,
           221
          ],
          [
           48.2,
           221
          ],
          [
           46.5,
           217
          ],
          [
           46.4,
           216
          ],
          [
           48.6,
           230
          ],
          [
           47.5,
           209
          ],
          [
           51.1,
           220
          ],
          [
           45.2,
           215
          ],
          [
           45.2,
           223
          ],
          [
           49.1,
           212
          ],
          [
           52.5,
           221
          ],
          [
           47.4,
           212
          ],
          [
           50,
           224
          ],
          [
           44.9,
           212
          ],
          [
           50.8,
           228
          ],
          [
           43.4,
           218
          ],
          [
           51.3,
           218
          ],
          [
           47.5,
           212
          ],
          [
           52.1,
           230
          ],
          [
           47.5,
           218
          ],
          [
           52.2,
           228
          ],
          [
           45.5,
           212
          ],
          [
           49.5,
           224
          ],
          [
           44.5,
           214
          ],
          [
           50.8,
           226
          ],
          [
           49.4,
           216
          ],
          [
           46.9,
           222
          ],
          [
           48.4,
           203
          ],
          [
           51.1,
           225
          ],
          [
           48.5,
           219
          ],
          [
           55.9,
           228
          ],
          [
           47.2,
           215
          ],
          [
           49.1,
           228
          ],
          [
           46.8,
           215
          ],
          [
           41.7,
           210
          ],
          [
           53.4,
           219
          ],
          [
           43.3,
           208
          ],
          [
           48.1,
           209
          ],
          [
           50.5,
           216
          ],
          [
           49.8,
           229
          ],
          [
           43.5,
           213
          ],
          [
           51.5,
           230
          ],
          [
           46.2,
           217
          ],
          [
           55.1,
           230
          ],
          [
           48.8,
           222
          ],
          [
           47.2,
           214
          ],
          [
           46.8,
           215
          ],
          [
           50.4,
           222
          ],
          [
           45.2,
           212
          ],
          [
           49.9,
           213
          ]
         ],
         "hovertemplate": "bill_length_mm: %{customdata[0]}<br>flipper_length_mm: %{customdata[1]}<br>label: %{text}<extra></extra>",
         "marker": {
          "color": [
           0,
           0,
           0,
           0,
           0,
           0,
           0,
           0,
           0,
           0,
           0,
           0,
           0,
           0,
           0,
           0,
           0,
           0,
           0,
           0,
           0,
           0,
           0,
           0,
           0,
           0,
           0,
           0,
           0,
           0,
           0,
           0,
           0,
           0,
           0,
           0,
           0,
           0,
           0,
           0,
           0,
           0,
           0,
           0,
           0,
           0,
           0,
           0,
           0,
           0,
           0,
           0,
           0,
           0,
           0,
           0,
           0,
           0,
           0,
           0,
           0,
           0,
           0,
           0,
           0,
           0,
           0,
           0,
           0,
           0,
           0,
           0,
           0,
           0,
           0,
           0,
           0,
           0,
           0,
           0,
           0,
           0,
           0,
           0,
           0,
           0,
           0,
           0,
           0,
           0,
           0,
           0,
           0,
           0,
           0,
           0,
           0,
           0,
           0,
           0,
           0,
           0,
           0,
           0,
           0,
           0,
           0,
           0,
           0,
           0,
           0,
           0,
           0,
           0,
           0,
           0,
           0,
           0,
           0,
           0,
           0,
           0,
           0,
           0,
           0,
           0,
           0,
           0,
           0,
           0,
           0,
           0,
           0,
           0,
           0,
           0,
           0,
           0,
           0,
           0,
           0,
           0,
           0,
           0,
           0,
           0,
           1,
           1,
           1,
           1,
           1,
           1,
           1,
           1,
           1,
           1,
           1,
           1,
           1,
           1,
           1,
           1,
           1,
           1,
           1,
           1,
           1,
           1,
           1,
           1,
           1,
           1,
           1,
           1,
           1,
           1,
           1,
           1,
           1,
           1,
           1,
           1,
           1,
           1,
           1,
           1,
           1,
           1,
           1,
           1,
           1,
           1,
           1,
           1,
           1,
           1,
           1,
           1,
           1,
           1,
           1,
           1,
           1,
           1,
           1,
           1,
           1,
           1,
           1,
           1,
           1,
           1,
           1,
           1,
           2,
           2,
           2,
           2,
           2,
           2,
           2,
           2,
           2,
           2,
           2,
           2,
           2,
           2,
           2,
           2,
           2,
           2,
           2,
           2,
           2,
           2,
           2,
           2,
           2,
           2,
           2,
           2,
           2,
           2,
           2,
           2,
           2,
           2,
           2,
           2,
           2,
           2,
           2,
           2,
           2,
           2,
           2,
           2,
           2,
           2,
           2,
           2,
           2,
           2,
           2,
           2,
           2,
           2,
           2,
           2,
           2,
           2,
           2,
           2,
           2,
           2,
           2,
           2,
           2,
           2,
           2,
           2,
           2,
           2,
           2,
           2,
           2,
           2,
           2,
           2,
           2,
           2,
           2,
           2,
           2,
           2,
           2,
           2,
           2,
           2,
           2,
           2,
           2,
           2,
           2,
           2,
           2,
           2,
           2,
           2,
           2,
           2,
           2,
           2,
           2,
           2,
           2,
           2,
           2,
           2,
           2,
           2,
           2,
           2,
           2,
           2,
           2,
           2,
           2,
           2,
           2,
           2,
           2
          ],
          "colorscale": [
           [
            0,
            "#440154"
           ],
           [
            0.1111111111111111,
            "#482878"
           ],
           [
            0.2222222222222222,
            "#3e4989"
           ],
           [
            0.3333333333333333,
            "#31688e"
           ],
           [
            0.4444444444444444,
            "#26828e"
           ],
           [
            0.5555555555555556,
            "#1f9e89"
           ],
           [
            0.6666666666666666,
            "#35b779"
           ],
           [
            0.7777777777777778,
            "#6ece58"
           ],
           [
            0.8888888888888888,
            "#b5de2b"
           ],
           [
            1,
            "#fde725"
           ]
          ],
          "opacity": 0.8,
          "showscale": true,
          "size": 8
         },
         "mode": "markers",
         "text": [
          "Adelie",
          "Adelie",
          "Adelie",
          "Adelie",
          "Adelie",
          "Adelie",
          "Adelie",
          "Adelie",
          "Adelie",
          "Adelie",
          "Adelie",
          "Adelie",
          "Adelie",
          "Adelie",
          "Adelie",
          "Adelie",
          "Adelie",
          "Adelie",
          "Adelie",
          "Adelie",
          "Adelie",
          "Adelie",
          "Adelie",
          "Adelie",
          "Adelie",
          "Adelie",
          "Adelie",
          "Adelie",
          "Adelie",
          "Adelie",
          "Adelie",
          "Adelie",
          "Adelie",
          "Adelie",
          "Adelie",
          "Adelie",
          "Adelie",
          "Adelie",
          "Adelie",
          "Adelie",
          "Adelie",
          "Adelie",
          "Adelie",
          "Adelie",
          "Adelie",
          "Adelie",
          "Adelie",
          "Adelie",
          "Adelie",
          "Adelie",
          "Adelie",
          "Adelie",
          "Adelie",
          "Adelie",
          "Adelie",
          "Adelie",
          "Adelie",
          "Adelie",
          "Adelie",
          "Adelie",
          "Adelie",
          "Adelie",
          "Adelie",
          "Adelie",
          "Adelie",
          "Adelie",
          "Adelie",
          "Adelie",
          "Adelie",
          "Adelie",
          "Adelie",
          "Adelie",
          "Adelie",
          "Adelie",
          "Adelie",
          "Adelie",
          "Adelie",
          "Adelie",
          "Adelie",
          "Adelie",
          "Adelie",
          "Adelie",
          "Adelie",
          "Adelie",
          "Adelie",
          "Adelie",
          "Adelie",
          "Adelie",
          "Adelie",
          "Adelie",
          "Adelie",
          "Adelie",
          "Adelie",
          "Adelie",
          "Adelie",
          "Adelie",
          "Adelie",
          "Adelie",
          "Adelie",
          "Adelie",
          "Adelie",
          "Adelie",
          "Adelie",
          "Adelie",
          "Adelie",
          "Adelie",
          "Adelie",
          "Adelie",
          "Adelie",
          "Adelie",
          "Adelie",
          "Adelie",
          "Adelie",
          "Adelie",
          "Adelie",
          "Adelie",
          "Adelie",
          "Adelie",
          "Adelie",
          "Adelie",
          "Adelie",
          "Adelie",
          "Adelie",
          "Adelie",
          "Adelie",
          "Adelie",
          "Adelie",
          "Adelie",
          "Adelie",
          "Adelie",
          "Adelie",
          "Adelie",
          "Adelie",
          "Adelie",
          "Adelie",
          "Adelie",
          "Adelie",
          "Adelie",
          "Adelie",
          "Adelie",
          "Adelie",
          "Adelie",
          "Adelie",
          "Adelie",
          "Adelie",
          "Adelie",
          "Chinstrap",
          "Chinstrap",
          "Chinstrap",
          "Chinstrap",
          "Chinstrap",
          "Chinstrap",
          "Chinstrap",
          "Chinstrap",
          "Chinstrap",
          "Chinstrap",
          "Chinstrap",
          "Chinstrap",
          "Chinstrap",
          "Chinstrap",
          "Chinstrap",
          "Chinstrap",
          "Chinstrap",
          "Chinstrap",
          "Chinstrap",
          "Chinstrap",
          "Chinstrap",
          "Chinstrap",
          "Chinstrap",
          "Chinstrap",
          "Chinstrap",
          "Chinstrap",
          "Chinstrap",
          "Chinstrap",
          "Chinstrap",
          "Chinstrap",
          "Chinstrap",
          "Chinstrap",
          "Chinstrap",
          "Chinstrap",
          "Chinstrap",
          "Chinstrap",
          "Chinstrap",
          "Chinstrap",
          "Chinstrap",
          "Chinstrap",
          "Chinstrap",
          "Chinstrap",
          "Chinstrap",
          "Chinstrap",
          "Chinstrap",
          "Chinstrap",
          "Chinstrap",
          "Chinstrap",
          "Chinstrap",
          "Chinstrap",
          "Chinstrap",
          "Chinstrap",
          "Chinstrap",
          "Chinstrap",
          "Chinstrap",
          "Chinstrap",
          "Chinstrap",
          "Chinstrap",
          "Chinstrap",
          "Chinstrap",
          "Chinstrap",
          "Chinstrap",
          "Chinstrap",
          "Chinstrap",
          "Chinstrap",
          "Chinstrap",
          "Chinstrap",
          "Chinstrap",
          "Gentoo",
          "Gentoo",
          "Gentoo",
          "Gentoo",
          "Gentoo",
          "Gentoo",
          "Gentoo",
          "Gentoo",
          "Gentoo",
          "Gentoo",
          "Gentoo",
          "Gentoo",
          "Gentoo",
          "Gentoo",
          "Gentoo",
          "Gentoo",
          "Gentoo",
          "Gentoo",
          "Gentoo",
          "Gentoo",
          "Gentoo",
          "Gentoo",
          "Gentoo",
          "Gentoo",
          "Gentoo",
          "Gentoo",
          "Gentoo",
          "Gentoo",
          "Gentoo",
          "Gentoo",
          "Gentoo",
          "Gentoo",
          "Gentoo",
          "Gentoo",
          "Gentoo",
          "Gentoo",
          "Gentoo",
          "Gentoo",
          "Gentoo",
          "Gentoo",
          "Gentoo",
          "Gentoo",
          "Gentoo",
          "Gentoo",
          "Gentoo",
          "Gentoo",
          "Gentoo",
          "Gentoo",
          "Gentoo",
          "Gentoo",
          "Gentoo",
          "Gentoo",
          "Gentoo",
          "Gentoo",
          "Gentoo",
          "Gentoo",
          "Gentoo",
          "Gentoo",
          "Gentoo",
          "Gentoo",
          "Gentoo",
          "Gentoo",
          "Gentoo",
          "Gentoo",
          "Gentoo",
          "Gentoo",
          "Gentoo",
          "Gentoo",
          "Gentoo",
          "Gentoo",
          "Gentoo",
          "Gentoo",
          "Gentoo",
          "Gentoo",
          "Gentoo",
          "Gentoo",
          "Gentoo",
          "Gentoo",
          "Gentoo",
          "Gentoo",
          "Gentoo",
          "Gentoo",
          "Gentoo",
          "Gentoo",
          "Gentoo",
          "Gentoo",
          "Gentoo",
          "Gentoo",
          "Gentoo",
          "Gentoo",
          "Gentoo",
          "Gentoo",
          "Gentoo",
          "Gentoo",
          "Gentoo",
          "Gentoo",
          "Gentoo",
          "Gentoo",
          "Gentoo",
          "Gentoo",
          "Gentoo",
          "Gentoo",
          "Gentoo",
          "Gentoo",
          "Gentoo",
          "Gentoo",
          "Gentoo",
          "Gentoo",
          "Gentoo",
          "Gentoo",
          "Gentoo",
          "Gentoo",
          "Gentoo",
          "Gentoo",
          "Gentoo",
          "Gentoo",
          "Gentoo",
          "Gentoo",
          "Gentoo"
         ],
         "type": "scattergl",
         "x": [
          -56.231884,
          -45.20616,
          -12.665879,
          -19.976137,
          -29.464838,
          -56.378563,
          -12.931999,
          -52.539337,
          -26.995934,
          -4.1843114,
          -51.65204,
          -12.866239,
          -7.0125117,
          -53.40985,
          -12.088886,
          -60.653923,
          -58.284718,
          -27.386389,
          -49.46753,
          -57.417816,
          -49.993248,
          -51.01143,
          -40.97234,
          -61.10943,
          -55.5034,
          -58.656094,
          -59.56654,
          -40.234276,
          -49.986984,
          -17.300278,
          -11.654744,
          -29.58628,
          -54.28082,
          -57.598885,
          -49.17967,
          -57.528576,
          -12.483684,
          -51.65333,
          -9.133259,
          -51.466583,
          -30.13808,
          -52.154827,
          -25.960953,
          -26.098879,
          -44.336502,
          -39.780796,
          -25.304792,
          -1.0395569,
          -49.38437,
          -26.384052,
          -45.31071,
          -21.65004,
          -58.224117,
          -18.898071,
          -52.0066,
          -12.064457,
          -50.49383,
          -24.41453,
          -53.162083,
          -24.869066,
          -17.29283,
          -38.831646,
          -25.221851,
          -5.8911386,
          -25.670315,
          -29.421497,
          -11.729642,
          -9.71551,
          -25.182499,
          -10.6376295,
          -26.706509,
          -52.87974,
          -51.080406,
          -11.346629,
          -26.508087,
          -9.2974825,
          -50.587826,
          -20.630793,
          -23.814854,
          -13.580819,
          -26.04395,
          -27.952484,
          -31.672134,
          -30.32672,
          -2.1190596,
          2.5948923,
          -52.986294,
          -44.45243,
          -51.080406,
          14.612747,
          -30.017546,
          -11.523503,
          -60.432823,
          -25.36718,
          -21.44426,
          1.5926647,
          -54.13037,
          -29.295359,
          -20.069798,
          -49.415607,
          -3.2109945,
          -29.327028,
          -57.06189,
          -7.6694007,
          -4.24872,
          -16.90424,
          -20.581566,
          -7.2765613,
          -27.209969,
          -9.119628,
          -41.066727,
          -3.544172,
          -27.098085,
          -30.274357,
          -51.080406,
          -4.4069886,
          -59.40321,
          0.63133585,
          -51.03615,
          -2.2712429,
          -26.664337,
          -12.147681,
          -27.181396,
          21.194176,
          -30.060263,
          -7.925238,
          -20.42594,
          -3.2047617,
          -42.343266,
          -28.54321,
          -23.781794,
          -1.5300084,
          -50.9228,
          -20.581566,
          -20.80021,
          -40.312855,
          -26.624668,
          -28.752747,
          -21.856955,
          -47.142616,
          -30.291399,
          -53.12347,
          -16.789272,
          -20.267744,
          -49.939472,
          -0.18362708,
          -15.193566,
          -7.980246,
          -12.06218,
          -20.095165,
          -8.339984,
          -9.352962,
          -54.225414,
          -7.1455297,
          -10.839079,
          -6.07473,
          -13.707732,
          -11.443813,
          -20.72189,
          2.9497507,
          -18.152765,
          2.73822,
          -6.265738,
          -18.09368,
          -17.631119,
          -8.87954,
          -53.4156,
          -15.696146,
          -37.758915,
          -11.561751,
          -10.5152445,
          -8.026591,
          1.4371614,
          0.8392765,
          -16.380299,
          7.9423084,
          -40.021507,
          3.2013078,
          -38.328213,
          5.2705526,
          -9.11328,
          -1.2277176,
          -9.924551,
          26.959232,
          -14.868896,
          8.356903,
          26.009163,
          -20.390955,
          -7.7998176,
          -10.320924,
          -8.444231,
          2.545802,
          -16.025978,
          30.152168,
          -17.268082,
          -4.410168,
          -1.2060604,
          3.1834202,
          -13.66213,
          5.409598,
          -38.328213,
          -7.437855,
          -17.434322,
          5.181159,
          4.1028643,
          -12.551361,
          8.523034,
          -18.749353,
          -11.464068,
          9.437967,
          1.0641973,
          -11.622558,
          26.747784,
          -5.0594583,
          25.225554,
          63.85201,
          25.360764,
          51.615917,
          41.531265,
          23.720009,
          25.259615,
          43.063393,
          16.905468,
          39.465103,
          30.51743,
          49.653378,
          33.701927,
          31.238054,
          23.432583,
          50.756805,
          16.769205,
          50.81672,
          22.157034,
          50.017067,
          52.164715,
          34.736153,
          31.791695,
          38.489693,
          31.798666,
          37.64102,
          41.945374,
          25.442709,
          51.938095,
          47.04049,
          16.306599,
          16.37767,
          59.87427,
          50.666195,
          49.212315,
          30.308277,
          40.837017,
          16.444029,
          23.547424,
          15.140896,
          56.300873,
          23.126099,
          50.69346,
          54.297215,
          38.65142,
          22.592863,
          57.444527,
          30.045048,
          35.344315,
          23.609251,
          49.80618,
          22.259748,
          57.129807,
          41.78416,
          42.09631,
          15.570439,
          42.9488,
          15.101694,
          56.77969,
          17.165058,
          44.442287,
          34.024345,
          61.45295,
          42.50879,
          64.62117,
          64.11303,
          40.711864,
          55.15651,
          42.795975,
          45.06384,
          49.32286,
          41.810974,
          40.64758,
          65.142845,
          23.851963,
          53.062035,
          35.344315,
          45.116146,
          30.055126,
          54.346004,
          30.813984,
          56.07009,
          28.425415,
          62.17382,
          39.27049,
          52.73411,
          30.707146,
          62.246742,
          43.121338,
          61.471138,
          27.934795,
          55.53124,
          32.567894,
          58.31802,
          50.19167,
          46.196297,
          4.9670386,
          58.303383,
          49.24739,
          59.8981,
          40.61374,
          63.50337,
          39.465103,
          16.264776,
          54.12058,
          15.981446,
          24.225775,
          51.57919,
          63.37985,
          30.34014,
          62.981445,
          41.099228,
          60.689274,
          50.61472,
          39.77659,
          39.987343,
          53.79377,
          27.688377,
          31.003424
         ],
         "y": [
          0.7875941,
          -2.8045416,
          -5.263652,
          -19.253595,
          -11.398014,
          0.13947062,
          -7.4562283,
          1.8319861,
          -13.246619,
          -11.483835,
          -8.898365,
          -8.257712,
          0.4708178,
          -11.698201,
          14.591681,
          3.1594813,
          -0.13486621,
          -25.217524,
          -5.72509,
          0.9422381,
          -15.09669,
          1.2277216,
          -2.274186,
          3.4912548,
          2.3915544,
          2.416867,
          0.91473067,
          -4.836451,
          0.75639683,
          -19.087675,
          -7.635276,
          -13.067718,
          3.289712,
          -1.2517468,
          0.001772898,
          -3.0293443,
          -4.2494926,
          -14.518315,
          2.4236374,
          -7.670174,
          -10.450387,
          2.3085368,
          -24.848282,
          -3.2138233,
          -3.2833538,
          -3.957109,
          -26.562523,
          -4.0942965,
          -14.354229,
          -4.3713818,
          -3.7707057,
          -4.929097,
          -2.1517153,
          -17.884779,
          -10.571495,
          -3.349169,
          -6.774495,
          -4.5817604,
          -8.470729,
          -3.9197054,
          -20.091686,
          -2.5890522,
          -24.671392,
          -0.71207136,
          -28.24465,
          -10.088577,
          -6.856233,
          10.582293,
          -25.62985,
          -0.60270077,
          -5.0950055,
          -6.7590294,
          -16.362543,
          -1.6930006,
          -27.293169,
          0.7860842,
          -17.460196,
          -21.701717,
          -17.761658,
          -2.985808,
          -23.972015,
          -24.058577,
          -15.074889,
          -12.706102,
          -10.573739,
          -3.0271246,
          -12.342086,
          -2.4991539,
          -16.362543,
          3.0448303,
          -15.329647,
          -5.9016585,
          -0.7514817,
          -2.3438752,
          -22.492765,
          -3.5112488,
          -5.826146,
          -15.973354,
          -17.28703,
          -0.5024316,
          -8.254076,
          -14.844928,
          -0.5745556,
          1.5654658,
          -8.703568,
          16.990257,
          -5.7607527,
          -0.31990713,
          -10.948859,
          -0.010633583,
          -5.95842,
          -9.930644,
          -25.881817,
          -4.924422,
          -16.362543,
          -9.43848,
          3.1862254,
          -3.810549,
          -13.760263,
          -4.9906626,
          -12.591483,
          -2.6031678,
          -12.068863,
          7.254663,
          -14.065415,
          0.86661226,
          -18.886713,
          -9.318027,
          -6.189504,
          -5.0152435,
          -24.367558,
          -5.40211,
          -8.095931,
          -5.7607527,
          -4.8711905,
          -2.4848714,
          -29.470621,
          -5.728998,
          -18.064684,
          -3.1785269,
          -11.6538725,
          -7.7266006,
          -19.554066,
          -17.767189,
          -16.286863,
          -4.4411063,
          16.644976,
          28.898718,
          27.048708,
          18.919987,
          33.051083,
          9.737197,
          4.745463,
          31.442831,
          13.239493,
          32.268326,
          16.082182,
          27.766058,
          20.58777,
          35.7986,
          17.68806,
          33.651554,
          30.423267,
          23.262005,
          18.46481,
          27.331184,
          3.1342902,
          20.74111,
          0.42521438,
          26.486294,
          14.110551,
          32.060734,
          33.941727,
          33.055695,
          17.853865,
          35.380863,
          -1.7121253,
          36.940556,
          -0.24106833,
          34.646553,
          27.992373,
          31.374025,
          14.901762,
          18.42774,
          17.419462,
          35.87241,
          16.217432,
          19.744104,
          30.01348,
          11.646265,
          30.185377,
          34.44551,
          21.856066,
          15.205881,
          22.464485,
          31.213428,
          31.8239,
          35.007347,
          15.081053,
          33.964375,
          -0.24106833,
          32.79687,
          16.464993,
          32.848057,
          33.700893,
          13.8816185,
          34.889923,
          19.01006,
          12.804777,
          36.215748,
          -4.7926326,
          25.728973,
          17.847733,
          31.39919,
          9.217511,
          -20.278624,
          16.112478,
          0.6693681,
          5.887249,
          10.856899,
          8.179492,
          -3.9969773,
          4.875444,
          5.755606,
          1.9978048,
          3.8469996,
          5.727629,
          14.835509,
          9.707626,
          2.2549424,
          2.757179,
          -6.5854344,
          11.163717,
          -8.200971,
          0.7768555,
          3.9813867,
          10.327275,
          4.7448993,
          2.4262168,
          4.887265,
          6.5889564,
          15.2330475,
          -4.300238,
          -8.121586,
          4.125064,
          8.299059,
          -23.761505,
          -4.824901,
          -5.1145535,
          3.1344755,
          -5.7905517,
          6.707638,
          16.056725,
          4.6619716,
          -13.300079,
          8.4840145,
          3.8508086,
          -8.602684,
          -5.096127,
          9.307515,
          -12.45624,
          6.0715194,
          4.595548,
          11.467422,
          -5.1267667,
          8.263295,
          -13.30973,
          0.10976392,
          -6.516537,
          6.6188293,
          -6.3020296,
          5.6215754,
          -11.345673,
          8.422807,
          -7.527634,
          6.1812997,
          -22.718088,
          -4.9582324,
          -20.214777,
          -18.887257,
          -6.8214703,
          -10.002753,
          5.2526574,
          -7.374078,
          -6.821747,
          0.7821311,
          2.2057662,
          -19.212912,
          14.364536,
          -3.6626608,
          4.595548,
          -9.199951,
          15.769306,
          -3.5826705,
          13.0194845,
          -11.74702,
          6.7458687,
          -19.18532,
          -5.4965396,
          -0.09251736,
          13.351485,
          -21.362877,
          -1.6962079,
          -20.084848,
          7.7467012,
          -12.353273,
          4.6144495,
          -13.959293,
          3.2672265,
          -8.169195,
          32.08791,
          -12.696035,
          -3.763291,
          -22.597616,
          6.250228,
          -18.080011,
          5.755606,
          2.4625785,
          -2.1328962,
          5.608829,
          15.258092,
          3.3942356,
          -19.284752,
          3.9119987,
          -21.081339,
          0.43474764,
          -22.68368,
          -8.161,
          7.631068,
          4.936222,
          -8.784011,
          6.990084,
          16.18219
         ]
        }
       ],
       "layout": {
        "template": {
         "data": {
          "bar": [
           {
            "error_x": {
             "color": "#2a3f5f"
            },
            "error_y": {
             "color": "#2a3f5f"
            },
            "marker": {
             "line": {
              "color": "#E5ECF6",
              "width": 0.5
             },
             "pattern": {
              "fillmode": "overlay",
              "size": 10,
              "solidity": 0.2
             }
            },
            "type": "bar"
           }
          ],
          "barpolar": [
           {
            "marker": {
             "line": {
              "color": "#E5ECF6",
              "width": 0.5
             },
             "pattern": {
              "fillmode": "overlay",
              "size": 10,
              "solidity": 0.2
             }
            },
            "type": "barpolar"
           }
          ],
          "carpet": [
           {
            "aaxis": {
             "endlinecolor": "#2a3f5f",
             "gridcolor": "white",
             "linecolor": "white",
             "minorgridcolor": "white",
             "startlinecolor": "#2a3f5f"
            },
            "baxis": {
             "endlinecolor": "#2a3f5f",
             "gridcolor": "white",
             "linecolor": "white",
             "minorgridcolor": "white",
             "startlinecolor": "#2a3f5f"
            },
            "type": "carpet"
           }
          ],
          "choropleth": [
           {
            "colorbar": {
             "outlinewidth": 0,
             "ticks": ""
            },
            "type": "choropleth"
           }
          ],
          "contour": [
           {
            "colorbar": {
             "outlinewidth": 0,
             "ticks": ""
            },
            "colorscale": [
             [
              0,
              "#0d0887"
             ],
             [
              0.1111111111111111,
              "#46039f"
             ],
             [
              0.2222222222222222,
              "#7201a8"
             ],
             [
              0.3333333333333333,
              "#9c179e"
             ],
             [
              0.4444444444444444,
              "#bd3786"
             ],
             [
              0.5555555555555556,
              "#d8576b"
             ],
             [
              0.6666666666666666,
              "#ed7953"
             ],
             [
              0.7777777777777778,
              "#fb9f3a"
             ],
             [
              0.8888888888888888,
              "#fdca26"
             ],
             [
              1,
              "#f0f921"
             ]
            ],
            "type": "contour"
           }
          ],
          "contourcarpet": [
           {
            "colorbar": {
             "outlinewidth": 0,
             "ticks": ""
            },
            "type": "contourcarpet"
           }
          ],
          "heatmap": [
           {
            "colorbar": {
             "outlinewidth": 0,
             "ticks": ""
            },
            "colorscale": [
             [
              0,
              "#0d0887"
             ],
             [
              0.1111111111111111,
              "#46039f"
             ],
             [
              0.2222222222222222,
              "#7201a8"
             ],
             [
              0.3333333333333333,
              "#9c179e"
             ],
             [
              0.4444444444444444,
              "#bd3786"
             ],
             [
              0.5555555555555556,
              "#d8576b"
             ],
             [
              0.6666666666666666,
              "#ed7953"
             ],
             [
              0.7777777777777778,
              "#fb9f3a"
             ],
             [
              0.8888888888888888,
              "#fdca26"
             ],
             [
              1,
              "#f0f921"
             ]
            ],
            "type": "heatmap"
           }
          ],
          "heatmapgl": [
           {
            "colorbar": {
             "outlinewidth": 0,
             "ticks": ""
            },
            "colorscale": [
             [
              0,
              "#0d0887"
             ],
             [
              0.1111111111111111,
              "#46039f"
             ],
             [
              0.2222222222222222,
              "#7201a8"
             ],
             [
              0.3333333333333333,
              "#9c179e"
             ],
             [
              0.4444444444444444,
              "#bd3786"
             ],
             [
              0.5555555555555556,
              "#d8576b"
             ],
             [
              0.6666666666666666,
              "#ed7953"
             ],
             [
              0.7777777777777778,
              "#fb9f3a"
             ],
             [
              0.8888888888888888,
              "#fdca26"
             ],
             [
              1,
              "#f0f921"
             ]
            ],
            "type": "heatmapgl"
           }
          ],
          "histogram": [
           {
            "marker": {
             "pattern": {
              "fillmode": "overlay",
              "size": 10,
              "solidity": 0.2
             }
            },
            "type": "histogram"
           }
          ],
          "histogram2d": [
           {
            "colorbar": {
             "outlinewidth": 0,
             "ticks": ""
            },
            "colorscale": [
             [
              0,
              "#0d0887"
             ],
             [
              0.1111111111111111,
              "#46039f"
             ],
             [
              0.2222222222222222,
              "#7201a8"
             ],
             [
              0.3333333333333333,
              "#9c179e"
             ],
             [
              0.4444444444444444,
              "#bd3786"
             ],
             [
              0.5555555555555556,
              "#d8576b"
             ],
             [
              0.6666666666666666,
              "#ed7953"
             ],
             [
              0.7777777777777778,
              "#fb9f3a"
             ],
             [
              0.8888888888888888,
              "#fdca26"
             ],
             [
              1,
              "#f0f921"
             ]
            ],
            "type": "histogram2d"
           }
          ],
          "histogram2dcontour": [
           {
            "colorbar": {
             "outlinewidth": 0,
             "ticks": ""
            },
            "colorscale": [
             [
              0,
              "#0d0887"
             ],
             [
              0.1111111111111111,
              "#46039f"
             ],
             [
              0.2222222222222222,
              "#7201a8"
             ],
             [
              0.3333333333333333,
              "#9c179e"
             ],
             [
              0.4444444444444444,
              "#bd3786"
             ],
             [
              0.5555555555555556,
              "#d8576b"
             ],
             [
              0.6666666666666666,
              "#ed7953"
             ],
             [
              0.7777777777777778,
              "#fb9f3a"
             ],
             [
              0.8888888888888888,
              "#fdca26"
             ],
             [
              1,
              "#f0f921"
             ]
            ],
            "type": "histogram2dcontour"
           }
          ],
          "mesh3d": [
           {
            "colorbar": {
             "outlinewidth": 0,
             "ticks": ""
            },
            "type": "mesh3d"
           }
          ],
          "parcoords": [
           {
            "line": {
             "colorbar": {
              "outlinewidth": 0,
              "ticks": ""
             }
            },
            "type": "parcoords"
           }
          ],
          "pie": [
           {
            "automargin": true,
            "type": "pie"
           }
          ],
          "scatter": [
           {
            "fillpattern": {
             "fillmode": "overlay",
             "size": 10,
             "solidity": 0.2
            },
            "type": "scatter"
           }
          ],
          "scatter3d": [
           {
            "line": {
             "colorbar": {
              "outlinewidth": 0,
              "ticks": ""
             }
            },
            "marker": {
             "colorbar": {
              "outlinewidth": 0,
              "ticks": ""
             }
            },
            "type": "scatter3d"
           }
          ],
          "scattercarpet": [
           {
            "marker": {
             "colorbar": {
              "outlinewidth": 0,
              "ticks": ""
             }
            },
            "type": "scattercarpet"
           }
          ],
          "scattergeo": [
           {
            "marker": {
             "colorbar": {
              "outlinewidth": 0,
              "ticks": ""
             }
            },
            "type": "scattergeo"
           }
          ],
          "scattergl": [
           {
            "marker": {
             "colorbar": {
              "outlinewidth": 0,
              "ticks": ""
             }
            },
            "type": "scattergl"
           }
          ],
          "scattermapbox": [
           {
            "marker": {
             "colorbar": {
              "outlinewidth": 0,
              "ticks": ""
             }
            },
            "type": "scattermapbox"
           }
          ],
          "scatterpolar": [
           {
            "marker": {
             "colorbar": {
              "outlinewidth": 0,
              "ticks": ""
             }
            },
            "type": "scatterpolar"
           }
          ],
          "scatterpolargl": [
           {
            "marker": {
             "colorbar": {
              "outlinewidth": 0,
              "ticks": ""
             }
            },
            "type": "scatterpolargl"
           }
          ],
          "scatterternary": [
           {
            "marker": {
             "colorbar": {
              "outlinewidth": 0,
              "ticks": ""
             }
            },
            "type": "scatterternary"
           }
          ],
          "surface": [
           {
            "colorbar": {
             "outlinewidth": 0,
             "ticks": ""
            },
            "colorscale": [
             [
              0,
              "#0d0887"
             ],
             [
              0.1111111111111111,
              "#46039f"
             ],
             [
              0.2222222222222222,
              "#7201a8"
             ],
             [
              0.3333333333333333,
              "#9c179e"
             ],
             [
              0.4444444444444444,
              "#bd3786"
             ],
             [
              0.5555555555555556,
              "#d8576b"
             ],
             [
              0.6666666666666666,
              "#ed7953"
             ],
             [
              0.7777777777777778,
              "#fb9f3a"
             ],
             [
              0.8888888888888888,
              "#fdca26"
             ],
             [
              1,
              "#f0f921"
             ]
            ],
            "type": "surface"
           }
          ],
          "table": [
           {
            "cells": {
             "fill": {
              "color": "#EBF0F8"
             },
             "line": {
              "color": "white"
             }
            },
            "header": {
             "fill": {
              "color": "#C8D4E3"
             },
             "line": {
              "color": "white"
             }
            },
            "type": "table"
           }
          ]
         },
         "layout": {
          "annotationdefaults": {
           "arrowcolor": "#2a3f5f",
           "arrowhead": 0,
           "arrowwidth": 1
          },
          "autotypenumbers": "strict",
          "coloraxis": {
           "colorbar": {
            "outlinewidth": 0,
            "ticks": ""
           }
          },
          "colorscale": {
           "diverging": [
            [
             0,
             "#8e0152"
            ],
            [
             0.1,
             "#c51b7d"
            ],
            [
             0.2,
             "#de77ae"
            ],
            [
             0.3,
             "#f1b6da"
            ],
            [
             0.4,
             "#fde0ef"
            ],
            [
             0.5,
             "#f7f7f7"
            ],
            [
             0.6,
             "#e6f5d0"
            ],
            [
             0.7,
             "#b8e186"
            ],
            [
             0.8,
             "#7fbc41"
            ],
            [
             0.9,
             "#4d9221"
            ],
            [
             1,
             "#276419"
            ]
           ],
           "sequential": [
            [
             0,
             "#0d0887"
            ],
            [
             0.1111111111111111,
             "#46039f"
            ],
            [
             0.2222222222222222,
             "#7201a8"
            ],
            [
             0.3333333333333333,
             "#9c179e"
            ],
            [
             0.4444444444444444,
             "#bd3786"
            ],
            [
             0.5555555555555556,
             "#d8576b"
            ],
            [
             0.6666666666666666,
             "#ed7953"
            ],
            [
             0.7777777777777778,
             "#fb9f3a"
            ],
            [
             0.8888888888888888,
             "#fdca26"
            ],
            [
             1,
             "#f0f921"
            ]
           ],
           "sequentialminus": [
            [
             0,
             "#0d0887"
            ],
            [
             0.1111111111111111,
             "#46039f"
            ],
            [
             0.2222222222222222,
             "#7201a8"
            ],
            [
             0.3333333333333333,
             "#9c179e"
            ],
            [
             0.4444444444444444,
             "#bd3786"
            ],
            [
             0.5555555555555556,
             "#d8576b"
            ],
            [
             0.6666666666666666,
             "#ed7953"
            ],
            [
             0.7777777777777778,
             "#fb9f3a"
            ],
            [
             0.8888888888888888,
             "#fdca26"
            ],
            [
             1,
             "#f0f921"
            ]
           ]
          },
          "colorway": [
           "#636efa",
           "#EF553B",
           "#00cc96",
           "#ab63fa",
           "#FFA15A",
           "#19d3f3",
           "#FF6692",
           "#B6E880",
           "#FF97FF",
           "#FECB52"
          ],
          "font": {
           "color": "#2a3f5f"
          },
          "geo": {
           "bgcolor": "white",
           "lakecolor": "white",
           "landcolor": "#E5ECF6",
           "showlakes": true,
           "showland": true,
           "subunitcolor": "white"
          },
          "hoverlabel": {
           "align": "left"
          },
          "hovermode": "closest",
          "mapbox": {
           "style": "light"
          },
          "paper_bgcolor": "white",
          "plot_bgcolor": "#E5ECF6",
          "polar": {
           "angularaxis": {
            "gridcolor": "white",
            "linecolor": "white",
            "ticks": ""
           },
           "bgcolor": "#E5ECF6",
           "radialaxis": {
            "gridcolor": "white",
            "linecolor": "white",
            "ticks": ""
           }
          },
          "scene": {
           "xaxis": {
            "backgroundcolor": "#E5ECF6",
            "gridcolor": "white",
            "gridwidth": 2,
            "linecolor": "white",
            "showbackground": true,
            "ticks": "",
            "zerolinecolor": "white"
           },
           "yaxis": {
            "backgroundcolor": "#E5ECF6",
            "gridcolor": "white",
            "gridwidth": 2,
            "linecolor": "white",
            "showbackground": true,
            "ticks": "",
            "zerolinecolor": "white"
           },
           "zaxis": {
            "backgroundcolor": "#E5ECF6",
            "gridcolor": "white",
            "gridwidth": 2,
            "linecolor": "white",
            "showbackground": true,
            "ticks": "",
            "zerolinecolor": "white"
           }
          },
          "shapedefaults": {
           "line": {
            "color": "#2a3f5f"
           }
          },
          "ternary": {
           "aaxis": {
            "gridcolor": "white",
            "linecolor": "white",
            "ticks": ""
           },
           "baxis": {
            "gridcolor": "white",
            "linecolor": "white",
            "ticks": ""
           },
           "bgcolor": "#E5ECF6",
           "caxis": {
            "gridcolor": "white",
            "linecolor": "white",
            "ticks": ""
           }
          },
          "title": {
           "x": 0.05
          },
          "xaxis": {
           "automargin": true,
           "gridcolor": "white",
           "linecolor": "white",
           "ticks": "",
           "title": {
            "standoff": 15
           },
           "zerolinecolor": "white",
           "zerolinewidth": 2
          },
          "yaxis": {
           "automargin": true,
           "gridcolor": "white",
           "linecolor": "white",
           "ticks": "",
           "title": {
            "standoff": 15
           },
           "zerolinecolor": "white",
           "zerolinewidth": 2
          }
         }
        },
        "title": {
         "text": "t-SNE (all features in hover)"
        },
        "xaxis": {
         "title": {
          "text": "t-SNE 1"
         }
        },
        "yaxis": {
         "title": {
          "text": "t-SNE 2"
         }
        }
       }
      }
     },
     "metadata": {},
     "output_type": "display_data"
    }
   ],
   "source": [
    "fig_tsne = VisualizerFactory.make_tsne(X_transformed, y,\n",
    "                                       label_map=label_map.get('species', {}),\n",
    "                                       perplexity=10,\n",
    "                                       random_state=42)\n",
    "fig_tsne.show()"
   ]
  },
  {
   "cell_type": "markdown",
   "id": "e114352a",
   "metadata": {},
   "source": [
    "## 12. Conclusion and Next Steps\n",
    "\n",
    "Congratulations! You have completed a full machine learning workflow on the Penguins dataset:\n",
    "\n",
    "- Data loading and exploration\n",
    "- Preprocessing and cleaning\n",
    "- Model training and evaluation\n",
    "- Feature importance analysis and visualization\n",
    "\n",
    "Feel free to experiment with different models, parameters, or datasets!"
   ]
  }
 ],
 "metadata": {
  "kernelspec": {
   "display_name": "Python 3",
   "language": "python",
   "name": "python3"
  },
  "language_info": {
   "codemirror_mode": {
    "name": "ipython",
    "version": 3
   },
   "file_extension": ".py",
   "mimetype": "text/x-python",
   "name": "python",
   "nbconvert_exporter": "python",
   "pygments_lexer": "ipython3",
   "version": "3.9.0"
  }
 },
 "nbformat": 4,
 "nbformat_minor": 5
}
