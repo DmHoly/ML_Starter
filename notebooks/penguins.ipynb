{
 "cells": [
  {
   "cell_type": "markdown",
   "id": "f5d5a6b1",
   "metadata": {},
   "source": [
    "# Beginner-Friendly Machine Learning Tutorial: Penguins Dataset\n",
    "\n",
    "Welcome! This notebook will guide you step-by-step through a hands-on machine learning workflow using the Palmer Penguins dataset. You will learn how to:\n",
    "\n",
    "- Load and explore data\n",
    "- Preprocess and clean data\n",
    "- Build and evaluate a machine learning model\n",
    "- Visualize results\n",
    "\n",
    "**Note:** The 'island' feature is categorical and may require special attention during encoding.\n",
    "\n",
    "Let's get started!"
   ]
  },
  {
   "cell_type": "code",
   "execution_count": 1,
   "id": "b0421003",
   "metadata": {},
   "outputs": [],
   "source": [
    "# Add project root to sys.path so we can import custom modules from anywhere\n",
    "import sys\n",
    "import os\n",
    "\n",
    "project_root = os.path.abspath(os.path.join(os.getcwd(), '..'))\n",
    "if project_root not in sys.path:\n",
    "    sys.path.insert(0, project_root)"
   ]
  },
  {
   "cell_type": "markdown",
   "id": "904bc708",
   "metadata": {},
   "source": [
    "## 1. Setup: Import Libraries and Configure Environment\n",
    "\n",
    "Let's import the necessary Python libraries and set up our environment."
   ]
  },
  {
   "cell_type": "code",
   "execution_count": 2,
   "id": "33e69b23",
   "metadata": {},
   "outputs": [],
   "source": [
    "import seaborn as sns\n",
    "import matplotlib.pyplot as plt\n",
    "import numpy as np\n",
    "import pandas as pd\n",
    "from sklearn.model_selection import train_test_split\n",
    "from sklearn.metrics import classification_report, confusion_matrix\n",
    "from src.utility import *\n",
    "from sklearn.pipeline import Pipeline\n",
    "from sklearn.ensemble import RandomForestClassifier"
   ]
  },
  {
   "cell_type": "markdown",
   "id": "136a1e73",
   "metadata": {},
   "source": [
    "### About the Custom Machine Learning Classes\n",
    "\n",
    "This notebook uses several custom classes from `utility.py` to simplify and enhance the machine learning workflow:\n",
    "\n",
    "- **MetaCleanPipeline**: Automates data cleaning, feature engineering, and target encoding.\n",
    "- **FeatureEngineeringSelector**: Flexible feature selection and engineering.\n",
    "- **DataCleaner**: Handles missing values, scaling, encoding, and duplicate removal.\n",
    "- **GraphAnalyzerEngine**: Analyzes feature importances and relationships.\n",
    "- **VisualizerFactory**: Provides advanced visualizations.\n",
    "\n",
    "These tools make the machine learning process more accessible and interpretable."
   ]
  },
  {
   "cell_type": "markdown",
   "id": "8f344195",
   "metadata": {},
   "source": [
    "## 2. Load and Explore the Penguins Dataset\n",
    "\n",
    "The Palmer Penguins dataset contains measurements for penguin species observed in Antarctica. Let's load the data and take a first look."
   ]
  },
  {
   "cell_type": "code",
   "execution_count": 3,
   "id": "7b6aaa86",
   "metadata": {},
   "outputs": [
    {
     "data": {
      "text/html": [
       "<div>\n",
       "<style scoped>\n",
       "    .dataframe tbody tr th:only-of-type {\n",
       "        vertical-align: middle;\n",
       "    }\n",
       "\n",
       "    .dataframe tbody tr th {\n",
       "        vertical-align: top;\n",
       "    }\n",
       "\n",
       "    .dataframe thead th {\n",
       "        text-align: right;\n",
       "    }\n",
       "</style>\n",
       "<table border=\"1\" class=\"dataframe\">\n",
       "  <thead>\n",
       "    <tr style=\"text-align: right;\">\n",
       "      <th></th>\n",
       "      <th>species</th>\n",
       "      <th>island</th>\n",
       "      <th>bill_length_mm</th>\n",
       "      <th>bill_depth_mm</th>\n",
       "      <th>flipper_length_mm</th>\n",
       "      <th>body_mass_g</th>\n",
       "      <th>sex</th>\n",
       "    </tr>\n",
       "  </thead>\n",
       "  <tbody>\n",
       "    <tr>\n",
       "      <th>0</th>\n",
       "      <td>Adelie</td>\n",
       "      <td>Torgersen</td>\n",
       "      <td>39.1</td>\n",
       "      <td>18.7</td>\n",
       "      <td>181.0</td>\n",
       "      <td>3750.0</td>\n",
       "      <td>Male</td>\n",
       "    </tr>\n",
       "    <tr>\n",
       "      <th>1</th>\n",
       "      <td>Adelie</td>\n",
       "      <td>Torgersen</td>\n",
       "      <td>39.5</td>\n",
       "      <td>17.4</td>\n",
       "      <td>186.0</td>\n",
       "      <td>3800.0</td>\n",
       "      <td>Female</td>\n",
       "    </tr>\n",
       "    <tr>\n",
       "      <th>2</th>\n",
       "      <td>Adelie</td>\n",
       "      <td>Torgersen</td>\n",
       "      <td>40.3</td>\n",
       "      <td>18.0</td>\n",
       "      <td>195.0</td>\n",
       "      <td>3250.0</td>\n",
       "      <td>Female</td>\n",
       "    </tr>\n",
       "    <tr>\n",
       "      <th>3</th>\n",
       "      <td>Adelie</td>\n",
       "      <td>Torgersen</td>\n",
       "      <td>NaN</td>\n",
       "      <td>NaN</td>\n",
       "      <td>NaN</td>\n",
       "      <td>NaN</td>\n",
       "      <td>NaN</td>\n",
       "    </tr>\n",
       "    <tr>\n",
       "      <th>4</th>\n",
       "      <td>Adelie</td>\n",
       "      <td>Torgersen</td>\n",
       "      <td>36.7</td>\n",
       "      <td>19.3</td>\n",
       "      <td>193.0</td>\n",
       "      <td>3450.0</td>\n",
       "      <td>Female</td>\n",
       "    </tr>\n",
       "  </tbody>\n",
       "</table>\n",
       "</div>"
      ],
      "text/plain": [
       "  species     island  bill_length_mm  bill_depth_mm  flipper_length_mm  \\\n",
       "0  Adelie  Torgersen            39.1           18.7              181.0   \n",
       "1  Adelie  Torgersen            39.5           17.4              186.0   \n",
       "2  Adelie  Torgersen            40.3           18.0              195.0   \n",
       "3  Adelie  Torgersen             NaN            NaN                NaN   \n",
       "4  Adelie  Torgersen            36.7           19.3              193.0   \n",
       "\n",
       "   body_mass_g     sex  \n",
       "0       3750.0    Male  \n",
       "1       3800.0  Female  \n",
       "2       3250.0  Female  \n",
       "3          NaN     NaN  \n",
       "4       3450.0  Female  "
      ]
     },
     "execution_count": 3,
     "metadata": {},
     "output_type": "execute_result"
    }
   ],
   "source": [
    "penguins = sns.load_dataset(\"penguins\")\n",
    "penguins.head()"
   ]
  },
  {
   "cell_type": "markdown",
   "id": "4c4b4333",
   "metadata": {},
   "source": [
    "## 3. Data Preprocessing: Feature Selection and Cleaning\n",
    "\n",
    "To prepare our data for machine learning, we need to:\n",
    "- Separate features (inputs) from the target (output)\n",
    "- Clean and preprocess the data (handle missing values, encode categories, etc.)\n",
    "\n",
    "**Warning:** The 'island' feature is categorical and may require special encoding. If you use label encoding, be aware that the encoded values are arbitrary and do not represent any order. One-hot encoding is often preferred for such features."
   ]
  },
  {
   "cell_type": "code",
   "execution_count": 4,
   "id": "906cd3bb",
   "metadata": {},
   "outputs": [
    {
     "name": "stdout",
     "output_type": "stream",
     "text": [
      "Boolean columns converted to string: []\n"
     ]
    }
   ],
   "source": [
    "# Drop rows with missing target (species)\n",
    "penguins = penguins.dropna(subset=['species'])\n",
    "# Separate features (X) and target (y)\n",
    "X = penguins.drop(columns=[\"species\"])\n",
    "y = penguins[\"species\"]\n",
    "\n",
    "# Convert all string columns to categorical\n",
    "for col in X.select_dtypes(include=['object']).columns:\n",
    "    X[col] = X[col].astype('category')\n",
    "\n",
    "# Convert boolean columns to string/object dtype for compatibility with SimpleImputer\n",
    "for col in X.select_dtypes(include=['bool']).columns:\n",
    "    X[col] = X[col].astype(str)\n",
    "print('Boolean columns converted to string:', X.select_dtypes(include=['bool']).columns.tolist())"
   ]
  },
  {
   "cell_type": "code",
   "execution_count": 5,
   "id": "40cc44cd",
   "metadata": {},
   "outputs": [
    {
     "name": "stdout",
     "output_type": "stream",
     "text": [
      "   bill_length_mm  bill_depth_mm  flipper_length_mm\n",
      "0   -8.870812e-01   7.877425e-01          -1.422488\n",
      "1   -8.134940e-01   1.265563e-01          -1.065352\n",
      "2   -6.663195e-01   4.317192e-01          -0.422507\n",
      "3   -1.307172e-15   1.806927e-15           0.000000\n",
      "4   -1.328605e+00   1.092905e+00          -0.565361\n",
      "Final features: ['bill_length_mm', 'bill_depth_mm', 'flipper_length_mm']\n",
      "y_original unique: ['Adelie' 'Chinstrap' 'Gentoo']\n",
      "y_enc unique: [0 1 2]\n",
      "shape X_cleaned: (344, 6)\n",
      "shape y_enc: (344,)\n",
      "['Adelie' 'Chinstrap' 'Gentoo']\n"
     ]
    }
   ],
   "source": [
    "# Create and configure the data cleaning and feature engineering pipeline\n",
    "meta_pipe = MetaCleanPipeline(\n",
    "    drop_duplicates=True,\n",
    "    feature_engineering_strategies=[{\n",
    "        'name': 'model_importance',\n",
    "        'model_cls': RandomForestClassifier,  # Use classifier for classification tasks\n",
    "        'threshold': 'mean'\n",
    "    }],\n",
    "    numeric_strategy='mean',\n",
    "    categorical_strategy='most_frequent',\n",
    "    target_encoder_method='label',\n",
    "    auto_encode_features=False,\n",
    "    # You can add more cleaner_kwargs if needed\n",
    "    )\n",
    "\n",
    "# Fit the pipeline and transform the data\n",
    "X_clean = meta_pipe.fit_transform(X, y)\n",
    "print(X_clean.head())\n",
    "print('Final features:', meta_pipe.get_selected_features())\n",
    "\n",
    "# Retrieve cleaned features and encoded target for training\n",
    "X_cleaned, y_enc = meta_pipe.get_cleaned_dataset()\n",
    "y_original = meta_pipe.inverse_transform_target(y_enc)\n",
    "print('y_original unique:', np.unique(y_original))\n",
    "print('y_enc unique:', np.unique(y_enc))\n",
    "print('shape X_cleaned:', X_cleaned.shape)\n",
    "print('shape y_enc:', y_enc.shape)\n",
    "y_full_enc = meta_pipe.transform_target(y_original)\n",
    "\n",
    "# If you want to decode y_enc back to original labels:\n",
    "print(meta_pipe.inverse_transform_target(np.unique(y_enc)))"
   ]
  },
  {
   "cell_type": "markdown",
   "id": "77117583",
   "metadata": {},
   "source": [
    "## 4. Model Training and Evaluation\n",
    "\n",
    "Now, let's train a machine learning model to classify penguin species. We'll:\n",
    "- Split the data into training and test sets\n",
    "- Train a Random Forest classifier\n",
    "- Evaluate the model's performance using a classification report and confusion matrix"
   ]
  },
  {
   "cell_type": "code",
   "execution_count": 6,
   "id": "e3a9445a",
   "metadata": {},
   "outputs": [
    {
     "name": "stdout",
     "output_type": "stream",
     "text": [
      "Classification Report:\n",
      "               precision    recall  f1-score   support\n",
      "\n",
      "      Adelie       1.00      0.97      0.99        40\n",
      "   Chinstrap       0.95      1.00      0.97        18\n",
      "      Gentoo       1.00      1.00      1.00        28\n",
      "\n",
      "    accuracy                           0.99        86\n",
      "   macro avg       0.98      0.99      0.99        86\n",
      "weighted avg       0.99      0.99      0.99        86\n",
      "\n"
     ]
    },
    {
     "data": {
      "image/png": "[encoded data removed]",
      "text/plain": [
       "<Figure size 576x432 with 2 Axes>"
      ]
     },
     "metadata": {
      "needs_background": "light"
     },
     "output_type": "display_data"
    }
   ],
   "source": [
    "pipe = Pipeline([\n",
    "    ('model', RandomForestClassifier(random_state=42))\n",
    "])\n",
    "\n",
    "X_train, X_test, y_train, y_test = train_test_split(X_cleaned[meta_pipe.get_selected_features()],\n",
    "                                                    y_original, random_state=42)\n",
    "pipe.fit(X_train, y_train)\n",
    "y_pred = pipe.predict(X_test)\n",
    "print('Classification Report:\\n', classification_report(y_test, y_pred))\n",
    "cm = confusion_matrix(y_test, y_pred)\n",
    "fig, ax = plt.subplots(figsize=(8, 6))\n",
    "sns.heatmap(cm, annot=True, fmt='d', cmap='Blues', xticklabels=np.unique(y_original), yticklabels=np.unique(y_original), ax=ax)\n",
    "ax.set_xlabel('Predicted')\n",
    "ax.set_ylabel('Actual')\n",
    "plt.show()"
   ]
  },
  {
   "cell_type": "markdown",
   "id": "aa70a5d3",
   "metadata": {},
   "source": [
    "## 5. Feature Importance and Visualization\n",
    "\n",
    "Let's use advanced visualizations to explore feature importances and relationships."
   ]
  },
  {
   "cell_type": "code",
   "execution_count": 7,
   "id": "41980f6f",
   "metadata": {},
   "outputs": [],
   "source": [
    "#convert X_cleaned feature to numeric value to display in the notebook\n",
    "#example island --> to 0, 1, 2\n",
    "for col in X_cleaned.select_dtypes(include=['category']).columns:\n",
    "    X_cleaned[col] = X_cleaned[col].cat.codes\n",
    "\n",
    "# Used imputer to fill missing values in X_cleaned\n",
    "# This is just an example, you can use any imputer or method to fill missing values\n",
    "X_cleaned = X_cleaned.fillna(X_cleaned.mean(numeric_only=True))"
   ]
  },
  {
   "cell_type": "code",
   "execution_count": 8,
   "id": "20dc2781",
   "metadata": {},
   "outputs": [
    {
     "data": {
      "application/vnd.plotly.v1+json": {
       "config": {
        "plotlyServerURL": "https://plot.ly"
       },
       "data": [
        {
         "link": {
          "color": [
           "rgba(100,200,255,0.6)",
           "rgba(100,200,255,0.6)",
           "rgba(100,200,255,0.6)",
           "rgba(100,200,255,0.6)",
           "rgba(100,200,255,0.6)",
           "rgba(100,200,255,0.6)"
          ],
          "source": [
           4,
           5,
           1,
           6,
           3,
           2
          ],
          "target": [
           0,
           0,
           0,
           0,
           0,
           0
          ],
          "value": [
           0.04257811511421823,
           0.17786085126986378,
           0.028457923015529685,
           0.7389967415229409,
           0.0056716715261030505,
           0.003473680615886112
          ]
         },
         "node": {
          "label": [
           "Adelie",
           "bill_depth_mm",
           "sex",
           "body_mass_g",
           "island",
           "bill_length_mm",
           "flipper_length_mm"
          ],
          "line": {
           "color": "black",
           "width": 0.5
          },
          "pad": 15,
          "thickness": 20
         },
         "type": "sankey"
        }
       ],
       "layout": {
        "font": {
         "size": 12
        },
        "template": {
         "data": {
          "bar": [
           {
            "error_x": {
             "color": "#2a3f5f"
            },
            "error_y": {
             "color": "#2a3f5f"
            },
            "marker": {
             "line": {
              "color": "#E5ECF6",
              "width": 0.5
             },
             "pattern": {
              "fillmode": "overlay",
              "size": 10,
              "solidity": 0.2
             }
            },
            "type": "bar"
           }
          ],
          "barpolar": [
           {
            "marker": {
             "line": {
              "color": "#E5ECF6",
              "width": 0.5
             },
             "pattern": {
              "fillmode": "overlay",
              "size": 10,
              "solidity": 0.2
             }
            },
            "type": "barpolar"
           }
          ],
          "carpet": [
           {
            "aaxis": {
             "endlinecolor": "#2a3f5f",
             "gridcolor": "white",
             "linecolor": "white",
             "minorgridcolor": "white",
             "startlinecolor": "#2a3f5f"
            },
            "baxis": {
             "endlinecolor": "#2a3f5f",
             "gridcolor": "white",
             "linecolor": "white",
             "minorgridcolor": "white",
             "startlinecolor": "#2a3f5f"
            },
            "type": "carpet"
           }
          ],
          "choropleth": [
           {
            "colorbar": {
             "outlinewidth": 0,
             "ticks": ""
            },
            "type": "choropleth"
           }
          ],
          "contour": [
           {
            "colorbar": {
             "outlinewidth": 0,
             "ticks": ""
            },
            "colorscale": [
             [
              0,
              "#0d0887"
             ],
             [
              0.1111111111111111,
              "#46039f"
             ],
             [
              0.2222222222222222,
              "#7201a8"
             ],
             [
              0.3333333333333333,
              "#9c179e"
             ],
             [
              0.4444444444444444,
              "#bd3786"
             ],
             [
              0.5555555555555556,
              "#d8576b"
             ],
             [
              0.6666666666666666,
              "#ed7953"
             ],
             [
              0.7777777777777778,
              "#fb9f3a"
             ],
             [
              0.8888888888888888,
              "#fdca26"
             ],
             [
              1,
              "#f0f921"
             ]
            ],
            "type": "contour"
           }
          ],
          "contourcarpet": [
           {
            "colorbar": {
             "outlinewidth": 0,
             "ticks": ""
            },
            "type": "contourcarpet"
           }
          ],
          "heatmap": [
           {
            "colorbar": {
             "outlinewidth": 0,
             "ticks": ""
            },
            "colorscale": [
             [
              0,
              "#0d0887"
             ],
             [
              0.1111111111111111,
              "#46039f"
             ],
             [
              0.2222222222222222,
              "#7201a8"
             ],
             [
              0.3333333333333333,
              "#9c179e"
             ],
             [
              0.4444444444444444,
              "#bd3786"
             ],
             [
              0.5555555555555556,
              "#d8576b"
             ],
             [
              0.6666666666666666,
              "#ed7953"
             ],
             [
              0.7777777777777778,
              "#fb9f3a"
             ],
             [
              0.8888888888888888,
              "#fdca26"
             ],
             [
              1,
              "#f0f921"
             ]
            ],
            "type": "heatmap"
           }
          ],
          "heatmapgl": [
           {
            "colorbar": {
             "outlinewidth": 0,
             "ticks": ""
            },
            "colorscale": [
             [
              0,
              "#0d0887"
             ],
             [
              0.1111111111111111,
              "#46039f"
             ],
             [
              0.2222222222222222,
              "#7201a8"
             ],
             [
              0.3333333333333333,
              "#9c179e"
             ],
             [
              0.4444444444444444,
              "#bd3786"
             ],
             [
              0.5555555555555556,
              "#d8576b"
             ],
             [
              0.6666666666666666,
              "#ed7953"
             ],
             [
              0.7777777777777778,
              "#fb9f3a"
             ],
             [
              0.8888888888888888,
              "#fdca26"
             ],
             [
              1,
              "#f0f921"
             ]
            ],
            "type": "heatmapgl"
           }
          ],
          "histogram": [
           {
            "marker": {
             "pattern": {
              "fillmode": "overlay",
              "size": 10,
              "solidity": 0.2
             }
            },
            "type": "histogram"
           }
          ],
          "histogram2d": [
           {
            "colorbar": {
             "outlinewidth": 0,
             "ticks": ""
            },
            "colorscale": [
             [
              0,
              "#0d0887"
             ],
             [
              0.1111111111111111,
              "#46039f"
             ],
             [
              0.2222222222222222,
              "#7201a8"
             ],
             [
              0.3333333333333333,
              "#9c179e"
             ],
             [
              0.4444444444444444,
              "#bd3786"
             ],
             [
              0.5555555555555556,
              "#d8576b"
             ],
             [
              0.6666666666666666,
              "#ed7953"
             ],
             [
              0.7777777777777778,
              "#fb9f3a"
             ],
             [
              0.8888888888888888,
              "#fdca26"
             ],
             [
              1,
              "#f0f921"
             ]
            ],
            "type": "histogram2d"
           }
          ],
          "histogram2dcontour": [
           {
            "colorbar": {
             "outlinewidth": 0,
             "ticks": ""
            },
            "colorscale": [
             [
              0,
              "#0d0887"
             ],
             [
              0.1111111111111111,
              "#46039f"
             ],
             [
              0.2222222222222222,
              "#7201a8"
             ],
             [
              0.3333333333333333,
              "#9c179e"
             ],
             [
              0.4444444444444444,
              "#bd3786"
             ],
             [
              0.5555555555555556,
              "#d8576b"
             ],
             [
              0.6666666666666666,
              "#ed7953"
             ],
             [
              0.7777777777777778,
              "#fb9f3a"
             ],
             [
              0.8888888888888888,
              "#fdca26"
             ],
             [
              1,
              "#f0f921"
             ]
            ],
            "type": "histogram2dcontour"
           }
          ],
          "mesh3d": [
           {
            "colorbar": {
             "outlinewidth": 0,
             "ticks": ""
            },
            "type": "mesh3d"
           }
          ],
          "parcoords": [
           {
            "line": {
             "colorbar": {
              "outlinewidth": 0,
              "ticks": ""
             }
            },
            "type": "parcoords"
           }
          ],
          "pie": [
           {
            "automargin": true,
            "type": "pie"
           }
          ],
          "scatter": [
           {
            "fillpattern": {
             "fillmode": "overlay",
             "size": 10,
             "solidity": 0.2
            },
            "type": "scatter"
           }
          ],
          "scatter3d": [
           {
            "line": {
             "colorbar": {
              "outlinewidth": 0,
              "ticks": ""
             }
            },
            "marker": {
             "colorbar": {
              "outlinewidth": 0,
              "ticks": ""
             }
            },
            "type": "scatter3d"
           }
          ],
          "scattercarpet": [
           {
            "marker": {
             "colorbar": {
              "outlinewidth": 0,
              "ticks": ""
             }
            },
            "type": "scattercarpet"
           }
          ],
          "scattergeo": [
           {
            "marker": {
             "colorbar": {
              "outlinewidth": 0,
              "ticks": ""
             }
            },
            "type": "scattergeo"
           }
          ],
          "scattergl": [
           {
            "marker": {
             "colorbar": {
              "outlinewidth": 0,
              "ticks": ""
             }
            },
            "type": "scattergl"
           }
          ],
          "scattermapbox": [
           {
            "marker": {
             "colorbar": {
              "outlinewidth": 0,
              "ticks": ""
             }
            },
            "type": "scattermapbox"
           }
          ],
          "scatterpolar": [
           {
            "marker": {
             "colorbar": {
              "outlinewidth": 0,
              "ticks": ""
             }
            },
            "type": "scatterpolar"
           }
          ],
          "scatterpolargl": [
           {
            "marker": {
             "colorbar": {
              "outlinewidth": 0,
              "ticks": ""
             }
            },
            "type": "scatterpolargl"
           }
          ],
          "scatterternary": [
           {
            "marker": {
             "colorbar": {
              "outlinewidth": 0,
              "ticks": ""
             }
            },
            "type": "scatterternary"
           }
          ],
          "surface": [
           {
            "colorbar": {
             "outlinewidth": 0,
             "ticks": ""
            },
            "colorscale": [
             [
              0,
              "#0d0887"
             ],
             [
              0.1111111111111111,
              "#46039f"
             ],
             [
              0.2222222222222222,
              "#7201a8"
             ],
             [
              0.3333333333333333,
              "#9c179e"
             ],
             [
              0.4444444444444444,
              "#bd3786"
             ],
             [
              0.5555555555555556,
              "#d8576b"
             ],
             [
              0.6666666666666666,
              "#ed7953"
             ],
             [
              0.7777777777777778,
              "#fb9f3a"
             ],
             [
              0.8888888888888888,
              "#fdca26"
             ],
             [
              1,
              "#f0f921"
             ]
            ],
            "type": "surface"
           }
          ],
          "table": [
           {
            "cells": {
             "fill": {
              "color": "#EBF0F8"
             },
             "line": {
              "color": "white"
             }
            },
            "header": {
             "fill": {
              "color": "#C8D4E3"
             },
             "line": {
              "color": "white"
             }
            },
            "type": "table"
           }
          ]
         },
         "layout": {
          "annotationdefaults": {
           "arrowcolor": "#2a3f5f",
           "arrowhead": 0,
           "arrowwidth": 1
          },
          "autotypenumbers": "strict",
          "coloraxis": {
           "colorbar": {
            "outlinewidth": 0,
            "ticks": ""
           }
          },
          "colorscale": {
           "diverging": [
            [
             0,
             "#8e0152"
            ],
            [
             0.1,
             "#c51b7d"
            ],
            [
             0.2,
             "#de77ae"
            ],
            [
             0.3,
             "#f1b6da"
            ],
            [
             0.4,
             "#fde0ef"
            ],
            [
             0.5,
             "#f7f7f7"
            ],
            [
             0.6,
             "#e6f5d0"
            ],
            [
             0.7,
             "#b8e186"
            ],
            [
             0.8,
             "#7fbc41"
            ],
            [
             0.9,
             "#4d9221"
            ],
            [
             1,
             "#276419"
            ]
           ],
           "sequential": [
            [
             0,
             "#0d0887"
            ],
            [
             0.1111111111111111,
             "#46039f"
            ],
            [
             0.2222222222222222,
             "#7201a8"
            ],
            [
             0.3333333333333333,
             "#9c179e"
            ],
            [
             0.4444444444444444,
             "#bd3786"
            ],
            [
             0.5555555555555556,
             "#d8576b"
            ],
            [
             0.6666666666666666,
             "#ed7953"
            ],
            [
             0.7777777777777778,
             "#fb9f3a"
            ],
            [
             0.8888888888888888,
             "#fdca26"
            ],
            [
             1,
             "#f0f921"
            ]
           ],
           "sequentialminus": [
            [
             0,
             "#0d0887"
            ],
            [
             0.1111111111111111,
             "#46039f"
            ],
            [
             0.2222222222222222,
             "#7201a8"
            ],
            [
             0.3333333333333333,
             "#9c179e"
            ],
            [
             0.4444444444444444,
             "#bd3786"
            ],
            [
             0.5555555555555556,
             "#d8576b"
            ],
            [
             0.6666666666666666,
             "#ed7953"
            ],
            [
             0.7777777777777778,
             "#fb9f3a"
            ],
            [
             0.8888888888888888,
             "#fdca26"
            ],
            [
             1,
             "#f0f921"
            ]
           ]
          },
          "colorway": [
           "#636efa",
           "#EF553B",
           "#00cc96",
           "#ab63fa",
           "#FFA15A",
           "#19d3f3",
           "#FF6692",
           "#B6E880",
           "#FF97FF",
           "#FECB52"
          ],
          "font": {
           "color": "#2a3f5f"
          },
          "geo": {
           "bgcolor": "white",
           "lakecolor": "white",
           "landcolor": "#E5ECF6",
           "showlakes": true,
           "showland": true,
           "subunitcolor": "white"
          },
          "hoverlabel": {
           "align": "left"
          },
          "hovermode": "closest",
          "mapbox": {
           "style": "light"
          },
          "paper_bgcolor": "white",
          "plot_bgcolor": "#E5ECF6",
          "polar": {
           "angularaxis": {
            "gridcolor": "white",
            "linecolor": "white",
            "ticks": ""
           },
           "bgcolor": "#E5ECF6",
           "radialaxis": {
            "gridcolor": "white",
            "linecolor": "white",
            "ticks": ""
           }
          },
          "scene": {
           "xaxis": {
            "backgroundcolor": "#E5ECF6",
            "gridcolor": "white",
            "gridwidth": 2,
            "linecolor": "white",
            "showbackground": true,
            "ticks": "",
            "zerolinecolor": "white"
           },
           "yaxis": {
            "backgroundcolor": "#E5ECF6",
            "gridcolor": "white",
            "gridwidth": 2,
            "linecolor": "white",
            "showbackground": true,
            "ticks": "",
            "zerolinecolor": "white"
           },
           "zaxis": {
            "backgroundcolor": "#E5ECF6",
            "gridcolor": "white",
            "gridwidth": 2,
            "linecolor": "white",
            "showbackground": true,
            "ticks": "",
            "zerolinecolor": "white"
           }
          },
          "shapedefaults": {
           "line": {
            "color": "#2a3f5f"
           }
          },
          "ternary": {
           "aaxis": {
            "gridcolor": "white",
            "linecolor": "white",
            "ticks": ""
           },
           "baxis": {
            "gridcolor": "white",
            "linecolor": "white",
            "ticks": ""
           },
           "bgcolor": "#E5ECF6",
           "caxis": {
            "gridcolor": "white",
            "linecolor": "white",
            "ticks": ""
           }
          },
          "title": {
           "x": 0.05
          },
          "xaxis": {
           "automargin": true,
           "gridcolor": "white",
           "linecolor": "white",
           "ticks": "",
           "title": {
            "standoff": 15
           },
           "zerolinecolor": "white",
           "zerolinewidth": 2
          },
          "yaxis": {
           "automargin": true,
           "gridcolor": "white",
           "linecolor": "white",
           "ticks": "",
           "title": {
            "standoff": 15
           },
           "zerolinecolor": "white",
           "zerolinewidth": 2
          }
         }
        },
        "title": {
         "text": "Sankey Diagram"
        }
       }
      }
     },
     "metadata": {},
     "output_type": "display_data"
    }
   ],
   "source": [
    "engine = GraphAnalyzerEngine()\n",
    "engine.analyze(X_cleaned, pd.DataFrame(y_enc))\n",
    "store = engine.get_store()\n",
    "label_map = dict(enumerate(meta_pipe.get_target_encoder().classes_))\n",
    "relabel_targets_in_store(store, label_map)\n",
    "fig_sankey = VisualizerFactory.make_sankey(store, show_feature_feature_links=False)\n",
    "fig_sankey.show()"
   ]
  },
  {
   "cell_type": "markdown",
   "id": "87d83340",
   "metadata": {},
   "source": [
    "### Bar Plot of Feature Importances\n",
    "\n",
    "The bar plot below shows the aggregated importance of each feature. The dashed line represents the threshold for random (noise) importance. Features above this line are considered informative."
   ]
  },
  {
   "cell_type": "code",
   "execution_count": 9,
   "id": "4f603fe9",
   "metadata": {},
   "outputs": [
    {
     "data": {
      "application/vnd.plotly.v1+json": {
       "config": {
        "plotlyServerURL": "https://plot.ly"
       },
       "data": [
        {
         "alignmentgroup": "True",
         "hovertemplate": "variable=reliable<br>feature=%{x}<br>value=%{y}<extra></extra>",
         "legendgroup": "reliable",
         "marker": {
          "color": "#636efa",
          "pattern": {
           "shape": ""
          }
         },
         "name": "reliable",
         "offsetgroup": "reliable",
         "orientation": "v",
         "showlegend": true,
         "textposition": "auto",
         "texttemplate": "%{y:.2f}",
         "type": "bar",
         "x": [
          "flipper_length_mm",
          "bill_length_mm",
          "island",
          "bill_depth_mm",
          "body_mass_g",
          "sex"
         ],
         "xaxis": "x",
         "y": [
          0.7389967415229409,
          0.17786085126986378,
          0.04257811511421823,
          0.028457923015529685,
          0.0056716715261030505,
          0.003473680615886112
         ],
         "yaxis": "y"
        },
        {
         "alignmentgroup": "True",
         "hovertemplate": "variable=noise<br>feature=%{x}<br>value=%{y}<extra></extra>",
         "legendgroup": "noise",
         "marker": {
          "color": "#EF553B",
          "pattern": {
           "shape": ""
          }
         },
         "name": "noise",
         "offsetgroup": "noise",
         "orientation": "v",
         "showlegend": true,
         "textposition": "auto",
         "texttemplate": "%{y:.2f}",
         "type": "bar",
         "x": [
          "flipper_length_mm",
          "bill_length_mm",
          "island",
          "bill_depth_mm",
          "body_mass_g",
          "sex"
         ],
         "xaxis": "x",
         "y": [
          0,
          0,
          0,
          0,
          0,
          0
         ],
         "yaxis": "y"
        }
       ],
       "layout": {
        "annotations": [
         {
          "showarrow": false,
          "text": "Random Threshold",
          "x": 1,
          "xanchor": "right",
          "xref": "x domain",
          "y": 0.0029610169354580924,
          "yanchor": "bottom",
          "yref": "y"
         }
        ],
        "barmode": "stack",
        "legend": {
         "title": {
          "text": "variable"
         },
         "tracegroupgap": 0
        },
        "shapes": [
         {
          "line": {
           "dash": "dash"
          },
          "type": "line",
          "x0": 0,
          "x1": 1,
          "xref": "x domain",
          "y0": 0.0029610169354580924,
          "y1": 0.0029610169354580924,
          "yref": "y"
         }
        ],
        "template": {
         "data": {
          "bar": [
           {
            "error_x": {
             "color": "#2a3f5f"
            },
            "error_y": {
             "color": "#2a3f5f"
            },
            "marker": {
             "line": {
              "color": "#E5ECF6",
              "width": 0.5
             },
             "pattern": {
              "fillmode": "overlay",
              "size": 10,
              "solidity": 0.2
             }
            },
            "type": "bar"
           }
          ],
          "barpolar": [
           {
            "marker": {
             "line": {
              "color": "#E5ECF6",
              "width": 0.5
             },
             "pattern": {
              "fillmode": "overlay",
              "size": 10,
              "solidity": 0.2
             }
            },
            "type": "barpolar"
           }
          ],
          "carpet": [
           {
            "aaxis": {
             "endlinecolor": "#2a3f5f",
             "gridcolor": "white",
             "linecolor": "white",
             "minorgridcolor": "white",
             "startlinecolor": "#2a3f5f"
            },
            "baxis": {
             "endlinecolor": "#2a3f5f",
             "gridcolor": "white",
             "linecolor": "white",
             "minorgridcolor": "white",
             "startlinecolor": "#2a3f5f"
            },
            "type": "carpet"
           }
          ],
          "choropleth": [
           {
            "colorbar": {
             "outlinewidth": 0,
             "ticks": ""
            },
            "type": "choropleth"
           }
          ],
          "contour": [
           {
            "colorbar": {
             "outlinewidth": 0,
             "ticks": ""
            },
            "colorscale": [
             [
              0,
              "#0d0887"
             ],
             [
              0.1111111111111111,
              "#46039f"
             ],
             [
              0.2222222222222222,
              "#7201a8"
             ],
             [
              0.3333333333333333,
              "#9c179e"
             ],
             [
              0.4444444444444444,
              "#bd3786"
             ],
             [
              0.5555555555555556,
              "#d8576b"
             ],
             [
              0.6666666666666666,
              "#ed7953"
             ],
             [
              0.7777777777777778,
              "#fb9f3a"
             ],
             [
              0.8888888888888888,
              "#fdca26"
             ],
             [
              1,
              "#f0f921"
             ]
            ],
            "type": "contour"
           }
          ],
          "contourcarpet": [
           {
            "colorbar": {
             "outlinewidth": 0,
             "ticks": ""
            },
            "type": "contourcarpet"
           }
          ],
          "heatmap": [
           {
            "colorbar": {
             "outlinewidth": 0,
             "ticks": ""
            },
            "colorscale": [
             [
              0,
              "#0d0887"
             ],
             [
              0.1111111111111111,
              "#46039f"
             ],
             [
              0.2222222222222222,
              "#7201a8"
             ],
             [
              0.3333333333333333,
              "#9c179e"
             ],
             [
              0.4444444444444444,
              "#bd3786"
             ],
             [
              0.5555555555555556,
              "#d8576b"
             ],
             [
              0.6666666666666666,
              "#ed7953"
             ],
             [
              0.7777777777777778,
              "#fb9f3a"
             ],
             [
              0.8888888888888888,
              "#fdca26"
             ],
             [
              1,
              "#f0f921"
             ]
            ],
            "type": "heatmap"
           }
          ],
          "heatmapgl": [
           {
            "colorbar": {
             "outlinewidth": 0,
             "ticks": ""
            },
            "colorscale": [
             [
              0,
              "#0d0887"
             ],
             [
              0.1111111111111111,
              "#46039f"
             ],
             [
              0.2222222222222222,
              "#7201a8"
             ],
             [
              0.3333333333333333,
              "#9c179e"
             ],
             [
              0.4444444444444444,
              "#bd3786"
             ],
             [
              0.5555555555555556,
              "#d8576b"
             ],
             [
              0.6666666666666666,
              "#ed7953"
             ],
             [
              0.7777777777777778,
              "#fb9f3a"
             ],
             [
              0.8888888888888888,
              "#fdca26"
             ],
             [
              1,
              "#f0f921"
             ]
            ],
            "type": "heatmapgl"
           }
          ],
          "histogram": [
           {
            "marker": {
             "pattern": {
              "fillmode": "overlay",
              "size": 10,
              "solidity": 0.2
             }
            },
            "type": "histogram"
           }
          ],
          "histogram2d": [
           {
            "colorbar": {
             "outlinewidth": 0,
             "ticks": ""
            },
            "colorscale": [
             [
              0,
              "#0d0887"
             ],
             [
              0.1111111111111111,
              "#46039f"
             ],
             [
              0.2222222222222222,
              "#7201a8"
             ],
             [
              0.3333333333333333,
              "#9c179e"
             ],
             [
              0.4444444444444444,
              "#bd3786"
             ],
             [
              0.5555555555555556,
              "#d8576b"
             ],
             [
              0.6666666666666666,
              "#ed7953"
             ],
             [
              0.7777777777777778,
              "#fb9f3a"
             ],
             [
              0.8888888888888888,
              "#fdca26"
             ],
             [
              1,
              "#f0f921"
             ]
            ],
            "type": "histogram2d"
           }
          ],
          "histogram2dcontour": [
           {
            "colorbar": {
             "outlinewidth": 0,
             "ticks": ""
            },
            "colorscale": [
             [
              0,
              "#0d0887"
             ],
             [
              0.1111111111111111,
              "#46039f"
             ],
             [
              0.2222222222222222,
              "#7201a8"
             ],
             [
              0.3333333333333333,
              "#9c179e"
             ],
             [
              0.4444444444444444,
              "#bd3786"
             ],
             [
              0.5555555555555556,
              "#d8576b"
             ],
             [
              0.6666666666666666,
              "#ed7953"
             ],
             [
              0.7777777777777778,
              "#fb9f3a"
             ],
             [
              0.8888888888888888,
              "#fdca26"
             ],
             [
              1,
              "#f0f921"
             ]
            ],
            "type": "histogram2dcontour"
           }
          ],
          "mesh3d": [
           {
            "colorbar": {
             "outlinewidth": 0,
             "ticks": ""
            },
            "type": "mesh3d"
           }
          ],
          "parcoords": [
           {
            "line": {
             "colorbar": {
              "outlinewidth": 0,
              "ticks": ""
             }
            },
            "type": "parcoords"
           }
          ],
          "pie": [
           {
            "automargin": true,
            "type": "pie"
           }
          ],
          "scatter": [
           {
            "fillpattern": {
             "fillmode": "overlay",
             "size": 10,
             "solidity": 0.2
            },
            "type": "scatter"
           }
          ],
          "scatter3d": [
           {
            "line": {
             "colorbar": {
              "outlinewidth": 0,
              "ticks": ""
             }
            },
            "marker": {
             "colorbar": {
              "outlinewidth": 0,
              "ticks": ""
             }
            },
            "type": "scatter3d"
           }
          ],
          "scattercarpet": [
           {
            "marker": {
             "colorbar": {
              "outlinewidth": 0,
              "ticks": ""
             }
            },
            "type": "scattercarpet"
           }
          ],
          "scattergeo": [
           {
            "marker": {
             "colorbar": {
              "outlinewidth": 0,
              "ticks": ""
             }
            },
            "type": "scattergeo"
           }
          ],
          "scattergl": [
           {
            "marker": {
             "colorbar": {
              "outlinewidth": 0,
              "ticks": ""
             }
            },
            "type": "scattergl"
           }
          ],
          "scattermapbox": [
           {
            "marker": {
             "colorbar": {
              "outlinewidth": 0,
              "ticks": ""
             }
            },
            "type": "scattermapbox"
           }
          ],
          "scatterpolar": [
           {
            "marker": {
             "colorbar": {
              "outlinewidth": 0,
              "ticks": ""
             }
            },
            "type": "scatterpolar"
           }
          ],
          "scatterpolargl": [
           {
            "marker": {
             "colorbar": {
              "outlinewidth": 0,
              "ticks": ""
             }
            },
            "type": "scatterpolargl"
           }
          ],
          "scatterternary": [
           {
            "marker": {
             "colorbar": {
              "outlinewidth": 0,
              "ticks": ""
             }
            },
            "type": "scatterternary"
           }
          ],
          "surface": [
           {
            "colorbar": {
             "outlinewidth": 0,
             "ticks": ""
            },
            "colorscale": [
             [
              0,
              "#0d0887"
             ],
             [
              0.1111111111111111,
              "#46039f"
             ],
             [
              0.2222222222222222,
              "#7201a8"
             ],
             [
              0.3333333333333333,
              "#9c179e"
             ],
             [
              0.4444444444444444,
              "#bd3786"
             ],
             [
              0.5555555555555556,
              "#d8576b"
             ],
             [
              0.6666666666666666,
              "#ed7953"
             ],
             [
              0.7777777777777778,
              "#fb9f3a"
             ],
             [
              0.8888888888888888,
              "#fdca26"
             ],
             [
              1,
              "#f0f921"
             ]
            ],
            "type": "surface"
           }
          ],
          "table": [
           {
            "cells": {
             "fill": {
              "color": "#EBF0F8"
             },
             "line": {
              "color": "white"
             }
            },
            "header": {
             "fill": {
              "color": "#C8D4E3"
             },
             "line": {
              "color": "white"
             }
            },
            "type": "table"
           }
          ]
         },
         "layout": {
          "annotationdefaults": {
           "arrowcolor": "#2a3f5f",
           "arrowhead": 0,
           "arrowwidth": 1
          },
          "autotypenumbers": "strict",
          "coloraxis": {
           "colorbar": {
            "outlinewidth": 0,
            "ticks": ""
           }
          },
          "colorscale": {
           "diverging": [
            [
             0,
             "#8e0152"
            ],
            [
             0.1,
             "#c51b7d"
            ],
            [
             0.2,
             "#de77ae"
            ],
            [
             0.3,
             "#f1b6da"
            ],
            [
             0.4,
             "#fde0ef"
            ],
            [
             0.5,
             "#f7f7f7"
            ],
            [
             0.6,
             "#e6f5d0"
            ],
            [
             0.7,
             "#b8e186"
            ],
            [
             0.8,
             "#7fbc41"
            ],
            [
             0.9,
             "#4d9221"
            ],
            [
             1,
             "#276419"
            ]
           ],
           "sequential": [
            [
             0,
             "#0d0887"
            ],
            [
             0.1111111111111111,
             "#46039f"
            ],
            [
             0.2222222222222222,
             "#7201a8"
            ],
            [
             0.3333333333333333,
             "#9c179e"
            ],
            [
             0.4444444444444444,
             "#bd3786"
            ],
            [
             0.5555555555555556,
             "#d8576b"
            ],
            [
             0.6666666666666666,
             "#ed7953"
            ],
            [
             0.7777777777777778,
             "#fb9f3a"
            ],
            [
             0.8888888888888888,
             "#fdca26"
            ],
            [
             1,
             "#f0f921"
            ]
           ],
           "sequentialminus": [
            [
             0,
             "#0d0887"
            ],
            [
             0.1111111111111111,
             "#46039f"
            ],
            [
             0.2222222222222222,
             "#7201a8"
            ],
            [
             0.3333333333333333,
             "#9c179e"
            ],
            [
             0.4444444444444444,
             "#bd3786"
            ],
            [
             0.5555555555555556,
             "#d8576b"
            ],
            [
             0.6666666666666666,
             "#ed7953"
            ],
            [
             0.7777777777777778,
             "#fb9f3a"
            ],
            [
             0.8888888888888888,
             "#fdca26"
            ],
            [
             1,
             "#f0f921"
            ]
           ]
          },
          "colorway": [
           "#636efa",
           "#EF553B",
           "#00cc96",
           "#ab63fa",
           "#FFA15A",
           "#19d3f3",
           "#FF6692",
           "#B6E880",
           "#FF97FF",
           "#FECB52"
          ],
          "font": {
           "color": "#2a3f5f"
          },
          "geo": {
           "bgcolor": "white",
           "lakecolor": "white",
           "landcolor": "#E5ECF6",
           "showlakes": true,
           "showland": true,
           "subunitcolor": "white"
          },
          "hoverlabel": {
           "align": "left"
          },
          "hovermode": "closest",
          "mapbox": {
           "style": "light"
          },
          "paper_bgcolor": "white",
          "plot_bgcolor": "#E5ECF6",
          "polar": {
           "angularaxis": {
            "gridcolor": "white",
            "linecolor": "white",
            "ticks": ""
           },
           "bgcolor": "#E5ECF6",
           "radialaxis": {
            "gridcolor": "white",
            "linecolor": "white",
            "ticks": ""
           }
          },
          "scene": {
           "xaxis": {
            "backgroundcolor": "#E5ECF6",
            "gridcolor": "white",
            "gridwidth": 2,
            "linecolor": "white",
            "showbackground": true,
            "ticks": "",
            "zerolinecolor": "white"
           },
           "yaxis": {
            "backgroundcolor": "#E5ECF6",
            "gridcolor": "white",
            "gridwidth": 2,
            "linecolor": "white",
            "showbackground": true,
            "ticks": "",
            "zerolinecolor": "white"
           },
           "zaxis": {
            "backgroundcolor": "#E5ECF6",
            "gridcolor": "white",
            "gridwidth": 2,
            "linecolor": "white",
            "showbackground": true,
            "ticks": "",
            "zerolinecolor": "white"
           }
          },
          "shapedefaults": {
           "line": {
            "color": "#2a3f5f"
           }
          },
          "ternary": {
           "aaxis": {
            "gridcolor": "white",
            "linecolor": "white",
            "ticks": ""
           },
           "baxis": {
            "gridcolor": "white",
            "linecolor": "white",
            "ticks": ""
           },
           "bgcolor": "#E5ECF6",
           "caxis": {
            "gridcolor": "white",
            "linecolor": "white",
            "ticks": ""
           }
          },
          "title": {
           "x": 0.05
          },
          "xaxis": {
           "automargin": true,
           "gridcolor": "white",
           "linecolor": "white",
           "ticks": "",
           "title": {
            "standoff": 15
           },
           "zerolinecolor": "white",
           "zerolinewidth": 2
          },
          "yaxis": {
           "automargin": true,
           "gridcolor": "white",
           "linecolor": "white",
           "ticks": "",
           "title": {
            "standoff": 15
           },
           "zerolinecolor": "white",
           "zerolinewidth": 2
          }
         }
        },
        "title": {
         "text": "Feature Importances (reliable + noise)"
        },
        "xaxis": {
         "anchor": "y",
         "domain": [
          0,
          1
         ],
         "tickangle": -45,
         "title": {
          "text": "feature"
         }
        },
        "yaxis": {
         "anchor": "x",
         "domain": [
          0,
          1
         ],
         "title": {
          "text": "value"
         }
        }
       }
      }
     },
     "metadata": {},
     "output_type": "display_data"
    }
   ],
   "source": [
    "fig_bar = VisualizerFactory.make_bar(store, show_threshold=True, show_noise=True)\n",
    "fig_bar.show()"
   ]
  },
  {
   "cell_type": "code",
   "execution_count": 23,
   "id": "91097be7",
   "metadata": {},
   "outputs": [
    {
     "data": {
      "application/vnd.plotly.v1+json": {
       "config": {
        "plotlyServerURL": "https://plot.ly"
       },
       "data": [
        {
         "customdata": [
          [
           2,
           39.1,
           18.7,
           181,
           3750,
           1
          ],
          [
           2,
           39.5,
           17.4,
           186,
           3800,
           0
          ],
          [
           2,
           40.3,
           18,
           195,
           3250,
           0
          ],
          [
           2,
           43.9219298245614,
           17.151169590643278,
           200.91520467836258,
           4201.754385964912,
           -1
          ],
          [
           2,
           36.7,
           19.3,
           193,
           3450,
           0
          ],
          [
           2,
           39.3,
           20.6,
           190,
           3650,
           1
          ],
          [
           2,
           38.9,
           17.8,
           181,
           3625,
           0
          ],
          [
           2,
           39.2,
           19.6,
           195,
           4675,
           1
          ],
          [
           2,
           34.1,
           18.1,
           193,
           3475,
           -1
          ],
          [
           2,
           42,
           20.2,
           190,
           4250,
           -1
          ],
          [
           2,
           37.8,
           17.1,
           186,
           3300,
           -1
          ],
          [
           2,
           37.8,
           17.3,
           180,
           3700,
           -1
          ],
          [
           2,
           41.1,
           17.6,
           182,
           3200,
           0
          ],
          [
           2,
           38.6,
           21.2,
           191,
           3800,
           1
          ],
          [
           2,
           34.6,
           21.1,
           198,
           4400,
           1
          ],
          [
           2,
           36.6,
           17.8,
           185,
           3700,
           0
          ],
          [
           2,
           38.7,
           19,
           195,
           3450,
           0
          ],
          [
           2,
           42.5,
           20.7,
           197,
           4500,
           1
          ],
          [
           2,
           34.4,
           18.4,
           184,
           3325,
           0
          ],
          [
           2,
           46,
           21.5,
           194,
           4200,
           1
          ],
          [
           0,
           37.8,
           18.3,
           174,
           3400,
           0
          ],
          [
           0,
           37.7,
           18.7,
           180,
           3600,
           1
          ],
          [
           0,
           35.9,
           19.2,
           189,
           3800,
           0
          ],
          [
           0,
           38.2,
           18.1,
           185,
           3950,
           1
          ],
          [
           0,
           38.8,
           17.2,
           180,
           3800,
           1
          ],
          [
           0,
           35.3,
           18.9,
           187,
           3800,
           0
          ],
          [
           0,
           40.6,
           18.6,
           183,
           3550,
           1
          ],
          [
           0,
           40.5,
           17.9,
           187,
           3200,
           0
          ],
          [
           0,
           37.9,
           18.6,
           172,
           3150,
           0
          ],
          [
           0,
           40.5,
           18.9,
           180,
           3950,
           1
          ],
          [
           1,
           39.5,
           16.7,
           178,
           3250,
           0
          ],
          [
           1,
           37.2,
           18.1,
           178,
           3900,
           1
          ],
          [
           1,
           39.5,
           17.8,
           188,
           3300,
           0
          ],
          [
           1,
           40.9,
           18.9,
           184,
           3900,
           1
          ],
          [
           1,
           36.4,
           17,
           195,
           3325,
           0
          ],
          [
           1,
           39.2,
           21.1,
           196,
           4150,
           1
          ],
          [
           1,
           38.8,
           20,
           190,
           3950,
           1
          ],
          [
           1,
           42.2,
           18.5,
           180,
           3550,
           0
          ],
          [
           1,
           37.6,
           19.3,
           181,
           3300,
           0
          ],
          [
           1,
           39.8,
           19.1,
           184,
           4650,
           1
          ],
          [
           1,
           36.5,
           18,
           182,
           3150,
           0
          ],
          [
           1,
           40.8,
           18.4,
           195,
           3900,
           1
          ],
          [
           1,
           36,
           18.5,
           186,
           3100,
           0
          ],
          [
           1,
           44.1,
           19.7,
           196,
           4400,
           1
          ],
          [
           1,
           37,
           16.9,
           185,
           3000,
           0
          ],
          [
           1,
           39.6,
           18.8,
           190,
           4600,
           1
          ],
          [
           1,
           41.1,
           19,
           182,
           3425,
           1
          ],
          [
           1,
           37.5,
           18.9,
           179,
           2975,
           -1
          ],
          [
           1,
           36,
           17.9,
           190,
           3450,
           0
          ],
          [
           1,
           42.3,
           21.2,
           191,
           4150,
           1
          ],
          [
           0,
           39.6,
           17.7,
           186,
           3500,
           0
          ],
          [
           0,
           40.1,
           18.9,
           188,
           4300,
           1
          ],
          [
           0,
           35,
           17.9,
           190,
           3450,
           0
          ],
          [
           0,
           42,
           19.5,
           200,
           4050,
           1
          ],
          [
           0,
           34.5,
           18.1,
           187,
           2900,
           0
          ],
          [
           0,
           41.4,
           18.6,
           191,
           3700,
           1
          ],
          [
           0,
           39,
           17.5,
           186,
           3550,
           0
          ],
          [
           0,
           40.6,
           18.8,
           193,
           3800,
           1
          ],
          [
           0,
           36.5,
           16.6,
           181,
           2850,
           0
          ],
          [
           0,
           37.6,
           19.1,
           194,
           3750,
           1
          ],
          [
           0,
           35.7,
           16.9,
           185,
           3150,
           0
          ],
          [
           0,
           41.3,
           21.1,
           195,
           4400,
           1
          ],
          [
           0,
           37.6,
           17,
           185,
           3600,
           0
          ],
          [
           0,
           41.1,
           18.2,
           192,
           4050,
           1
          ],
          [
           0,
           36.4,
           17.1,
           184,
           2850,
           0
          ],
          [
           0,
           41.6,
           18,
           192,
           3950,
           1
          ],
          [
           0,
           35.5,
           16.2,
           195,
           3350,
           0
          ],
          [
           0,
           41.1,
           19.1,
           188,
           4100,
           1
          ],
          [
           2,
           35.9,
           16.6,
           190,
           3050,
           0
          ],
          [
           2,
           41.8,
           19.4,
           198,
           4450,
           1
          ],
          [
           2,
           33.5,
           19,
           190,
           3600,
           0
          ],
          [
           2,
           39.7,
           18.4,
           190,
           3900,
           1
          ],
          [
           2,
           39.6,
           17.2,
           196,
           3550,
           0
          ],
          [
           2,
           45.8,
           18.9,
           197,
           4150,
           1
          ],
          [
           2,
           35.5,
           17.5,
           190,
           3700,
           0
          ],
          [
           2,
           42.8,
           18.5,
           195,
           4250,
           1
          ],
          [
           2,
           40.9,
           16.8,
           191,
           3700,
           0
          ],
          [
           2,
           37.2,
           19.4,
           184,
           3900,
           1
          ],
          [
           2,
           36.2,
           16.1,
           187,
           3550,
           0
          ],
          [
           2,
           42.1,
           19.1,
           195,
           4000,
           1
          ],
          [
           2,
           34.6,
           17.2,
           189,
           3200,
           0
          ],
          [
           2,
           42.9,
           17.6,
           196,
           4700,
           1
          ],
          [
           2,
           36.7,
           18.8,
           187,
           3800,
           0
          ],
          [
           2,
           35.1,
           19.4,
           193,
           4200,
           1
          ],
          [
           1,
           37.3,
           17.8,
           191,
           3350,
           0
          ],
          [
           1,
           41.3,
           20.3,
           194,
           3550,
           1
          ],
          [
           1,
           36.3,
           19.5,
           190,
           3800,
           1
          ],
          [
           1,
           36.9,
           18.6,
           189,
           3500,
           0
          ],
          [
           1,
           38.3,
           19.2,
           189,
           3950,
           1
          ],
          [
           1,
           38.9,
           18.8,
           190,
           3600,
           0
          ],
          [
           1,
           35.7,
           18,
           202,
           3550,
           0
          ],
          [
           1,
           41.1,
           18.1,
           205,
           4300,
           1
          ],
          [
           1,
           34,
           17.1,
           185,
           3400,
           0
          ],
          [
           1,
           39.6,
           18.1,
           186,
           4450,
           1
          ],
          [
           1,
           36.2,
           17.3,
           187,
           3300,
           0
          ],
          [
           1,
           40.8,
           18.9,
           208,
           4300,
           1
          ],
          [
           1,
           38.1,
           18.6,
           190,
           3700,
           0
          ],
          [
           1,
           40.3,
           18.5,
           196,
           4350,
           1
          ],
          [
           1,
           33.1,
           16.1,
           178,
           2900,
           0
          ],
          [
           1,
           43.2,
           18.5,
           192,
           4100,
           1
          ],
          [
           0,
           35,
           17.9,
           192,
           3725,
           0
          ],
          [
           0,
           41,
           20,
           203,
           4725,
           1
          ],
          [
           0,
           37.7,
           16,
           183,
           3075,
           0
          ],
          [
           0,
           37.8,
           20,
           190,
           4250,
           1
          ],
          [
           0,
           37.9,
           18.6,
           193,
           2925,
           0
          ],
          [
           0,
           39.7,
           18.9,
           184,
           3550,
           1
          ],
          [
           0,
           38.6,
           17.2,
           199,
           3750,
           0
          ],
          [
           0,
           38.2,
           20,
           190,
           3900,
           1
          ],
          [
           0,
           38.1,
           17,
           181,
           3175,
           0
          ],
          [
           0,
           43.2,
           19,
           197,
           4775,
           1
          ],
          [
           0,
           38.1,
           16.5,
           198,
           3825,
           0
          ],
          [
           0,
           45.6,
           20.3,
           191,
           4600,
           1
          ],
          [
           0,
           39.7,
           17.7,
           193,
           3200,
           0
          ],
          [
           0,
           42.2,
           19.5,
           197,
           4275,
           1
          ],
          [
           0,
           39.6,
           20.7,
           191,
           3900,
           0
          ],
          [
           0,
           42.7,
           18.3,
           196,
           4075,
           1
          ],
          [
           2,
           38.6,
           17,
           188,
           2900,
           0
          ],
          [
           2,
           37.3,
           20.5,
           199,
           3775,
           1
          ],
          [
           2,
           35.7,
           17,
           189,
           3350,
           0
          ],
          [
           2,
           41.1,
           18.6,
           189,
           3325,
           1
          ],
          [
           2,
           36.2,
           17.2,
           187,
           3150,
           0
          ],
          [
           2,
           37.7,
           19.8,
           198,
           3500,
           1
          ],
          [
           2,
           40.2,
           17,
           176,
           3450,
           0
          ],
          [
           2,
           41.4,
           18.5,
           202,
           3875,
           1
          ],
          [
           2,
           35.2,
           15.9,
           186,
           3050,
           0
          ],
          [
           2,
           40.6,
           19,
           199,
           4000,
           1
          ],
          [
           2,
           38.8,
           17.6,
           191,
           3275,
           0
          ],
          [
           2,
           41.5,
           18.3,
           195,
           4300,
           1
          ],
          [
           2,
           39,
           17.1,
           191,
           3050,
           0
          ],
          [
           2,
           44.1,
           18,
           210,
           4000,
           1
          ],
          [
           2,
           38.5,
           17.9,
           190,
           3325,
           0
          ],
          [
           2,
           43.1,
           19.2,
           197,
           3500,
           1
          ],
          [
           1,
           36.8,
           18.5,
           193,
           3500,
           0
          ],
          [
           1,
           37.5,
           18.5,
           199,
           4475,
           1
          ],
          [
           1,
           38.1,
           17.6,
           187,
           3425,
           0
          ],
          [
           1,
           41.1,
           17.5,
           190,
           3900,
           1
          ],
          [
           1,
           35.6,
           17.5,
           191,
           3175,
           0
          ],
          [
           1,
           40.2,
           20.1,
           200,
           3975,
           1
          ],
          [
           1,
           37,
           16.5,
           185,
           3400,
           0
          ],
          [
           1,
           39.7,
           17.9,
           193,
           4250,
           1
          ],
          [
           1,
           40.2,
           17.1,
           193,
           3400,
           0
          ],
          [
           1,
           40.6,
           17.2,
           187,
           3475,
           1
          ],
          [
           1,
           32.1,
           15.5,
           188,
           3050,
           0
          ],
          [
           1,
           40.7,
           17,
           190,
           3725,
           1
          ],
          [
           1,
           37.3,
           16.8,
           192,
           3000,
           0
          ],
          [
           1,
           39,
           18.7,
           185,
           3650,
           1
          ],
          [
           1,
           39.2,
           18.6,
           190,
           4250,
           1
          ],
          [
           1,
           36.6,
           18.4,
           184,
           3475,
           0
          ],
          [
           1,
           36,
           17.8,
           195,
           3450,
           0
          ],
          [
           1,
           37.8,
           18.1,
           193,
           3750,
           1
          ],
          [
           1,
           36,
           17.1,
           187,
           3700,
           0
          ],
          [
           1,
           41.5,
           18.5,
           201,
           4000,
           1
          ],
          [
           1,
           46.5,
           17.9,
           192,
           3500,
           0
          ],
          [
           1,
           50,
           19.5,
           196,
           3900,
           1
          ],
          [
           1,
           51.3,
           19.2,
           193,
           3650,
           1
          ],
          [
           1,
           45.4,
           18.7,
           188,
           3525,
           0
          ],
          [
           1,
           52.7,
           19.8,
           197,
           3725,
           1
          ],
          [
           1,
           45.2,
           17.8,
           198,
           3950,
           0
          ],
          [
           1,
           46.1,
           18.2,
           178,
           3250,
           0
          ],
          [
           1,
           51.3,
           18.2,
           197,
           3750,
           1
          ],
          [
           1,
           46,
           18.9,
           195,
           4150,
           0
          ],
          [
           1,
           51.3,
           19.9,
           198,
           3700,
           1
          ],
          [
           1,
           46.6,
           17.8,
           193,
           3800,
           0
          ],
          [
           1,
           51.7,
           20.3,
           194,
           3775,
           1
          ],
          [
           1,
           47,
           17.3,
           185,
           3700,
           0
          ],
          [
           1,
           52,
           18.1,
           201,
           4050,
           1
          ],
          [
           1,
           45.9,
           17.1,
           190,
           3575,
           0
          ],
          [
           1,
           50.5,
           19.6,
           201,
           4050,
           1
          ],
          [
           1,
           50.3,
           20,
           197,
           3300,
           1
          ],
          [
           1,
           58,
           17.8,
           181,
           3700,
           0
          ],
          [
           1,
           46.4,
           18.6,
           190,
           3450,
           0
          ],
          [
           1,
           49.2,
           18.2,
           195,
           4400,
           1
          ],
          [
           1,
           42.4,
           17.3,
           181,
           3600,
           0
          ],
          [
           1,
           48.5,
           17.5,
           191,
           3400,
           1
          ],
          [
           1,
           43.2,
           16.6,
           187,
           2900,
           0
          ],
          [
           1,
           50.6,
           19.4,
           193,
           3800,
           1
          ],
          [
           1,
           46.7,
           17.9,
           195,
           3300,
           0
          ],
          [
           1,
           52,
           19,
           197,
           4150,
           1
          ],
          [
           1,
           50.5,
           18.4,
           200,
           3400,
           0
          ],
          [
           1,
           49.5,
           19,
           200,
           3800,
           1
          ],
          [
           1,
           46.4,
           17.8,
           191,
           3700,
           0
          ],
          [
           1,
           52.8,
           20,
           205,
           4550,
           1
          ],
          [
           1,
           40.9,
           16.6,
           187,
           3200,
           0
          ],
          [
           1,
           54.2,
           20.8,
           201,
           4300,
           1
          ],
          [
           1,
           42.5,
           16.7,
           187,
           3350,
           0
          ],
          [
           1,
           51,
           18.8,
           203,
           4100,
           1
          ],
          [
           1,
           49.7,
           18.6,
           195,
           3600,
           1
          ],
          [
           1,
           47.5,
           16.8,
           199,
           3900,
           0
          ],
          [
           1,
           47.6,
           18.3,
           195,
           3850,
           0
          ],
          [
           1,
           52,
           20.7,
           210,
           4800,
           1
          ],
          [
           1,
           46.9,
           16.6,
           192,
           2700,
           0
          ],
          [
           1,
           53.5,
           19.9,
           205,
           4500,
           1
          ],
          [
           1,
           49,
           19.5,
           210,
           3950,
           1
          ],
          [
           1,
           46.2,
           17.5,
           187,
           3650,
           0
          ],
          [
           1,
           50.9,
           19.1,
           196,
           3550,
           1
          ],
          [
           1,
           45.5,
           17,
           196,
           3500,
           0
          ],
          [
           1,
           50.9,
           17.9,
           196,
           3675,
           0
          ],
          [
           1,
           50.8,
           18.5,
           201,
           4450,
           1
          ],
          [
           1,
           50.1,
           17.9,
           190,
           3400,
           0
          ],
          [
           1,
           49,
           19.6,
           212,
           4300,
           1
          ],
          [
           1,
           51.5,
           18.7,
           187,
           3250,
           1
          ],
          [
           1,
           49.8,
           17.3,
           198,
           3675,
           0
          ],
          [
           1,
           48.1,
           16.4,
           199,
           3325,
           0
          ],
          [
           1,
           51.4,
           19,
           201,
           3950,
           1
          ],
          [
           1,
           45.7,
           17.3,
           193,
           3600,
           0
          ],
          [
           1,
           50.7,
           19.7,
           203,
           4050,
           1
          ],
          [
           1,
           42.5,
           17.3,
           187,
           3350,
           0
          ],
          [
           1,
           52.2,
           18.8,
           197,
           3450,
           1
          ],
          [
           1,
           45.2,
           16.6,
           191,
           3250,
           0
          ],
          [
           1,
           49.3,
           19.9,
           203,
           4050,
           1
          ],
          [
           1,
           50.2,
           18.8,
           202,
           3800,
           1
          ],
          [
           1,
           45.6,
           19.4,
           194,
           3525,
           0
          ],
          [
           1,
           51.9,
           19.5,
           206,
           3950,
           1
          ],
          [
           1,
           46.8,
           16.5,
           189,
           3650,
           0
          ],
          [
           1,
           45.7,
           17,
           195,
           3650,
           0
          ],
          [
           1,
           55.8,
           19.8,
           207,
           4000,
           1
          ],
          [
           1,
           43.5,
           18.1,
           202,
           3400,
           0
          ],
          [
           1,
           49.6,
           18.2,
           193,
           3775,
           1
          ],
          [
           1,
           50.8,
           19,
           210,
           4100,
           1
          ],
          [
           1,
           50.2,
           18.7,
           198,
           3775,
           0
          ],
          [
           0,
           46.1,
           13.2,
           211,
           4500,
           0
          ],
          [
           0,
           50,
           16.3,
           230,
           5700,
           1
          ],
          [
           0,
           48.7,
           14.1,
           210,
           4450,
           0
          ],
          [
           0,
           50,
           15.2,
           218,
           5700,
           1
          ],
          [
           0,
           47.6,
           14.5,
           215,
           5400,
           1
          ],
          [
           0,
           46.5,
           13.5,
           210,
           4550,
           0
          ],
          [
           0,
           45.4,
           14.6,
           211,
           4800,
           0
          ],
          [
           0,
           46.7,
           15.3,
           219,
           5200,
           1
          ],
          [
           0,
           43.3,
           13.4,
           209,
           4400,
           0
          ],
          [
           0,
           46.8,
           15.4,
           215,
           5150,
           1
          ],
          [
           0,
           40.9,
           13.7,
           214,
           4650,
           0
          ],
          [
           0,
           49,
           16.1,
           216,
           5550,
           1
          ],
          [
           0,
           45.5,
           13.7,
           214,
           4650,
           0
          ],
          [
           0,
           48.4,
           14.6,
           213,
           5850,
           1
          ],
          [
           0,
           45.8,
           14.6,
           210,
           4200,
           0
          ],
          [
           0,
           49.3,
           15.7,
           217,
           5850,
           1
          ],
          [
           0,
           42,
           13.5,
           210,
           4150,
           0
          ],
          [
           0,
           49.2,
           15.2,
           221,
           6300,
           1
          ],
          [
           0,
           46.2,
           14.5,
           209,
           4800,
           0
          ],
          [
           0,
           48.7,
           15.1,
           222,
           5350,
           1
          ],
          [
           0,
           50.2,
           14.3,
           218,
           5700,
           1
          ],
          [
           0,
           45.1,
           14.5,
           215,
           5000,
           0
          ],
          [
           0,
           46.5,
           14.5,
           213,
           4400,
           0
          ],
          [
           0,
           46.3,
           15.8,
           215,
           5050,
           1
          ],
          [
           0,
           42.9,
           13.1,
           215,
           5000,
           0
          ],
          [
           0,
           46.1,
           15.1,
           215,
           5100,
           1
          ],
          [
           0,
           44.5,
           14.3,
           216,
           4100,
           -1
          ],
          [
           0,
           47.8,
           15,
           215,
           5650,
           1
          ],
          [
           0,
           48.2,
           14.3,
           210,
           4600,
           0
          ],
          [
           0,
           50,
           15.3,
           220,
           5550,
           1
          ],
          [
           0,
           47.3,
           15.3,
           222,
           5250,
           1
          ],
          [
           0,
           42.8,
           14.2,
           209,
           4700,
           0
          ],
          [
           0,
           45.1,
           14.5,
           207,
           5050,
           0
          ],
          [
           0,
           59.6,
           17,
           230,
           6050,
           1
          ],
          [
           0,
           49.1,
           14.8,
           220,
           5150,
           0
          ],
          [
           0,
           48.4,
           16.3,
           220,
           5400,
           1
          ],
          [
           0,
           42.6,
           13.7,
           213,
           4950,
           0
          ],
          [
           0,
           44.4,
           17.3,
           219,
           5250,
           1
          ],
          [
           0,
           44,
           13.6,
           208,
           4350,
           0
          ],
          [
           0,
           48.7,
           15.7,
           208,
           5350,
           1
          ],
          [
           0,
           42.7,
           13.7,
           208,
           3950,
           0
          ],
          [
           0,
           49.6,
           16,
           225,
           5700,
           1
          ],
          [
           0,
           45.3,
           13.7,
           210,
           4300,
           0
          ],
          [
           0,
           49.6,
           15,
           216,
           4750,
           1
          ],
          [
           0,
           50.5,
           15.9,
           222,
           5550,
           1
          ],
          [
           0,
           43.6,
           13.9,
           217,
           4900,
           0
          ],
          [
           0,
           45.5,
           13.9,
           210,
           4200,
           0
          ],
          [
           0,
           50.5,
           15.9,
           225,
           5400,
           1
          ],
          [
           0,
           44.9,
           13.3,
           213,
           5100,
           0
          ],
          [
           0,
           45.2,
           15.8,
           215,
           5300,
           1
          ],
          [
           0,
           46.6,
           14.2,
           210,
           4850,
           0
          ],
          [
           0,
           48.5,
           14.1,
           220,
           5300,
           1
          ],
          [
           0,
           45.1,
           14.4,
           210,
           4400,
           0
          ],
          [
           0,
           50.1,
           15,
           225,
           5000,
           1
          ],
          [
           0,
           46.5,
           14.4,
           217,
           4900,
           0
          ],
          [
           0,
           45,
           15.4,
           220,
           5050,
           1
          ],
          [
           0,
           43.8,
           13.9,
           208,
           4300,
           0
          ],
          [
           0,
           45.5,
           15,
           220,
           5000,
           1
          ],
          [
           0,
           43.2,
           14.5,
           208,
           4450,
           0
          ],
          [
           0,
           50.4,
           15.3,
           224,
           5550,
           1
          ],
          [
           0,
           45.3,
           13.8,
           208,
           4200,
           0
          ],
          [
           0,
           46.2,
           14.9,
           221,
           5300,
           1
          ],
          [
           0,
           45.7,
           13.9,
           214,
           4400,
           0
          ],
          [
           0,
           54.3,
           15.7,
           231,
           5650,
           1
          ],
          [
           0,
           45.8,
           14.2,
           219,
           4700,
           0
          ],
          [
           0,
           49.8,
           16.8,
           230,
           5700,
           1
          ],
          [
           0,
           46.2,
           14.4,
           214,
           4650,
           -1
          ],
          [
           0,
           49.5,
           16.2,
           229,
           5800,
           1
          ],
          [
           0,
           43.5,
           14.2,
           220,
           4700,
           0
          ],
          [
           0,
           50.7,
           15,
           223,
           5550,
           1
          ],
          [
           0,
           47.7,
           15,
           216,
           4750,
           0
          ],
          [
           0,
           46.4,
           15.6,
           221,
           5000,
           1
          ],
          [
           0,
           48.2,
           15.6,
           221,
           5100,
           1
          ],
          [
           0,
           46.5,
           14.8,
           217,
           5200,
           0
          ],
          [
           0,
           46.4,
           15,
           216,
           4700,
           0
          ],
          [
           0,
           48.6,
           16,
           230,
           5800,
           1
          ],
          [
           0,
           47.5,
           14.2,
           209,
           4600,
           0
          ],
          [
           0,
           51.1,
           16.3,
           220,
           6000,
           1
          ],
          [
           0,
           45.2,
           13.8,
           215,
           4750,
           0
          ],
          [
           0,
           45.2,
           16.4,
           223,
           5950,
           1
          ],
          [
           0,
           49.1,
           14.5,
           212,
           4625,
           0
          ],
          [
           0,
           52.5,
           15.6,
           221,
           5450,
           1
          ],
          [
           0,
           47.4,
           14.6,
           212,
           4725,
           0
          ],
          [
           0,
           50,
           15.9,
           224,
           5350,
           1
          ],
          [
           0,
           44.9,
           13.8,
           212,
           4750,
           0
          ],
          [
           0,
           50.8,
           17.3,
           228,
           5600,
           1
          ],
          [
           0,
           43.4,
           14.4,
           218,
           4600,
           0
          ],
          [
           0,
           51.3,
           14.2,
           218,
           5300,
           1
          ],
          [
           0,
           47.5,
           14,
           212,
           4875,
           0
          ],
          [
           0,
           52.1,
           17,
           230,
           5550,
           1
          ],
          [
           0,
           47.5,
           15,
           218,
           4950,
           0
          ],
          [
           0,
           52.2,
           17.1,
           228,
           5400,
           1
          ],
          [
           0,
           45.5,
           14.5,
           212,
           4750,
           0
          ],
          [
           0,
           49.5,
           16.1,
           224,
           5650,
           1
          ],
          [
           0,
           44.5,
           14.7,
           214,
           4850,
           0
          ],
          [
           0,
           50.8,
           15.7,
           226,
           5200,
           1
          ],
          [
           0,
           49.4,
           15.8,
           216,
           4925,
           1
          ],
          [
           0,
           46.9,
           14.6,
           222,
           4875,
           0
          ],
          [
           0,
           48.4,
           14.4,
           203,
           4625,
           0
          ],
          [
           0,
           51.1,
           16.5,
           225,
           5250,
           1
          ],
          [
           0,
           48.5,
           15,
           219,
           4850,
           0
          ],
          [
           0,
           55.9,
           17,
           228,
           5600,
           1
          ],
          [
           0,
           47.2,
           15.5,
           215,
           4975,
           0
          ],
          [
           0,
           49.1,
           15,
           228,
           5500,
           1
          ],
          [
           0,
           47.3,
           13.8,
           216,
           4725,
           -1
          ],
          [
           0,
           46.8,
           16.1,
           215,
           5500,
           1
          ],
          [
           0,
           41.7,
           14.7,
           210,
           4700,
           0
          ],
          [
           0,
           53.4,
           15.8,
           219,
           5500,
           1
          ],
          [
           0,
           43.3,
           14,
           208,
           4575,
           0
          ],
          [
           0,
           48.1,
           15.1,
           209,
           5500,
           1
          ],
          [
           0,
           50.5,
           15.2,
           216,
           5000,
           0
          ],
          [
           0,
           49.8,
           15.9,
           229,
           5950,
           1
          ],
          [
           0,
           43.5,
           15.2,
           213,
           4650,
           0
          ],
          [
           0,
           51.5,
           16.3,
           230,
           5500,
           1
          ],
          [
           0,
           46.2,
           14.1,
           217,
           4375,
           0
          ],
          [
           0,
           55.1,
           16,
           230,
           5850,
           1
          ],
          [
           0,
           44.5,
           15.7,
           217,
           4875,
           -1
          ],
          [
           0,
           48.8,
           16.2,
           222,
           6000,
           1
          ],
          [
           0,
           47.2,
           13.7,
           214,
           4925,
           0
          ],
          [
           0,
           43.9219298245614,
           17.151169590643278,
           200.91520467836258,
           4201.754385964912,
           -1
          ],
          [
           0,
           46.8,
           14.3,
           215,
           4850,
           0
          ],
          [
           0,
           50.4,
           15.7,
           222,
           5750,
           1
          ],
          [
           0,
           45.2,
           14.8,
           212,
           5200,
           0
          ],
          [
           0,
           49.9,
           16.1,
           213,
           5400,
           1
          ]
         ],
         "hovertemplate": "island: %{customdata[0]}<br>bill_length_mm: %{customdata[1]}<br>bill_depth_mm: %{customdata[2]}<br>flipper_length_mm: %{customdata[3]}<br>body_mass_g: %{customdata[4]}<br>sex: %{customdata[5]}<br>label: %{text}<extra></extra>",
         "marker": {
          "color": [
           0,
           0,
           0,
           0,
           0,
           0,
           0,
           0,
           0,
           0,
           0,
           0,
           0,
           0,
           0,
           0,
           0,
           0,
           0,
           0,
           0,
           0,
           0,
           0,
           0,
           0,
           0,
           0,
           0,
           0,
           0,
           0,
           0,
           0,
           0,
           0,
           0,
           0,
           0,
           0,
           0,
           0,
           0,
           0,
           0,
           0,
           0,
           0,
           0,
           0,
           0,
           0,
           0,
           0,
           0,
           0,
           0,
           0,
           0,
           0,
           0,
           0,
           0,
           0,
           0,
           0,
           0,
           0,
           0,
           0,
           0,
           0,
           0,
           0,
           0,
           0,
           0,
           0,
           0,
           0,
           0,
           0,
           0,
           0,
           0,
           0,
           0,
           0,
           0,
           0,
           0,
           0,
           0,
           0,
           0,
           0,
           0,
           0,
           0,
           0,
           0,
           0,
           0,
           0,
           0,
           0,
           0,
           0,
           0,
           0,
           0,
           0,
           0,
           0,
           0,
           0,
           0,
           0,
           0,
           0,
           0,
           0,
           0,
           0,
           0,
           0,
           0,
           0,
           0,
           0,
           0,
           0,
           0,
           0,
           0,
           0,
           0,
           0,
           0,
           0,
           0,
           0,
           0,
           0,
           0,
           0,
           0,
           0,
           0,
           0,
           0,
           0,
           1,
           1,
           1,
           1,
           1,
           1,
           1,
           1,
           1,
           1,
           1,
           1,
           1,
           1,
           1,
           1,
           1,
           1,
           1,
           1,
           1,
           1,
           1,
           1,
           1,
           1,
           1,
           1,
           1,
           1,
           1,
           1,
           1,
           1,
           1,
           1,
           1,
           1,
           1,
           1,
           1,
           1,
           1,
           1,
           1,
           1,
           1,
           1,
           1,
           1,
           1,
           1,
           1,
           1,
           1,
           1,
           1,
           1,
           1,
           1,
           1,
           1,
           1,
           1,
           1,
           1,
           1,
           1,
           2,
           2,
           2,
           2,
           2,
           2,
           2,
           2,
           2,
           2,
           2,
           2,
           2,
           2,
           2,
           2,
           2,
           2,
           2,
           2,
           2,
           2,
           2,
           2,
           2,
           2,
           2,
           2,
           2,
           2,
           2,
           2,
           2,
           2,
           2,
           2,
           2,
           2,
           2,
           2,
           2,
           2,
           2,
           2,
           2,
           2,
           2,
           2,
           2,
           2,
           2,
           2,
           2,
           2,
           2,
           2,
           2,
           2,
           2,
           2,
           2,
           2,
           2,
           2,
           2,
           2,
           2,
           2,
           2,
           2,
           2,
           2,
           2,
           2,
           2,
           2,
           2,
           2,
           2,
           2,
           2,
           2,
           2,
           2,
           2,
           2,
           2,
           2,
           2,
           2,
           2,
           2,
           2,
           2,
           2,
           2,
           2,
           2,
           2,
           2,
           2,
           2,
           2,
           2,
           2,
           2,
           2,
           2,
           2,
           2,
           2,
           2,
           2,
           2,
           2,
           2,
           2,
           2,
           2,
           2,
           2,
           2,
           2,
           2
          ],
          "colorscale": [
           [
            0,
            "#440154"
           ],
           [
            0.1111111111111111,
            "#482878"
           ],
           [
            0.2222222222222222,
            "#3e4989"
           ],
           [
            0.3333333333333333,
            "#31688e"
           ],
           [
            0.4444444444444444,
            "#26828e"
           ],
           [
            0.5555555555555556,
            "#1f9e89"
           ],
           [
            0.6666666666666666,
            "#35b779"
           ],
           [
            0.7777777777777778,
            "#6ece58"
           ],
           [
            0.8888888888888888,
            "#b5de2b"
           ],
           [
            1,
            "#fde725"
           ]
          ],
          "opacity": 0.8,
          "showscale": true,
          "size": 8
         },
         "mode": "markers",
         "text": [
          0,
          0,
          0,
          0,
          0,
          0,
          0,
          0,
          0,
          0,
          0,
          0,
          0,
          0,
          0,
          0,
          0,
          0,
          0,
          0,
          0,
          0,
          0,
          0,
          0,
          0,
          0,
          0,
          0,
          0,
          0,
          0,
          0,
          0,
          0,
          0,
          0,
          0,
          0,
          0,
          0,
          0,
          0,
          0,
          0,
          0,
          0,
          0,
          0,
          0,
          0,
          0,
          0,
          0,
          0,
          0,
          0,
          0,
          0,
          0,
          0,
          0,
          0,
          0,
          0,
          0,
          0,
          0,
          0,
          0,
          0,
          0,
          0,
          0,
          0,
          0,
          0,
          0,
          0,
          0,
          0,
          0,
          0,
          0,
          0,
          0,
          0,
          0,
          0,
          0,
          0,
          0,
          0,
          0,
          0,
          0,
          0,
          0,
          0,
          0,
          0,
          0,
          0,
          0,
          0,
          0,
          0,
          0,
          0,
          0,
          0,
          0,
          0,
          0,
          0,
          0,
          0,
          0,
          0,
          0,
          0,
          0,
          0,
          0,
          0,
          0,
          0,
          0,
          0,
          0,
          0,
          0,
          0,
          0,
          0,
          0,
          0,
          0,
          0,
          0,
          0,
          0,
          0,
          0,
          0,
          0,
          0,
          0,
          0,
          0,
          0,
          0,
          1,
          1,
          1,
          1,
          1,
          1,
          1,
          1,
          1,
          1,
          1,
          1,
          1,
          1,
          1,
          1,
          1,
          1,
          1,
          1,
          1,
          1,
          1,
          1,
          1,
          1,
          1,
          1,
          1,
          1,
          1,
          1,
          1,
          1,
          1,
          1,
          1,
          1,
          1,
          1,
          1,
          1,
          1,
          1,
          1,
          1,
          1,
          1,
          1,
          1,
          1,
          1,
          1,
          1,
          1,
          1,
          1,
          1,
          1,
          1,
          1,
          1,
          1,
          1,
          1,
          1,
          1,
          1,
          2,
          2,
          2,
          2,
          2,
          2,
          2,
          2,
          2,
          2,
          2,
          2,
          2,
          2,
          2,
          2,
          2,
          2,
          2,
          2,
          2,
          2,
          2,
          2,
          2,
          2,
          2,
          2,
          2,
          2,
          2,
          2,
          2,
          2,
          2,
          2,
          2,
          2,
          2,
          2,
          2,
          2,
          2,
          2,
          2,
          2,
          2,
          2,
          2,
          2,
          2,
          2,
          2,
          2,
          2,
          2,
          2,
          2,
          2,
          2,
          2,
          2,
          2,
          2,
          2,
          2,
          2,
          2,
          2,
          2,
          2,
          2,
          2,
          2,
          2,
          2,
          2,
          2,
          2,
          2,
          2,
          2,
          2,
          2,
          2,
          2,
          2,
          2,
          2,
          2,
          2,
          2,
          2,
          2,
          2,
          2,
          2,
          2,
          2,
          2,
          2,
          2,
          2,
          2,
          2,
          2,
          2,
          2,
          2,
          2,
          2,
          2,
          2,
          2,
          2,
          2,
          2,
          2,
          2,
          2,
          2,
          2,
          2,
          2
         ],
         "type": "scattergl",
         "x": [
          -58.382717,
          -36.938335,
          0.8751809,
          7.6889944,
          -1.4532039,
          -48.29398,
          -38.222996,
          27.453403,
          -2.838147,
          -13.992312,
          -3.7415142,
          -61.932823,
          23.446228,
          -38.221737,
          -21.733597,
          -61.48443,
          -1.9279246,
          17.41808,
          -13.681243,
          7.8945074,
          3.219465,
          -37.196293,
          -37.322514,
          9.732863,
          -36.187847,
          -36.87156,
          -13.034489,
          23.763338,
          21.722849,
          9.568777,
          1.5519129,
          -35.703823,
          -3.4620912,
          -35.77043,
          -13.296042,
          -16.005798,
          9.946969,
          -12.5534525,
          -4.02641,
          26.478283,
          21.979557,
          -36.268593,
          -15.892891,
          -21.0018,
          -19.593035,
          18.801968,
          1.2300369,
          -19.950459,
          -1.0447457,
          -15.992232,
          -5.4287143,
          -16.247683,
          -0.78929675,
          -0.002552816,
          -25.041698,
          -59.325504,
          -13.634937,
          -38.689056,
          -26.63082,
          -57.64105,
          22.329016,
          -21.289673,
          -36.729473,
          0.22216006,
          -26.632248,
          10.002439,
          -19.448856,
          0.012025691,
          -17.338362,
          17.181047,
          -36.555103,
          -35.929295,
          -15.724854,
          -15.424113,
          -60.80761,
          -14.460908,
          -59.480682,
          -35.78829,
          -13.983769,
          0.73385835,
          24.221445,
          29.295166,
          -37.12364,
          8.462003,
          -19.281363,
          -15.542597,
          -37.67114,
          -4.999183,
          9.667949,
          -36.131542,
          -16.22409,
          -16.411207,
          3.3942447,
          17.718224,
          -3.4652586,
          -16.363214,
          -60.2406,
          -19.268541,
          -25.193666,
          0.022599332,
          -59.113895,
          35.724415,
          -16.371407,
          -14.20017,
          -24.661669,
          -13.165013,
          -57.276596,
          -36.453037,
          22.909492,
          40.60196,
          -38.302532,
          18.842205,
          24.3826,
          -14.916879,
          -36.52526,
          0.077529244,
          -25.411926,
          -53.05488,
          -19.823479,
          -13.161778,
          22.383615,
          -4.302737,
          -0.5611369,
          -36.926956,
          -17.311087,
          0.90894204,
          -1.2485951,
          -16.286646,
          -17.050303,
          0.097900115,
          -13.351737,
          -4.8622093,
          -4.606572,
          17.304317,
          1.2283887,
          -35.789288,
          22.930006,
          1.8695203,
          3.3836243,
          -14.719072,
          3.5536199,
          -2.8403685,
          -17.569756,
          -59.02705,
          -19.567657,
          -48.35347,
          -14.633181,
          -2.8396442,
          -1.377559,
          -57.718636,
          -61.166965,
          0.74491554,
          -5.6494102,
          -35.855618,
          -49.512447,
          -9.61622,
          -58.740345,
          10.429893,
          1.8261355,
          -56.969933,
          -15.482638,
          -58.23204,
          -41.03484,
          -52.25183,
          -57.747093,
          0.22577953,
          -33.817245,
          0.40331307,
          -4.21058,
          -56.926746,
          -2.6153398,
          -20.647913,
          -36.87379,
          3.0979655,
          -25.493551,
          -41.33799,
          -4.1059937,
          -14.998638,
          3.6317594,
          -42.135986,
          -58.266434,
          18.571152,
          23.88881,
          -17.993534,
          -19.668179,
          0.008776705,
          -34.93062,
          -36.012333,
          -37.321434,
          40.96379,
          -27.492619,
          17.438574,
          11.009052,
          -49.098244,
          -15.630476,
          -5.3033442,
          -53.2423,
          17.041536,
          2.9390142,
          -17.508635,
          1.7150114,
          -53.239235,
          -12.598055,
          10.837247,
          -34.953426,
          -0.25753772,
          -19.38599,
          -3.0685573,
          1.2303587,
          -0.25589597,
          -42.303474,
          -9.614001,
          11.079027,
          -49.196114,
          -48.96332,
          -0.13566048,
          4.0505743,
          -52.347248,
          0.0007620803,
          -52.44062,
          17.440565,
          34.165417,
          16.526678,
          33.599396,
          63.188675,
          18.615807,
          40.92617,
          65.78641,
          -20.375956,
          65.01699,
          24.269781,
          44.51004,
          23.99561,
          28.722189,
          7.2790284,
          28.68031,
          -15.234535,
          24.49474,
          40.85604,
          65.18385,
          33.903347,
          55.671116,
          -19.943449,
          62.473476,
          55.7166,
          64.01035,
          -0.0083564,
          37.1192,
          19.580442,
          44.15739,
          66.40231,
          30.31087,
          62.470276,
          24.984375,
          65.01715,
          63.02826,
          52.05763,
          66.40345,
          -19.289574,
          65.190315,
          10.536272,
          33.38077,
          -16.859547,
          39.309044,
          43.98872,
          49.14927,
          6.89837,
          63.348835,
          64.00537,
          66.421814,
          44.17581,
          66.09041,
          -20.113901,
          57.066063,
          49.155964,
          62.472813,
          -16.61069,
          56.36024,
          16.58945,
          43.64928,
          7.0035343,
          66.409065,
          -20.169878,
          37.176292,
          31.41365,
          33.84175,
          24.179773,
          29.414839,
          31.30522,
          43.638634,
          38.89035,
          56.5907,
          64.02402,
          66.19986,
          31.12304,
          29.407316,
          19.532286,
          25.464165,
          38.640793,
          25.804247,
          21.918295,
          61.770493,
          35.98627,
          65.18282,
          38.937935,
          40.107647,
          19.932655,
          66.04042,
          46.75168,
          43.145767,
          52.157898,
          63.780518,
          39.315193,
          37.150887,
          44.534523,
          65.87813,
          50.846294,
          46.8714,
          21.884338,
          66.40322,
          44.697014,
          40.10924,
          53.738174,
          59.37349,
          36.0582,
          59.886612,
          30.39151,
          60.031834,
          18.94854,
          60.162773,
          56.19685,
          25.802498,
          24.527712,
          59.338287,
          -19.669998,
          28.505537,
          46.819965,
          25.22691,
          50.850586,
          7.6781464,
          44.37122,
          32.397835,
          66.10102,
          63.547173
         ],
         "y": [
          -7.2842135,
          -16.575663,
          60.511158,
          34.318302,
          5.4042974,
          18.86809,
          27.301212,
          -1.0392036,
          13.525313,
          -13.32005,
          58.743584,
          5.449904,
          52.859425,
          -14.44959,
          10.326642,
          5.9318156,
          5.370938,
          14.318087,
          58.19499,
          33.566853,
          -5.338724,
          28.280775,
          -15.249716,
          -22.103205,
          -17.027895,
          -15.603776,
          32.930397,
          52.53777,
          47.502296,
          -21.678427,
          61.270267,
          -0.88436484,
          58.44583,
          -1.7007284,
          57.426178,
          -64.92296,
          -22.74208,
          32.91111,
          59.09294,
          -0.7501402,
          47.8886,
          -4.68171,
          -31.724474,
          10.456589,
          -34.898525,
          3.332593,
          -1.1554921,
          -35.22668,
          4.946577,
          -65.50644,
          20.68217,
          -7.364982,
          5.202247,
          -50.68668,
          -40.750217,
          7.250091,
          32.6258,
          -13.828027,
          -41.75217,
          -7.412221,
          47.61842,
          10.490699,
          28.681698,
          -51.02915,
          -41.750843,
          -23.304523,
          58.792305,
          -55.061436,
          -33.14664,
          17.115515,
          29.365875,
          -3.4480464,
          31.912596,
          -64.99733,
          6.703428,
          -12.83006,
          7.1687064,
          -1.5532243,
          32.75354,
          -30.847742,
          52.42009,
          -1.4962395,
          -16.021421,
          33.524662,
          58.41014,
          31.742529,
          -14.967643,
          20.759165,
          -22.651392,
          29.098614,
          32.27997,
          -5.6782427,
          -5.937097,
          17.37401,
          58.853333,
          -5.3804927,
          6.8356566,
          4.5762978,
          -41.00724,
          -55.103756,
          -1.8237389,
          1.3157775,
          -32.129124,
          -13.738772,
          -40.027214,
          32.56972,
          -7.443383,
          -3.2537444,
          49.761425,
          9.291362,
          -12.648108,
          3.3791296,
          52.91148,
          -11.644622,
          -3.7143784,
          -53.217346,
          -40.491356,
          -12.535959,
          58.425785,
          57.88275,
          47.848537,
          21.823914,
          3.7993946,
          -7.5658016,
          -32.67446,
          -30.444996,
          59.5631,
          -7.191858,
          -33.131073,
          -30.248156,
          57.803917,
          22.331652,
          21.128422,
          15.585948,
          -1.1532866,
          -3.6625578,
          49.793922,
          -30.119087,
          -6.11703,
          -13.221002,
          -7.0800514,
          13.529128,
          -32.757935,
          -1.7221146,
          -34.875214,
          19.350086,
          -13.695766,
          13.526724,
          5.8276153,
          -7.4261823,
          6.241952,
          -30.28908,
          22.243689,
          -6.032843,
          18.332035,
          26.739872,
          -1.3926207,
          -24.627258,
          61.049927,
          -7.924919,
          -65.502754,
          8.55424,
          -13.789846,
          -12.681983,
          7.2047725,
          -49.48851,
          29.641708,
          -49.8748,
          57.27472,
          7.040127,
          4.4928775,
          10.537185,
          28.070683,
          -7.7900453,
          -40.405926,
          -13.795167,
          57.478878,
          -65.34961,
          -8.528776,
          -13.818445,
          7.574406,
          7.3444686,
          53.09877,
          -5.722673,
          57.830357,
          -55.886665,
          28.90126,
          -6.121375,
          -8.733896,
          10.32693,
          -42.31494,
          13.887865,
          -26.217749,
          19.122793,
          30.918142,
          22.45811,
          14.278723,
          17.768335,
          -7.9306426,
          -5.064961,
          60.49003,
          14.278623,
          57.189007,
          -25.326384,
          29.163448,
          -49.626167,
          57.827045,
          4.473813,
          60.56128,
          -49.94952,
          -13.824298,
          26.734938,
          -25.800505,
          18.849874,
          18.239717,
          -30.65454,
          -8.238297,
          -12.663201,
          -56.237236,
          -12.648073,
          13.866007,
          -33.8556,
          17.80431,
          -34.413303,
          -10.005437,
          7.218217,
          10.217868,
          7.4426694,
          8.376403,
          10.52395,
          -0.24869077,
          -26.932476,
          0.030109402,
          -38.97688,
          35.434788,
          -38.90859,
          -64.322464,
          -44.292233,
          10.0186405,
          -5.545835,
          -34.459908,
          22.748186,
          7.937868,
          15.793956,
          22.19577,
          13.10744,
          -56.499577,
          -31.707993,
          4.4977922,
          -26.50648,
          3.3593268,
          -1.7379637,
          15.800683,
          -43.519184,
          10.521623,
          -10.520474,
          25.430712,
          3.3600006,
          4.6733427,
          -5.537922,
          -26.427134,
          -34.054386,
          -4.7262297,
          4.6436806,
          -27.259356,
          27.057663,
          35.316723,
          -10.779696,
          13.119365,
          -1.2431021,
          28.720175,
          -0.8844862,
          8.333583,
          22.536219,
          27.054016,
          15.79526,
          -4.9145927,
          22.131617,
          17.46257,
          -26.469471,
          34.998287,
          -0.88030976,
          7.7891026,
          -31.662115,
          -1.9446542,
          -33.62651,
          0.2926639,
          -37.934277,
          -2.2591753,
          -27.191404,
          4.616395,
          22.36311,
          13.082886,
          7.3551054,
          -1.7246754,
          -37.938557,
          4.4769955,
          -43.06804,
          4.993244,
          -42.351627,
          1.9541696,
          -12.84924,
          1.5386205,
          -5.5483146,
          5.3901606,
          -29.503267,
          4.615525,
          -1.1989105,
          28.085918,
          -26.80999,
          25.356401,
          -10.560231,
          5.2497,
          -31.682945,
          28.657972,
          7.092201,
          26.17206,
          28.096758,
          1.9687927,
          3.3584979,
          29.128052,
          -29.502316,
          24.25007,
          -15.744437,
          1.6009088,
          -16.091116,
          -1.8052273,
          -15.413567,
          6.2586956,
          -16.126966,
          23.021935,
          -42.350433,
          0.031756528,
          -15.568601,
          6.3428984,
          -38.67244,
          28.087896,
          -42.90317,
          26.168447,
          34.341427,
          29.095963,
          -35.27127,
          7.64826,
          -9.961605
         ]
        }
       ],
       "layout": {
        "template": {
         "data": {
          "bar": [
           {
            "error_x": {
             "color": "#2a3f5f"
            },
            "error_y": {
             "color": "#2a3f5f"
            },
            "marker": {
             "line": {
              "color": "#E5ECF6",
              "width": 0.5
             },
             "pattern": {
              "fillmode": "overlay",
              "size": 10,
              "solidity": 0.2
             }
            },
            "type": "bar"
           }
          ],
          "barpolar": [
           {
            "marker": {
             "line": {
              "color": "#E5ECF6",
              "width": 0.5
             },
             "pattern": {
              "fillmode": "overlay",
              "size": 10,
              "solidity": 0.2
             }
            },
            "type": "barpolar"
           }
          ],
          "carpet": [
           {
            "aaxis": {
             "endlinecolor": "#2a3f5f",
             "gridcolor": "white",
             "linecolor": "white",
             "minorgridcolor": "white",
             "startlinecolor": "#2a3f5f"
            },
            "baxis": {
             "endlinecolor": "#2a3f5f",
             "gridcolor": "white",
             "linecolor": "white",
             "minorgridcolor": "white",
             "startlinecolor": "#2a3f5f"
            },
            "type": "carpet"
           }
          ],
          "choropleth": [
           {
            "colorbar": {
             "outlinewidth": 0,
             "ticks": ""
            },
            "type": "choropleth"
           }
          ],
          "contour": [
           {
            "colorbar": {
             "outlinewidth": 0,
             "ticks": ""
            },
            "colorscale": [
             [
              0,
              "#0d0887"
             ],
             [
              0.1111111111111111,
              "#46039f"
             ],
             [
              0.2222222222222222,
              "#7201a8"
             ],
             [
              0.3333333333333333,
              "#9c179e"
             ],
             [
              0.4444444444444444,
              "#bd3786"
             ],
             [
              0.5555555555555556,
              "#d8576b"
             ],
             [
              0.6666666666666666,
              "#ed7953"
             ],
             [
              0.7777777777777778,
              "#fb9f3a"
             ],
             [
              0.8888888888888888,
              "#fdca26"
             ],
             [
              1,
              "#f0f921"
             ]
            ],
            "type": "contour"
           }
          ],
          "contourcarpet": [
           {
            "colorbar": {
             "outlinewidth": 0,
             "ticks": ""
            },
            "type": "contourcarpet"
           }
          ],
          "heatmap": [
           {
            "colorbar": {
             "outlinewidth": 0,
             "ticks": ""
            },
            "colorscale": [
             [
              0,
              "#0d0887"
             ],
             [
              0.1111111111111111,
              "#46039f"
             ],
             [
              0.2222222222222222,
              "#7201a8"
             ],
             [
              0.3333333333333333,
              "#9c179e"
             ],
             [
              0.4444444444444444,
              "#bd3786"
             ],
             [
              0.5555555555555556,
              "#d8576b"
             ],
             [
              0.6666666666666666,
              "#ed7953"
             ],
             [
              0.7777777777777778,
              "#fb9f3a"
             ],
             [
              0.8888888888888888,
              "#fdca26"
             ],
             [
              1,
              "#f0f921"
             ]
            ],
            "type": "heatmap"
           }
          ],
          "heatmapgl": [
           {
            "colorbar": {
             "outlinewidth": 0,
             "ticks": ""
            },
            "colorscale": [
             [
              0,
              "#0d0887"
             ],
             [
              0.1111111111111111,
              "#46039f"
             ],
             [
              0.2222222222222222,
              "#7201a8"
             ],
             [
              0.3333333333333333,
              "#9c179e"
             ],
             [
              0.4444444444444444,
              "#bd3786"
             ],
             [
              0.5555555555555556,
              "#d8576b"
             ],
             [
              0.6666666666666666,
              "#ed7953"
             ],
             [
              0.7777777777777778,
              "#fb9f3a"
             ],
             [
              0.8888888888888888,
              "#fdca26"
             ],
             [
              1,
              "#f0f921"
             ]
            ],
            "type": "heatmapgl"
           }
          ],
          "histogram": [
           {
            "marker": {
             "pattern": {
              "fillmode": "overlay",
              "size": 10,
              "solidity": 0.2
             }
            },
            "type": "histogram"
           }
          ],
          "histogram2d": [
           {
            "colorbar": {
             "outlinewidth": 0,
             "ticks": ""
            },
            "colorscale": [
             [
              0,
              "#0d0887"
             ],
             [
              0.1111111111111111,
              "#46039f"
             ],
             [
              0.2222222222222222,
              "#7201a8"
             ],
             [
              0.3333333333333333,
              "#9c179e"
             ],
             [
              0.4444444444444444,
              "#bd3786"
             ],
             [
              0.5555555555555556,
              "#d8576b"
             ],
             [
              0.6666666666666666,
              "#ed7953"
             ],
             [
              0.7777777777777778,
              "#fb9f3a"
             ],
             [
              0.8888888888888888,
              "#fdca26"
             ],
             [
              1,
              "#f0f921"
             ]
            ],
            "type": "histogram2d"
           }
          ],
          "histogram2dcontour": [
           {
            "colorbar": {
             "outlinewidth": 0,
             "ticks": ""
            },
            "colorscale": [
             [
              0,
              "#0d0887"
             ],
             [
              0.1111111111111111,
              "#46039f"
             ],
             [
              0.2222222222222222,
              "#7201a8"
             ],
             [
              0.3333333333333333,
              "#9c179e"
             ],
             [
              0.4444444444444444,
              "#bd3786"
             ],
             [
              0.5555555555555556,
              "#d8576b"
             ],
             [
              0.6666666666666666,
              "#ed7953"
             ],
             [
              0.7777777777777778,
              "#fb9f3a"
             ],
             [
              0.8888888888888888,
              "#fdca26"
             ],
             [
              1,
              "#f0f921"
             ]
            ],
            "type": "histogram2dcontour"
           }
          ],
          "mesh3d": [
           {
            "colorbar": {
             "outlinewidth": 0,
             "ticks": ""
            },
            "type": "mesh3d"
           }
          ],
          "parcoords": [
           {
            "line": {
             "colorbar": {
              "outlinewidth": 0,
              "ticks": ""
             }
            },
            "type": "parcoords"
           }
          ],
          "pie": [
           {
            "automargin": true,
            "type": "pie"
           }
          ],
          "scatter": [
           {
            "fillpattern": {
             "fillmode": "overlay",
             "size": 10,
             "solidity": 0.2
            },
            "type": "scatter"
           }
          ],
          "scatter3d": [
           {
            "line": {
             "colorbar": {
              "outlinewidth": 0,
              "ticks": ""
             }
            },
            "marker": {
             "colorbar": {
              "outlinewidth": 0,
              "ticks": ""
             }
            },
            "type": "scatter3d"
           }
          ],
          "scattercarpet": [
           {
            "marker": {
             "colorbar": {
              "outlinewidth": 0,
              "ticks": ""
             }
            },
            "type": "scattercarpet"
           }
          ],
          "scattergeo": [
           {
            "marker": {
             "colorbar": {
              "outlinewidth": 0,
              "ticks": ""
             }
            },
            "type": "scattergeo"
           }
          ],
          "scattergl": [
           {
            "marker": {
             "colorbar": {
              "outlinewidth": 0,
              "ticks": ""
             }
            },
            "type": "scattergl"
           }
          ],
          "scattermapbox": [
           {
            "marker": {
             "colorbar": {
              "outlinewidth": 0,
              "ticks": ""
             }
            },
            "type": "scattermapbox"
           }
          ],
          "scatterpolar": [
           {
            "marker": {
             "colorbar": {
              "outlinewidth": 0,
              "ticks": ""
             }
            },
            "type": "scatterpolar"
           }
          ],
          "scatterpolargl": [
           {
            "marker": {
             "colorbar": {
              "outlinewidth": 0,
              "ticks": ""
             }
            },
            "type": "scatterpolargl"
           }
          ],
          "scatterternary": [
           {
            "marker": {
             "colorbar": {
              "outlinewidth": 0,
              "ticks": ""
             }
            },
            "type": "scatterternary"
           }
          ],
          "surface": [
           {
            "colorbar": {
             "outlinewidth": 0,
             "ticks": ""
            },
            "colorscale": [
             [
              0,
              "#0d0887"
             ],
             [
              0.1111111111111111,
              "#46039f"
             ],
             [
              0.2222222222222222,
              "#7201a8"
             ],
             [
              0.3333333333333333,
              "#9c179e"
             ],
             [
              0.4444444444444444,
              "#bd3786"
             ],
             [
              0.5555555555555556,
              "#d8576b"
             ],
             [
              0.6666666666666666,
              "#ed7953"
             ],
             [
              0.7777777777777778,
              "#fb9f3a"
             ],
             [
              0.8888888888888888,
              "#fdca26"
             ],
             [
              1,
              "#f0f921"
             ]
            ],
            "type": "surface"
           }
          ],
          "table": [
           {
            "cells": {
             "fill": {
              "color": "#EBF0F8"
             },
             "line": {
              "color": "white"
             }
            },
            "header": {
             "fill": {
              "color": "#C8D4E3"
             },
             "line": {
              "color": "white"
             }
            },
            "type": "table"
           }
          ]
         },
         "layout": {
          "annotationdefaults": {
           "arrowcolor": "#2a3f5f",
           "arrowhead": 0,
           "arrowwidth": 1
          },
          "autotypenumbers": "strict",
          "coloraxis": {
           "colorbar": {
            "outlinewidth": 0,
            "ticks": ""
           }
          },
          "colorscale": {
           "diverging": [
            [
             0,
             "#8e0152"
            ],
            [
             0.1,
             "#c51b7d"
            ],
            [
             0.2,
             "#de77ae"
            ],
            [
             0.3,
             "#f1b6da"
            ],
            [
             0.4,
             "#fde0ef"
            ],
            [
             0.5,
             "#f7f7f7"
            ],
            [
             0.6,
             "#e6f5d0"
            ],
            [
             0.7,
             "#b8e186"
            ],
            [
             0.8,
             "#7fbc41"
            ],
            [
             0.9,
             "#4d9221"
            ],
            [
             1,
             "#276419"
            ]
           ],
           "sequential": [
            [
             0,
             "#0d0887"
            ],
            [
             0.1111111111111111,
             "#46039f"
            ],
            [
             0.2222222222222222,
             "#7201a8"
            ],
            [
             0.3333333333333333,
             "#9c179e"
            ],
            [
             0.4444444444444444,
             "#bd3786"
            ],
            [
             0.5555555555555556,
             "#d8576b"
            ],
            [
             0.6666666666666666,
             "#ed7953"
            ],
            [
             0.7777777777777778,
             "#fb9f3a"
            ],
            [
             0.8888888888888888,
             "#fdca26"
            ],
            [
             1,
             "#f0f921"
            ]
           ],
           "sequentialminus": [
            [
             0,
             "#0d0887"
            ],
            [
             0.1111111111111111,
             "#46039f"
            ],
            [
             0.2222222222222222,
             "#7201a8"
            ],
            [
             0.3333333333333333,
             "#9c179e"
            ],
            [
             0.4444444444444444,
             "#bd3786"
            ],
            [
             0.5555555555555556,
             "#d8576b"
            ],
            [
             0.6666666666666666,
             "#ed7953"
            ],
            [
             0.7777777777777778,
             "#fb9f3a"
            ],
            [
             0.8888888888888888,
             "#fdca26"
            ],
            [
             1,
             "#f0f921"
            ]
           ]
          },
          "colorway": [
           "#636efa",
           "#EF553B",
           "#00cc96",
           "#ab63fa",
           "#FFA15A",
           "#19d3f3",
           "#FF6692",
           "#B6E880",
           "#FF97FF",
           "#FECB52"
          ],
          "font": {
           "color": "#2a3f5f"
          },
          "geo": {
           "bgcolor": "white",
           "lakecolor": "white",
           "landcolor": "#E5ECF6",
           "showlakes": true,
           "showland": true,
           "subunitcolor": "white"
          },
          "hoverlabel": {
           "align": "left"
          },
          "hovermode": "closest",
          "mapbox": {
           "style": "light"
          },
          "paper_bgcolor": "white",
          "plot_bgcolor": "#E5ECF6",
          "polar": {
           "angularaxis": {
            "gridcolor": "white",
            "linecolor": "white",
            "ticks": ""
           },
           "bgcolor": "#E5ECF6",
           "radialaxis": {
            "gridcolor": "white",
            "linecolor": "white",
            "ticks": ""
           }
          },
          "scene": {
           "xaxis": {
            "backgroundcolor": "#E5ECF6",
            "gridcolor": "white",
            "gridwidth": 2,
            "linecolor": "white",
            "showbackground": true,
            "ticks": "",
            "zerolinecolor": "white"
           },
           "yaxis": {
            "backgroundcolor": "#E5ECF6",
            "gridcolor": "white",
            "gridwidth": 2,
            "linecolor": "white",
            "showbackground": true,
            "ticks": "",
            "zerolinecolor": "white"
           },
           "zaxis": {
            "backgroundcolor": "#E5ECF6",
            "gridcolor": "white",
            "gridwidth": 2,
            "linecolor": "white",
            "showbackground": true,
            "ticks": "",
            "zerolinecolor": "white"
           }
          },
          "shapedefaults": {
           "line": {
            "color": "#2a3f5f"
           }
          },
          "ternary": {
           "aaxis": {
            "gridcolor": "white",
            "linecolor": "white",
            "ticks": ""
           },
           "baxis": {
            "gridcolor": "white",
            "linecolor": "white",
            "ticks": ""
           },
           "bgcolor": "#E5ECF6",
           "caxis": {
            "gridcolor": "white",
            "linecolor": "white",
            "ticks": ""
           }
          },
          "title": {
           "x": 0.05
          },
          "xaxis": {
           "automargin": true,
           "gridcolor": "white",
           "linecolor": "white",
           "ticks": "",
           "title": {
            "standoff": 15
           },
           "zerolinecolor": "white",
           "zerolinewidth": 2
          },
          "yaxis": {
           "automargin": true,
           "gridcolor": "white",
           "linecolor": "white",
           "ticks": "",
           "title": {
            "standoff": 15
           },
           "zerolinecolor": "white",
           "zerolinewidth": 2
          }
         }
        },
        "title": {
         "text": "t-SNE (all features in hover)"
        },
        "xaxis": {
         "title": {
          "text": "t-SNE 1"
         }
        },
        "yaxis": {
         "title": {
          "text": "t-SNE 2"
         }
        }
       }
      }
     },
     "metadata": {},
     "output_type": "display_data"
    }
   ],
   "source": [
    "# Plot t-SNE map for feature visualization\n",
    "fig_tsne = VisualizerFactory.make_tsne(X_cleaned, y_enc,         \n",
    "                                    perplexity=5, # Higher perplexity can help with larger datasets\n",
    "                                    random_state=10)\n",
    "fig_tsne.show()"
   ]
  },
  {
   "cell_type": "markdown",
   "id": "64f66db4",
   "metadata": {},
   "source": [
    "## 6. Conclusion and Next Steps\n",
    "\n",
    "Congratulations! You have completed a full machine learning workflow on the Palmer Penguins dataset:\n",
    "- Data loading and exploration\n",
    "- Preprocessing and cleaning\n",
    "- Model training and evaluation\n",
    "- Feature importance analysis and visualization\n",
    "\n",
    "Feel free to experiment with different models, parameters, or datasets. And remember to pay special attention to categorical features like 'island'!"
   ]
  }
 ],
 "metadata": {
  "kernelspec": {
   "display_name": "Python 3",
   "language": "python",
   "name": "python3"
  },
  "language_info": {
   "codemirror_mode": {
    "name": "ipython",
    "version": 3
   },
   "file_extension": ".py",
   "mimetype": "text/x-python",
   "name": "python",
   "nbconvert_exporter": "python",
   "pygments_lexer": "ipython3",
   "version": "3.9.0"
  }
 },
 "nbformat": 4,
 "nbformat_minor": 5
}
