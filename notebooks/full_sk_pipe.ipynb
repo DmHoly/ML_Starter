{
 "cells": [
  {
   "cell_type": "code",
   "execution_count": 1,
   "id": "72e6e3d3",
   "metadata": {},
   "outputs": [],
   "source": [
    "from sklearn.pipeline import Pipeline\n",
    "from sklearn.impute import SimpleImputer\n",
    "from sklearn.preprocessing import StandardScaler\n",
    "from sklearn.decomposition import PCA\n",
    "from sklearn.ensemble import RandomForestClassifier\n",
    "from sklearn.base import BaseEstimator, TransformerMixin\n",
    "import pandas as pd\n",
    "import numpy as np\n",
    "import seaborn as sns\n",
    "\n",
    "# Add project root to sys.path so we can import custom modules from anywhere\n",
    "import sys\n",
    "import os\n",
    "\n",
    "project_root = os.path.abspath(os.path.join(os.getcwd(), '..'))\n",
    "if project_root not in sys.path:\n",
    "    sys.path.insert(0, project_root)\n",
    "\n",
    "from src.utility import *\n",
    "\n"
   ]
  },
  {
   "cell_type": "code",
   "execution_count": 2,
   "id": "d5149754",
   "metadata": {},
   "outputs": [],
   "source": [
    "pipeline = Pipeline([\n",
    "    #(\"imputer\", SimpleImputer(strategy=\"mean\")),\n",
    "    (\"scaler\", StandardScaler()),\n",
    "    (\"remove_collinear\", CollinearityRemover(threshold=10.0)),\n",
    "    #(\"dim_reduction\", PCA(n_components=3)),\n",
    "    (\"model\", RandomForestClassifier(random_state=42))\n",
    "])"
   ]
  },
  {
   "cell_type": "code",
   "execution_count": 5,
   "id": "f9dcdf97",
   "metadata": {},
   "outputs": [
    {
     "ename": "TypeError",
     "evalue": "dataset_overview() missing 1 required positional argument: 'self'",
     "output_type": "error",
     "traceback": [
      "\u001b[1;31m---------------------------------------------------------------------------\u001b[0m",
      "\u001b[1;31mTypeError\u001b[0m                                 Traceback (most recent call last)",
      "Input \u001b[1;32mIn [5]\u001b[0m, in \u001b[0;36m<cell line: 5>\u001b[1;34m()\u001b[0m\n\u001b[0;32m      2\u001b[0m X \u001b[38;5;241m=\u001b[39m iris\u001b[38;5;241m.\u001b[39mdrop(columns\u001b[38;5;241m=\u001b[39m[\u001b[38;5;124m\"\u001b[39m\u001b[38;5;124mspecies\u001b[39m\u001b[38;5;124m\"\u001b[39m])\n\u001b[0;32m      3\u001b[0m y \u001b[38;5;241m=\u001b[39m iris[\u001b[38;5;124m\"\u001b[39m\u001b[38;5;124mspecies\u001b[39m\u001b[38;5;124m\"\u001b[39m]\n\u001b[1;32m----> 5\u001b[0m out \u001b[38;5;241m=\u001b[39m \u001b[43mDataFramePreprocessor\u001b[49m\u001b[43m(\u001b[49m\u001b[43m)\u001b[49m\u001b[38;5;241;43m.\u001b[39;49m\u001b[43mdataset_overview\u001b[49m\u001b[43m(\u001b[49m\u001b[43mX\u001b[49m\u001b[38;5;241;43m=\u001b[39;49m\u001b[43miris\u001b[49m\u001b[43m,\u001b[49m\u001b[43m \u001b[49m\u001b[43mcorr_threshold\u001b[49m\u001b[38;5;241;43m=\u001b[39;49m\u001b[38;5;241;43m0.8\u001b[39;49m\u001b[43m)\u001b[49m\n\u001b[0;32m      6\u001b[0m out[\u001b[38;5;124m'\u001b[39m\u001b[38;5;124mstats\u001b[39m\u001b[38;5;124m'\u001b[39m]\n",
      "\u001b[1;31mTypeError\u001b[0m: dataset_overview() missing 1 required positional argument: 'self'"
     ]
    }
   ],
   "source": [
    "iris = sns.load_dataset(\"iris\")\n",
    "X = iris.drop(columns=[\"species\"])\n",
    "y = iris[\"species\"]\n",
    "\n",
    "out = DataFramePreprocessor().dataset_overview(X=iris, corr_threshold=0.8)\n",
    "out['stats']"
   ]
  },
  {
   "cell_type": "code",
   "execution_count": null,
   "id": "d05d8ddb",
   "metadata": {},
   "outputs": [
    {
     "name": "stdout",
     "output_type": "stream",
     "text": [
      "Predicted   setosa  versicolor  virginica\n",
      "Actual                                   \n",
      "setosa          50           0          0\n",
      "versicolor       0          50          0\n",
      "virginica        0           0         50\n"
     ]
    },
    {
     "data": {
      "text/plain": [
       "<Axes: xlabel='Predicted', ylabel='Actual'>"
      ]
     },
     "execution_count": 7,
     "metadata": {},
     "output_type": "execute_result"
    },
    {
     "data": {
      "image/png": "[encoded data removed]",
      "text/plain": [
       "<Figure size 432x288 with 1 Axes>"
      ]
     },
     "metadata": {
      "needs_background": "light"
     },
     "output_type": "display_data"
    }
   ],
   "source": [
    "pipeline.fit(X, y)\n",
    "y_pred = pipeline.predict(X)\n",
    "#conf_matrix = pd.crosstab(y, y_pred, rownames=['Actual'], colnames=['Predicted'])\n",
    "conf_matrix = pd.crosstab(y, y_pred, rownames=['Actual'], colnames=['Predicted'])\n",
    "print(conf_matrix)  \n",
    "sns.heatmap(conf_matrix, annot=True, fmt='d', cmap='Blues', cbar=False)"
   ]
  }
 ],
 "metadata": {
  "kernelspec": {
   "display_name": "Python 3",
   "language": "python",
   "name": "python3"
  },
  "language_info": {
   "codemirror_mode": {
    "name": "ipython",
    "version": 3
   },
   "file_extension": ".py",
   "mimetype": "text/x-python",
   "name": "python",
   "nbconvert_exporter": "python",
   "pygments_lexer": "ipython3",
   "version": "3.9.0"
  }
 },
 "nbformat": 4,
 "nbformat_minor": 5
}
